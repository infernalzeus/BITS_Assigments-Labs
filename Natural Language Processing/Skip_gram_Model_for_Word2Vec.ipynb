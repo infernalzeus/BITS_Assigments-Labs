{
  "cells": [
    {
      "cell_type": "markdown",
      "metadata": {
        "id": "t_yvQBKrD8Se"
      },
      "source": [
        "# ** NN & NNLP**\n",
        "\n",
        "## **Skip-gram Model for Word2Vec**\n",
        "\n",
        "<br>\n",
        "\n",
        "\n",
        "\n",
        "There are two Word2Vec architectures for creating word embeddings: the Continuous Bag of Words (CBOW) architecture and the Skip Gram architecture . In this lab, we will obtain our own word embeddings by training a skip-gram neural network model. Some of the code for this will be supplied here but in some sections, you will be required to implement the code yourself. Hints and\n",
        "tips will be provided.\n",
        "\n",
        "\n",
        "The skip gram model is essentially a feedforward neural network with one hidden layer, trained to predict the context word given a target word. There are two ways to train this model: (1) using a hierarchical softmax function and/or (2) by negative sampling. In this lab, we will be training using\n",
        "negative sampling. To train with negative sampling, the model is cast as a binary classification problem. The dataset would consist of positive and negative examples of the form:\n",
        "\n",
        "Input | label\n",
        "--| --\n",
        "(target_word, word_in_its_context)       |  1\n",
        "(target_word, word_not_in_its_context)   |  0\n",
        "\n",
        "created from the sentences in a corpus. The exact number of positive and negative examples will depend on the window size, and the balance ratio of positive:negative examples.  \n",
        "\n",
        "As an example, consider the sentence: “ **The quick brown\n",
        "fox jumped over the lazy dog** ”. For the target word ' **fox** ' and a window size of 2, all the positive and negative examples drawn from this sentence would be:\n",
        "\n",
        "Input | label\n",
        "--| --\n",
        "(fox, the) | 0\n",
        "(fox, quick) | 1\n",
        "(fox, brown) | 1\n",
        "(fox, jumped) | 1\n",
        "(fox, over) |1\n",
        "(fox, lazy) | 0\n",
        "(fox, dog) | 0\n",
        "\n",
        "The model is trained to learn to predict 1 when a word is in the context of the target word (i.e.in the window of the target word) and 0 otherwise. The model thus learns the statistics of the given corpus: the frequency with two words appear together would determine how similar they are (similarity is usually measured using cosine distance). After training, the trained hidden layer weights are the word embeddings.\n",
        "\n"
      ]
    },
    {
      "cell_type": "markdown",
      "metadata": {
        "id": "Ep2X91YdJpkG"
      },
      "source": [
        "### **0. Prepare the environment**\n",
        "\n",
        "Open Google Colab or activate the virtual environment you’ve created"
      ]
    },
    {
      "cell_type": "markdown",
      "metadata": {
        "id": "w6Pi5uvTLRCo"
      },
      "source": [
        "### **1. Downloading the Corpus**\n",
        "\n",
        "Our training data will be comprised of 3 documents from the Gutenberg corpus. We can find this and other corpora in nltk https://www.nltk.org/book/ch02.html"
      ]
    },
    {
      "cell_type": "code",
      "execution_count": null,
      "metadata": {
        "colab": {
          "base_uri": "https://localhost:8080/"
        },
        "id": "xn7sWMG-KoBV",
        "outputId": "4d15ef91-db5f-48ef-d10a-92bd6ac262f1"
      },
      "outputs": [
        {
          "name": "stderr",
          "output_type": "stream",
          "text": [
            "[nltk_data] Downloading package omw-1.4 to /home/jovyan/nltk_data...\n",
            "[nltk_data]   Package omw-1.4 is already up-to-date!\n",
            "[nltk_data] Downloading package punkt to /home/jovyan/nltk_data...\n",
            "[nltk_data]   Package punkt is already up-to-date!\n",
            "[nltk_data] Downloading package stopwords to /home/jovyan/nltk_data...\n",
            "[nltk_data]   Package stopwords is already up-to-date!\n",
            "[nltk_data] Downloading package wordnet to /home/jovyan/nltk_data...\n",
            "[nltk_data]   Package wordnet is already up-to-date!\n",
            "[nltk_data] Downloading package punkt to /home/jovyan/nltk_data...\n",
            "[nltk_data]   Package punkt is already up-to-date!\n",
            "[nltk_data] Downloading package gutenberg to /home/jovyan/nltk_data...\n",
            "[nltk_data]   Package gutenberg is already up-to-date!\n"
          ]
        }
      ],
      "source": [
        "import nltk\n",
        "nltk.download('omw-1.4')\n",
        "nltk.download('punkt')\n",
        "nltk.download('stopwords')\n",
        "nltk.download('wordnet')\n",
        "nltk.download('punkt')\n",
        "nltk.download('gutenberg')\n",
        "import warnings\n",
        "\n",
        "# Ignore all warnings\n",
        "warnings.filterwarnings('ignore')\n",
        "from nltk.corpus import gutenberg\n",
        "austen = gutenberg.sents('austen-sense.txt') + gutenberg.sents('austen-emma.txt') + gutenberg.sents('austen-persuasion.txt')"
      ]
    },
    {
      "cell_type": "markdown",
      "metadata": {
        "id": "PYD16ST1MIOf"
      },
      "source": [
        "**Sanity check:**\n",
        "\n",
        "This training corpus contains 16498 sentences. The following print statement should return 16498."
      ]
    },
    {
      "cell_type": "code",
      "execution_count": null,
      "metadata": {
        "colab": {
          "base_uri": "https://localhost:8080/"
        },
        "id": "yCH0PmPcL83f",
        "outputId": "27015f7a-5751-43e4-876f-d93fe6a847ad"
      },
      "outputs": [
        {
          "name": "stdout",
          "output_type": "stream",
          "text": [
            "16498\n"
          ]
        }
      ],
      "source": [
        "print(len(austen))"
      ]
    },
    {
      "cell_type": "code",
      "execution_count": null,
      "metadata": {
        "colab": {
          "base_uri": "https://localhost:8080/"
        },
        "id": "APFWiEejv9i5",
        "outputId": "b4a0ebf4-2f8f-4d35-c064-e78749d61a13"
      },
      "outputs": [
        {
          "data": {
            "text/plain": [
              "['[', 'Sense', 'and', 'Sensibility', 'by', 'Jane', 'Austen', '1811', ']']"
            ]
          },
          "execution_count": 64,
          "metadata": {},
          "output_type": "execute_result"
        }
      ],
      "source": [
        "austen[0]"
      ]
    },
    {
      "cell_type": "markdown",
      "metadata": {
        "id": "4c14vElNvMGX"
      },
      "source": [
        "### **2. Preprocessing the Training Corpus**\n",
        "\n",
        "In this section, you will write code to remove special characters, empty strings, digits and\n",
        "stopwords from the sentences and put all the words into lower cases. You might also consider removing sentences with fewer than 3 words or at least empty sentences.\n",
        "\n",
        "\n",
        "**Hints:**\n",
        "*   The corpus can be accessed as you would a tokenized list, a list of lists, each inner list contains all the tokens in the sentence. Eg:\n",
        "\\>> austen[0] =['[', 'Sense', 'and', 'Sensibility', 'by','Jane', 'Austen', '1811', ']']\n",
        "\n",
        "*   the python <string> library contains a variable “punctuation”, a string containing all\n",
        "the special characters.\n",
        "\n",
        "*   You might want to write a function that takes the corpus as an argument and returns the preprocessed corpus as a list of lists.\n",
        "\n",
        " Alternatively, you can use the keras preprocessing library to preprocess the text. More information on the library can be found here:\n",
        "https://keras.io/preprocessing/text/\n",
        "\n",
        "\n",
        "**Sanity check:**\n",
        "\n",
        "After preprocessing the corpus, as a sanity check, print the following line of code. If you chose removed sentences of length with fewer than 3 words, it should be about 13651.\n",
        "\n",
        "As a test for your preprocessing function, preprocess the sample below and print the output of your function."
      ]
    },
    {
      "cell_type": "code",
      "execution_count": null,
      "metadata": {
        "id": "eADTN_ZFieKr",
        "outputId": "2285eeb4-a758-4247-f51d-564e0485439e"
      },
      "outputs": [
        {
          "name": "stdout",
          "output_type": "stream",
          "text": [
            "The new length of the preprocessed output :  13843\n"
          ]
        }
      ],
      "source": [
        "import nltk\n",
        "from nltk.corpus import stopwords\n",
        "from nltk.tokenize import word_tokenize\n",
        "from nltk.stem import WordNetLemmatizer, PorterStemmer\n",
        "from string import punctuation\n",
        "import re\n",
        "\n",
        "\n",
        "\n",
        "tokenizer = nltk.RegexpTokenizer(r\"\\w+\") # to tokenize just words not punctuation\n",
        "lemmatizer = WordNetLemmatizer() # WordNet lemmatizer for lemmatization\n",
        "stemmer = PorterStemmer() # Porter stemmer for stemming\n",
        "stoplist = set(stopwords.words('english') + list(punctuation))\n",
        "\n",
        "def preprocess_corpus(corpus):\n",
        "\n",
        "\n",
        "    preprocessed = []\n",
        "\n",
        "    for case in corpus:\n",
        "        case = [sentence for sentence in case if sentence != \"\"]\n",
        "        case = \" \".join(case)\n",
        "\n",
        "        # Remove URLs, email addresses, and any other special characters\n",
        "        case = re.sub(r\"http\\S+\", \"\", case)\n",
        "        case = re.sub(r\"\\S+@\\S+\", \"\", case)\n",
        "        case = re.sub(r\"[^A-Za-z0-9\\s]+\", \"\", case)\n",
        "\n",
        "        case = re.sub(r'\\d+', '', case)\n",
        "        case = case.lower()\n",
        "        words = tokenizer.tokenize(case)\n",
        "        words = [word for word in words if word not in stoplist and len(word) > 2]\n",
        "\n",
        "        words = [lemmatizer.lemmatize(word) for word in words]\n",
        "\n",
        "\n",
        "        if len(words) > 2:\n",
        "            preprocessed.append(words)\n",
        "\n",
        "    return preprocessed\n",
        "\n",
        "\n",
        "\n",
        "normalized_corpus = preprocess_corpus(austen)\n",
        "print('The new length of the preprocessed output : ' , len(normalized_corpus))"
      ]
    },
    {
      "cell_type": "code",
      "execution_count": null,
      "metadata": {
        "id": "tJ1qxoq-8Kob",
        "outputId": "184bf343-75b2-4e5f-c1bc-9f5fe8cc4e08"
      },
      "outputs": [
        {
          "name": "stdout",
          "output_type": "stream",
          "text": [
            "4 [['[', 'Sense', 'and', 'Sensibility', 'by', 'Jane', 'Austen', '1811', ']'], ['CHAPTER', '1'], ['But', ',', 'then', ',', 'if', 'Mrs', '.', 'Dashwood', 'should', 'live', 'fifteen', 'years', 'we', 'shall', 'be', 'completely', 'taken', 'in', '.\"'], ['\"', 'Fifteen', 'years', '!']]\n",
            "\n",
            "2 [['sense', 'sensibility', 'jane', 'austen'], ['mr', 'dashwood', 'live', 'fifteen', 'year', 'shall', 'completely', 'taken']]\n"
          ]
        }
      ],
      "source": [
        "sample = austen[:2] + austen[100:102]\n",
        "preprocessed_sample = preprocess_corpus(sample)\n",
        "\n",
        "\n",
        "print(len(sample), sample)\n",
        "print()\n",
        "print(len(preprocessed_sample), preprocessed_sample)"
      ]
    },
    {
      "cell_type": "markdown",
      "metadata": {
        "id": "rghchHA66d-V"
      },
      "source": [
        "### **3. Creating the Corpus Vocabulary and Preparing the Data**\n",
        "\n",
        "\n",
        "To prepare the data for machine learning, you will write code to prepare 3 variables:\n",
        "\n",
        "1. \\<word2idx>: a lookup table, a dictionary of (word : word index) pairs where **word index** is a unique integer assigned to every **unique word** in the corpus.\n",
        "2. \\<idx2word>: a dictionary of (token index: token ), a reversal of \\<word2idx>.\n",
        "3. \\<sents_as_ids>: The input to the model cannot be text, rather, each word needs to be represented by a unique integer and each sentence an array of integers.\n",
        "\n",
        "\n",
        "The incomplete code provided below is just a guide."
      ]
    },
    {
      "cell_type": "code",
      "execution_count": null,
      "metadata": {
        "id": "gmqUdSuU8PyK"
      },
      "outputs": [],
      "source": [
        "\n",
        "def prepareData(normalized_corpus):\n",
        "    word2idx = {}\n",
        "    idx = 0\n",
        "    for sent in normalized_corpus:\n",
        "        for word in sent:\n",
        "            if word not in word2idx.values():\n",
        "                word2idx[idx] = word\n",
        "                idx+=1\n",
        "\n",
        "\n",
        "    return word2idx\n",
        "\n",
        "word2idx = {value : key for (key, value) in prepareData(normalized_corpus).items()}\n",
        "idx2word = prepareData(normalized_corpus)\n",
        "\n",
        "def prepareSentsAsId(normalized_corpus,word2idx):\n",
        "    '''\n",
        "    '''\n",
        "    sents_as_ids=[]\n",
        "    for sent in normalized_corpus:\n",
        "        sent_id=[]\n",
        "        for word in sent:\n",
        "            sent_id.append(word2idx[word])\n",
        "        sents_as_ids.append(sent_id)\n",
        "    return sents_as_ids\n"
      ]
    },
    {
      "cell_type": "markdown",
      "metadata": {
        "id": "DCa7VGc59bCD"
      },
      "source": [
        "**Sanity Check**\n",
        "\n",
        "Copy and run the following lines of code:\n",
        "\n",
        "```\n",
        "print('Number of unique words:', len(word2idx)**\n",
        "```\n",
        "Returns a number between 9800 and 1200, the exact number depends on your preprocessing step.\n",
        "\n",
        "```\n",
        "print('\\nSample word2idx: ', list(word2idx.items())[:10])\n",
        "```\n",
        "\n",
        "Sample word2idx:  [('sense', 0), ('sensibility', 1), ('jane', 2), ('austen', 3), ('the', 4), ('family', 5), ('dashwood', 6), ('long', 7), ('settled', 8), ('sussex', 9)]\n",
        "\n",
        "\n",
        "```\n",
        "print('\\nSample idx2word:', list(idx2word.items())[:10])**\n",
        "```\n",
        "\n",
        "Sample idx2word: [(1, 'could'), (2, 'would'), (3, 'mr'), (4, 'mrs'), (5, 'must'), (6, 'said'), (7, 'one'), (8, 'much'), (9, 'miss'), (10, 'every')]\n",
        "\n",
        "```\n",
        "print('\\nSample sents_as_id:', prepareSentsAsId(preprocessed_sample))\n",
        "```\n",
        "\n",
        "Sample sents_as_id: [[0, 1, 2, 3], [41, 72, 6, 201, 619, 35, 620, 296, 621]]\n",
        "\n"
      ]
    },
    {
      "cell_type": "markdown",
      "metadata": {
        "id": "Uqw71xzzeYSm"
      },
      "source": [
        "After you have created the three variables, set the <vocab_size> and <embed_size> variables with the following commands:"
      ]
    },
    {
      "cell_type": "code",
      "execution_count": null,
      "metadata": {
        "id": "S_oLTGkXieKv",
        "outputId": "bcc6839f-ced3-4b9a-c7fd-8dff1fc41d7e"
      },
      "outputs": [
        {
          "name": "stdout",
          "output_type": "stream",
          "text": [
            "Number of unique words: 8965\n",
            "\n",
            "Sample word2idx:  [('sense', 0), ('sensibility', 1), ('jane', 2), ('austen', 3), ('family', 4), ('dashwood', 5), ('long', 6), ('settled', 7), ('sussex', 8), ('estate', 9)]\n",
            "\n",
            "Sample idx2word: [(0, 'sense'), (1, 'sensibility'), (2, 'jane'), (3, 'austen'), (4, 'family'), (5, 'dashwood'), (6, 'long'), (7, 'settled'), (8, 'sussex'), (9, 'estate')]\n",
            "\n",
            "Sample sents_as_id: [[0, 1, 2, 3], [67, 5, 190, 575, 33, 576, 279, 577]]\n"
          ]
        }
      ],
      "source": [
        "print('Number of unique words:', len(word2idx))\n",
        "print('\\nSample word2idx: ', list(word2idx.items())[:10])\n",
        "print('\\nSample idx2word:', list(idx2word.items())[:10])\n",
        "print('\\nSample sents_as_id:', prepareSentsAsId(preprocessed_sample,word2idx))"
      ]
    },
    {
      "cell_type": "code",
      "execution_count": null,
      "metadata": {
        "id": "WGsp5Lij8qUd"
      },
      "outputs": [],
      "source": [
        "VOCAB_SIZE = len(word2idx)\n",
        "EMBED_SIZE = 100 # We are creating 100D embeddings."
      ]
    },
    {
      "cell_type": "code",
      "execution_count": null,
      "metadata": {
        "id": "u_yjd5kgqiZi",
        "outputId": "103b53d9-5703-4377-ad62-eca4e4ee69f2"
      },
      "outputs": [
        {
          "name": "stdout",
          "output_type": "stream",
          "text": [
            "Number of unique words: 8965\n"
          ]
        }
      ],
      "source": [
        "print('Number of unique words:', len(word2idx))"
      ]
    },
    {
      "cell_type": "markdown",
      "metadata": {
        "id": "WXhJNdf9TIed"
      },
      "source": [
        "### **4. Generating training instances**\n",
        "\n",
        "\n",
        "In this section we would generate the training examples of the format shown in introduction using the keras skip-gram generator https://keras.io/preprocessing/sequence/"
      ]
    },
    {
      "cell_type": "code",
      "execution_count": null,
      "metadata": {
        "id": "e3g0FLzb7ivg"
      },
      "outputs": [],
      "source": [
        "from keras.preprocessing.sequence import skipgrams\n",
        "\n",
        "\n",
        "# your code for generating training examples goes here\n",
        "# Create an empty list to store skipgrams\n",
        "skip_grams = []\n",
        "\n",
        "# Convert the preprocessed sample to a list of IDs using the word2idx dictionary\n",
        "id_sent = prepareSentsAsId(preprocessed_sample, word2idx)\n",
        "\n",
        "# Generate skipgrams for each sentence in the sample\n",
        "# VOCAB_SIZE is the size of the vocabulary, window_size is the size of the window to consider,\n",
        "# and negative_samples is the number of negative samples to generate for each positive sample\n",
        "# (set to 1.0 to generate the default number of negative samples)\n",
        "for i in id_sent:\n",
        "    skip_grams.append(skipgrams(i, VOCAB_SIZE, window_size=4, negative_samples=1.0, shuffle=True,\n",
        "                                categorical=False, sampling_table=None, seed=None))\n"
      ]
    },
    {
      "cell_type": "markdown",
      "metadata": {
        "id": "EDyy65QlTyf2"
      },
      "source": [
        "**Sanity Check:**\n",
        "\n",
        "To view the skip_grams for the first sentence in the training data, run the line of code that follows. The output should look like:\n",
        "\n",
        "(austen (3), sensibility (1)) -> 1\n",
        "\n",
        "(austen (3), jane (2)) -> 1\n",
        "\n",
        "(jane (2), sensibility (1)) -> 1\n",
        "\n",
        "(jane (2), walked (2639)) -> 0\n",
        "\n",
        "(jane (2), partridge (7948)) -> 0\n",
        "\n",
        "(sensibility (1), austen (3)) -> 1\n",
        "\n",
        "(sensibility (1), beneficial (5587)) -> 0\n",
        "\n",
        "(sensibility (1), jane (2)) -> 1\n",
        "\n",
        "(sensibility (1), dreamt (8308)) -> 0\n",
        "\n",
        "(austen (3), perception (6543)) -> 0\n",
        "\n",
        "(jane (2), austen (3)) -> 1\n",
        "\n",
        "(austen (3), imposing (8622)) -> 0\n"
      ]
    },
    {
      "cell_type": "code",
      "execution_count": null,
      "metadata": {
        "id": "Qa072PMvTvde",
        "outputId": "cb05bd91-2b32-4cb4-87e1-0c5319bd5927"
      },
      "outputs": [
        {
          "name": "stdout",
          "output_type": "stream",
          "text": [
            "(austen (3), sensibility (1)) -> 1\n",
            "(sensibility (1), austen (3)) -> 1\n",
            "(austen (3), jane (2)) -> 1\n",
            "(jane (2), roused (1591)) -> 0\n",
            "(jane (2), history (2207)) -> 0\n",
            "(austen (3), unshaken (3478)) -> 0\n",
            "(jane (2), austen (3)) -> 1\n",
            "(sensibility (1), gipsy (7335)) -> 0\n",
            "(sensibility (1), obligingly (3919)) -> 0\n",
            "(austen (3), disinherited (5496)) -> 0\n",
            "(jane (2), sensibility (1)) -> 1\n",
            "(sensibility (1), jane (2)) -> 1\n"
          ]
        }
      ],
      "source": [
        "pairs, labels = skip_grams[0][0], skip_grams[0][1]\n",
        "\n",
        "for i in range(len(pairs)):\n",
        "         \tprint('({:s} ({:d}), {:s} ({:d})) -> {:d}'.format(\n",
        "        \t# the first word and its index\n",
        "        \tidx2word[pairs[i][0]], pairs[i][0],\n",
        "        \t# the second word and its index\n",
        "        \tidx2word[pairs[i][1]], pairs[i][1],\n",
        "        \t# the label\n",
        "        \tlabels[i]))\n"
      ]
    },
    {
      "cell_type": "markdown",
      "metadata": {
        "id": "uMQJAolZWVLx"
      },
      "source": [
        "### **5. Building the Skip-gram Neural Network Architecture**\n",
        "\n",
        "In this section we would be building the skip-gram neural network architecture using the Keras Functional API and the Sequential model introduced in the previous lab. https://keras.io/getting-started/functional-api-guide/"
      ]
    },
    {
      "cell_type": "code",
      "execution_count": null,
      "metadata": {
        "id": "fi0JmuY-Tlsp"
      },
      "outputs": [],
      "source": [
        "from keras.layers import Dot, Embedding, Input\n",
        "from keras.layers.core import Dense, Reshape\n",
        "from keras.models import Model\n",
        "from keras.utils.vis_utils import plot_model"
      ]
    },
    {
      "cell_type": "markdown",
      "metadata": {
        "id": "22d8UIg-cBOc"
      },
      "source": [
        "The skip-gram model is two input one output feedforward neural network with one hidden layer and this will be built over a series of steps.\n",
        "\n",
        "####**A. The first step is to initialize and transform the first input using the following lines of code:**"
      ]
    },
    {
      "cell_type": "code",
      "execution_count": null,
      "metadata": {
        "id": "ggqykF7WUyGP"
      },
      "outputs": [],
      "source": [
        "# The input is an array of target indices e.g. [2, 45, 7, 23,...9]\n",
        "target_word = Input((1,), dtype='int32')\n",
        "\n",
        "\n",
        "# feed the words into the model using the Keras <Embedding> layer. This is the hidden layer\n",
        "# from whose weights we will get the word embeddings.\n",
        "target_embedding = Embedding(VOCAB_SIZE, EMBED_SIZE, name='target_embed_layer',\n",
        "                        \tembeddings_initializer='glorot_uniform',\n",
        "                         \tinput_length=1)(target_word)\n",
        "\n",
        "\n",
        "# at this point, the input would of the shape (num_inputs x 1 x embed_size) and has to be flattened\n",
        "# or reshaped into a (num_inputs x embed_size) tensor.\n",
        "target_input = Reshape((EMBED_SIZE, ))(target_embedding)"
      ]
    },
    {
      "cell_type": "markdown",
      "metadata": {
        "id": "GXn_SVjHckwL"
      },
      "source": [
        "####**B. Write similar code for the ‘context_word’ input.**"
      ]
    },
    {
      "cell_type": "code",
      "execution_count": null,
      "metadata": {
        "id": "vkCyRztYcMsp"
      },
      "outputs": [],
      "source": [
        "# your code for the context_word goes here\n",
        "# Create an input layer for the context word, with a shape of (1,)\n",
        "context_word = Input((1,), dtype='int32')\n",
        "\n",
        "# Define an Embedding layer to map the context word IDs to their corresponding word embeddings\n",
        "# VOCAB_SIZE is the size of the vocabulary, EMBED_SIZE is the size of the embedding space\n",
        "# input_length is set to 1 because we are inputting one word at a time\n",
        "context_embedding = Embedding(VOCAB_SIZE, EMBED_SIZE, name='context_embed_layer',\n",
        "                              embeddings_initializer='glorot_uniform', input_length=1)(context_word)\n",
        "\n",
        "# Reshape the output of the Embedding layer to remove the extra dimension (i.e., reshape from\n",
        "# (num_inputs x 1 x embed_size) to (num_inputs x embed_size))\n",
        "context_input = Reshape((EMBED_SIZE, ))(context_embedding)\n"
      ]
    },
    {
      "cell_type": "markdown",
      "metadata": {
        "id": "btNWVWRqdBJV"
      },
      "source": [
        "####**C. Merge the inputs.**\n",
        "\n",
        "Recall, each training instance is a (target_word, context_word) combination. Since we are trying to learn the degree of closeness between the two words, the model will compute the cosine distance between the two inputs using the <Dot> layer. https://keras.io/layers/merge/, hence fusing the two inputs into one.\n"
      ]
    },
    {
      "cell_type": "code",
      "execution_count": null,
      "metadata": {
        "id": "WL0_IgA0cYBx"
      },
      "outputs": [],
      "source": [
        "merged_inputs = Dot(axes=-1, normalize=False)([target_input, context_input])"
      ]
    },
    {
      "cell_type": "markdown",
      "metadata": {
        "id": "vQEsxQ6We1Ob"
      },
      "source": [
        "####**D. The Output Layer**\n",
        "\n",
        "Pass the merged inputs (now a vector with a single number the cosine distance between the two input vectors for each word) into a sigmoid activated neuron. The output of this layer is the output of the model.\n",
        "\n",
        "**Hint**: Use the <Dense> layer ( https://keras.io/layers/core/ ), with a ‘sigmoid’ activation function."
      ]
    },
    {
      "cell_type": "code",
      "execution_count": null,
      "metadata": {
        "id": "uAUxsadqcj6Q"
      },
      "outputs": [],
      "source": [
        "# your code for the output layer goes here\n",
        "import numpy as np\n",
        "from tensorflow.keras import layers\n",
        "from keras.layers import Activation\n",
        "\n",
        "# Define the output layer of the model using the merged_inputs tensor from the previous step\n",
        "# The output layer should have a single output node, since we are performing binary classification\n",
        "# We use the sigmoid activation function to ensure that the output is between 0 and 1\n",
        "label = Activation('sigmoid')(merged_inputs)\n"
      ]
    },
    {
      "cell_type": "markdown",
      "metadata": {
        "id": "yQk1Yj8wfXrF"
      },
      "source": [
        "####**E. Initialize the model:**"
      ]
    },
    {
      "cell_type": "code",
      "execution_count": null,
      "metadata": {
        "id": "YHRICxY7cdBB"
      },
      "outputs": [],
      "source": [
        "# label is the output of step D.\n",
        "model = Model(inputs=[target_word, context_word], outputs=[label])"
      ]
    },
    {
      "cell_type": "markdown",
      "metadata": {
        "id": "DdbRI0TGVZIt"
      },
      "source": [
        "####**F. Compile the model using the <model.compile> command.** Use Loss = ‘mean_squared_error’, optimizer = ‘rmsprop’."
      ]
    },
    {
      "cell_type": "code",
      "execution_count": null,
      "metadata": {
        "id": "5LtWvavefueu"
      },
      "outputs": [],
      "source": [
        "# your code here\n",
        "model.compile(loss=\"mse\", optimizer=\"rmsprop\")"
      ]
    },
    {
      "cell_type": "markdown",
      "metadata": {
        "id": "GC7IShG_fczC"
      },
      "source": [
        "**Sanity check:**\n",
        "\n",
        "Visualize the model and the model summary by running the following lines of code.\n",
        "view the model summary"
      ]
    },
    {
      "cell_type": "code",
      "execution_count": null,
      "metadata": {
        "colab": {
          "base_uri": "https://localhost:8080/"
        },
        "id": "e0ki6JDkgJNA",
        "outputId": "2650bb8b-ee67-4722-c5bd-72c880d4b897"
      },
      "outputs": [
        {
          "name": "stdout",
          "output_type": "stream",
          "text": [
            "Model: \"model_3\"\n",
            "__________________________________________________________________________________________________\n",
            " Layer (type)                   Output Shape         Param #     Connected to                     \n",
            "==================================================================================================\n",
            " input_7 (InputLayer)           [(None, 1)]          0           []                               \n",
            "                                                                                                  \n",
            " input_8 (InputLayer)           [(None, 1)]          0           []                               \n",
            "                                                                                                  \n",
            " target_embed_layer (Embedding)  (None, 1, 100)      896500      ['input_7[0][0]']                \n",
            "                                                                                                  \n",
            " context_embed_layer (Embedding  (None, 1, 100)      896500      ['input_8[0][0]']                \n",
            " )                                                                                                \n",
            "                                                                                                  \n",
            " reshape_6 (Reshape)            (None, 100)          0           ['target_embed_layer[0][0]']     \n",
            "                                                                                                  \n",
            " reshape_7 (Reshape)            (None, 100)          0           ['context_embed_layer[0][0]']    \n",
            "                                                                                                  \n",
            " dot_3 (Dot)                    (None, 1)            0           ['reshape_6[0][0]',              \n",
            "                                                                  'reshape_7[0][0]']              \n",
            "                                                                                                  \n",
            " activation_3 (Activation)      (None, 1)            0           ['dot_3[0][0]']                  \n",
            "                                                                                                  \n",
            "==================================================================================================\n",
            "Total params: 1,793,000\n",
            "Trainable params: 1,793,000\n",
            "Non-trainable params: 0\n",
            "__________________________________________________________________________________________________\n"
          ]
        }
      ],
      "source": [
        "model.summary()"
      ]
    },
    {
      "cell_type": "markdown",
      "metadata": {
        "id": "3VVPnyFhgVr9"
      },
      "source": [
        "####**G. Plot the model using ```vis utils```.**"
      ]
    },
    {
      "cell_type": "code",
      "execution_count": null,
      "metadata": {
        "colab": {
          "base_uri": "https://localhost:8080/",
          "height": 450
        },
        "id": "vvfO-ensggr4",
        "outputId": "9b7bdbc3-f3a9-47f5-bbda-7b0554007aa3"
      },
      "outputs": [
        {
          "data": {
            "text/plain": [
              "\"\\nfrom IPython.display import SVG\\nfrom keras.utils import vis_utils\\nSVG(vis_utils.model_to_dot(model, show_shapes=True, show_layer_names=True, dpi=60).create(prog='dot', format='svg'))  \\n\""
            ]
          },
          "execution_count": 81,
          "metadata": {},
          "output_type": "execute_result"
        }
      ],
      "source": [
        "# You must install pydot (`pip install pydot`) and install graphviz (see instructions at https://graphviz.gitlab.io/download/) for plot_model/model_to_dot to work.\n",
        "\"\"\"\n",
        "from IPython.display import SVG\n",
        "from keras.utils import vis_utils\n",
        "SVG(vis_utils.model_to_dot(model, show_shapes=True, show_layer_names=True, dpi=60).create(prog='dot', format='svg'))\n",
        "\"\"\""
      ]
    },
    {
      "cell_type": "markdown",
      "metadata": {
        "id": "zbOcZD6igpxy"
      },
      "source": [
        "###**6.Training the Model**\n",
        "\n",
        "Run the following block of code to train the model for 5 epochs:"
      ]
    },
    {
      "cell_type": "code",
      "execution_count": null,
      "metadata": {
        "colab": {
          "base_uri": "https://localhost:8080/"
        },
        "id": "RmQN4r52gmLR",
        "outputId": "150a15d1-f2c4-4ec3-97be-38ccf05885f5"
      },
      "outputs": [
        {
          "name": "stdout",
          "output_type": "stream",
          "text": [
            "Processed 0 sentences\n",
            "Processed all 1 sentences\n",
            "Epoch: 1 Loss: 0.49997082352638245 \n",
            "\n",
            "Processed 0 sentences\n",
            "Processed all 1 sentences\n",
            "Epoch: 2 Loss: 0.4975963979959488 \n",
            "\n",
            "Processed 0 sentences\n",
            "Processed all 1 sentences\n",
            "Epoch: 3 Loss: 0.495539590716362 \n",
            "\n",
            "Processed 0 sentences\n",
            "Processed all 1 sentences\n",
            "Epoch: 4 Loss: 0.4933820366859436 \n",
            "\n",
            "Processed 0 sentences\n",
            "Processed all 1 sentences\n",
            "Epoch: 5 Loss: 0.49104589223861694 \n",
            "\n"
          ]
        }
      ],
      "source": [
        "import numpy as np\n",
        "\n",
        "NUM_EPOCHS = 5\n",
        "\n",
        "for epoch in range(1, NUM_EPOCHS+1):\n",
        "    epoch_loss = 0\n",
        "    for i, sent_examples in enumerate(skip_grams):\n",
        "        target_wds = np.array([pair[0] for pair in sent_examples[0]], dtype='int32')\n",
        "        context_wds = np.array([pair[1] for pair in sent_examples[0]], dtype='int32')\n",
        "        labels = np.array(sent_examples[1], dtype='int32')\n",
        "        X = [target_wds, context_wds]\n",
        "        Y = labels\n",
        "        if i % 5000 == 0:\n",
        "        \tprint('Processed %d sentences' %i)\n",
        "        epoch_loss += model.train_on_batch(X, Y)\n",
        "    print('Processed all %d sentences' %i)\n",
        "    print('Epoch:', epoch, 'Loss:', epoch_loss, '\\n')\n",
        "\n"
      ]
    },
    {
      "cell_type": "markdown",
      "metadata": {
        "id": "Sj6BiOKfiI7R"
      },
      "source": [
        "The training takes about 10 minutes to run.\n",
        "\n",
        "<br>\n",
        "\n",
        "In the introduction, we outlined two approaches to training using the skipgram architecture. In this tutorial, we implemented the negative sampling training approach. While waiting for the training to complete, read this article http://mccormickml.com/2016/04/19/word2vec-tutorial-the-skip-gram-model/. It contains the skipgram model with softmax training.\n",
        "\n",
        "<br>\n",
        "\n",
        "After reading the article, answer the following questions:  \n",
        "●\tWhat would the inputs and outputs to the model be?\n",
        "\n",
        "●\tHow would you use the Keras framework to create this architecture?\n",
        "\n",
        "●\tWhat are the reasons this training approach is\n",
        "considered inefficient?\n"
      ]
    },
    {
      "cell_type": "markdown",
      "metadata": {
        "id": "Bwz_8kTZ6UVF"
      },
      "source": [
        "###**7. Getting the Word Embeddings**\n",
        "\n",
        "The word embeddings are the weights of the target word embedding layer.\n"
      ]
    },
    {
      "cell_type": "code",
      "execution_count": null,
      "metadata": {
        "colab": {
          "base_uri": "https://localhost:8080/"
        },
        "id": "kiQTO6VgcN90",
        "outputId": "1b1a5d3f-6bc9-4aba-c63f-f6124ec292eb"
      },
      "outputs": [
        {
          "name": "stdout",
          "output_type": "stream",
          "text": [
            "(8965, 100)\n"
          ]
        }
      ],
      "source": [
        "word_embeddings = model.get_layer('target_embed_layer').get_weights()[0]\n",
        "\n",
        "# should return (VOCAB_SIZE, EMBED_SIZE)\n",
        "print(word_embeddings.shape)"
      ]
    },
    {
      "cell_type": "markdown",
      "metadata": {
        "id": "33-QRJFv6v5t"
      },
      "source": [
        "Print out a few words and their embeddings using the next block of code. Your output may not be exactly as above but the command should print 10 words and their respective vectors."
      ]
    },
    {
      "cell_type": "code",
      "execution_count": null,
      "metadata": {
        "colab": {
          "base_uri": "https://localhost:8080/"
        },
        "id": "HffZwwLUcXb1",
        "outputId": "d95c4478-d192-4906-846b-5b4fafa6f2af"
      },
      "outputs": [
        {
          "name": "stdout",
          "output_type": "stream",
          "text": [
            "                   0         1         2         3         4         5   \\\n",
            "sense        0.002816 -0.011145  0.013473 -0.015258  0.015316 -0.001264   \n",
            "sensibility  0.021333  0.035251  0.026834  0.000924 -0.019110  0.015577   \n",
            "jane        -0.003274 -0.018048  0.017573  0.030795 -0.016768 -0.022282   \n",
            "austen      -0.010424 -0.013899 -0.012009 -0.001534 -0.028349 -0.031677   \n",
            "family      -0.011819 -0.004997 -0.023265 -0.010452  0.008122  0.012526   \n",
            "dashwood     0.002921  0.023213  0.006959 -0.024208  0.019183  0.024611   \n",
            "long         0.009618  0.023686  0.005418  0.013378 -0.015319  0.023462   \n",
            "settled     -0.022456 -0.000302  0.018215  0.002008  0.016440  0.015278   \n",
            "sussex       0.004042  0.021478  0.012579 -0.008188  0.003048 -0.010888   \n",
            "estate      -0.018731 -0.018568 -0.010485 -0.003252  0.019276  0.002923   \n",
            "\n",
            "                   6         7         8         9   ...        90        91  \\\n",
            "sense        0.020610  0.023645  0.025137 -0.022717  ...  0.011759  0.020278   \n",
            "sensibility -0.005727  0.019363 -0.034633 -0.030693  ...  0.012976 -0.015428   \n",
            "jane        -0.012930 -0.002439 -0.022138  0.025863  ... -0.011684 -0.014042   \n",
            "austen      -0.023837 -0.004543 -0.011759  0.031078  ... -0.016619 -0.011950   \n",
            "family       0.019467  0.015945  0.007969  0.000503  ... -0.008610 -0.001428   \n",
            "dashwood    -0.013493  0.024336 -0.002662  0.005837  ...  0.026572  0.031812   \n",
            "long        -0.002421  0.019193  0.009225 -0.021589  ...  0.004416 -0.004964   \n",
            "settled     -0.014322 -0.022629 -0.001774 -0.006535  ...  0.001696  0.009635   \n",
            "sussex      -0.000421  0.016870 -0.024091 -0.006030  ...  0.000833  0.011592   \n",
            "estate       0.022858  0.018672 -0.022990 -0.011624  ...  0.001178 -0.004128   \n",
            "\n",
            "                   92        93        94        95        96        97  \\\n",
            "sense       -0.012014  0.011659  0.024762 -0.016756 -0.009881  0.019797   \n",
            "sensibility  0.019612  0.017310  0.030447 -0.035648 -0.008950 -0.014652   \n",
            "jane         0.015230  0.026224 -0.005026  0.022993  0.009463  0.022096   \n",
            "austen       0.023199  0.018547  0.003484 -0.011358  0.000391 -0.016595   \n",
            "family      -0.020702  0.017520 -0.004761  0.014191 -0.000955  0.001423   \n",
            "dashwood    -0.019110  0.014704 -0.031176  0.021002  0.022432  0.002200   \n",
            "long        -0.016476  0.003352  0.004251 -0.018425 -0.012715 -0.013135   \n",
            "settled      0.006795  0.007197  0.002730  0.020854 -0.004148  0.012826   \n",
            "sussex      -0.004742  0.016926  0.009337 -0.010770 -0.016037 -0.023249   \n",
            "estate       0.020495  0.023336 -0.025267  0.015580  0.012396 -0.005621   \n",
            "\n",
            "                   98        99  \n",
            "sense       -0.004967  0.006040  \n",
            "sensibility -0.024437  0.031983  \n",
            "jane        -0.025460  0.004394  \n",
            "austen      -0.010792 -0.010214  \n",
            "family      -0.006317 -0.019392  \n",
            "dashwood     0.021648  0.018796  \n",
            "long         0.013155  0.015435  \n",
            "settled      0.024412 -0.015289  \n",
            "sussex      -0.015733 -0.008384  \n",
            "estate       0.012926 -0.021671  \n",
            "\n",
            "[10 rows x 100 columns]\n"
          ]
        }
      ],
      "source": [
        "from pandas import DataFrame\n",
        "\n",
        "print(DataFrame(word_embeddings, index=idx2word.values()).head(10))"
      ]
    },
    {
      "cell_type": "markdown",
      "metadata": {
        "id": "-Ki8NtrS7ezr"
      },
      "source": [
        "###**8.  Measuring Similarity Between Word Pairs**\n",
        "\n"
      ]
    },
    {
      "cell_type": "code",
      "execution_count": null,
      "metadata": {
        "id": "dbb-uoe666oV",
        "outputId": "0bf913e2-aca5-4e5f-8043-0b5c13d10a8f"
      },
      "outputs": [
        {
          "name": "stdout",
          "output_type": "stream",
          "text": [
            "(8965, 8965)\n"
          ]
        }
      ],
      "source": [
        "from sklearn.metrics.pairwise import cosine_similarity\n",
        "\n",
        "similarity_matrix = cosine_similarity(word_embeddings)\n",
        "\n",
        "# should print(VOCAB_SIZE, VOCAB_SIZE)\n",
        "print(similarity_matrix.shape)"
      ]
    },
    {
      "cell_type": "markdown",
      "metadata": {
        "id": "k0fyfgvB90G5"
      },
      "source": [
        "###**9. Exploring and Visualizing your Word Embeddings using t-SNE**\n",
        "\n",
        "**A.\tGet the most similar words to the search items in the list below**\n",
        "\n",
        "search_terms = ['family', 'love', 'equality', 'wisdom', 'justice',  'humour', 'rejection']\n",
        "\n",
        "\n",
        "**Sanity check:**\n",
        "The similar words obtained would depend on your training but the above command should print a dictionary. Each key is a search term and each value is a list of the 5 words the model predicts to be most similar to the key word.\n"
      ]
    },
    {
      "cell_type": "code",
      "execution_count": null,
      "metadata": {
        "colab": {
          "base_uri": "https://localhost:8080/"
        },
        "id": "hWbSfqYschRs",
        "outputId": "ed9a75a6-3960-473d-afbf-ac430e659e69"
      },
      "outputs": [
        {
          "name": "stdout",
          "output_type": "stream",
          "text": [
            "Search term: think\n",
            "Similar words: \n",
            "['think', 'peace', 'archly', 'softened', 'perplexity']\n",
            "Search term: thought\n",
            "Similar words: \n",
            "['thought', 'pier', 'trick', 'native', 'comfortless']\n",
            "Search term: mr\n",
            "Similar words: \n",
            "['mr', 'stationary', 'sinned', 'toilsome', 'flourishing']\n",
            "Search term: friend\n",
            "Similar words: \n",
            "['friend', 'agreement', 'forget', 'skilful', 'extorted']\n",
            "Search term: love\n",
            "Similar words: \n",
            "['love', 'unhealthy', 'missed', 'composition', 'bleak']\n",
            "Search term: disdain\n",
            "Similar words: \n",
            "['disdain', 'elegant', 'admirable', 'lamb', 'containing']\n"
          ]
        }
      ],
      "source": [
        "import numpy\n",
        "import operator\n",
        "import itertools\n",
        "search_terms = ['think', 'thought', 'mr', 'friend', 'love', 'disdain']\n",
        "\n",
        "# write code to get the 5 words most similar to the words in search_terms\n",
        "# Create an empty dictionary to store similar words for each search term\n",
        "similar_words = dict()\n",
        "\n",
        "# Define a function to return the first n items of an iterable object as a list\n",
        "def take(n, iterable):\n",
        "    return list(islice(iterable, n))\n",
        "\n",
        "# Iterate over each search term in the list\n",
        "for search_word in search_terms:\n",
        "\n",
        "    # Get the index of the current search term in the word2idx dictionary\n",
        "    index = word2idx[search_word]\n",
        "\n",
        "    # Retrieve the similarity scores for the current search term from the similarity matrix\n",
        "    similar_word_vector = similarity_matrix[index]\n",
        "\n",
        "    # Create a dictionary with each key being a word in the vocabulary and the corresponding value being the similarity score\n",
        "    similar_word_dict = {idx2word[i]:similar_word_vector[i] for i in range(len(similar_word_vector))}\n",
        "\n",
        "    # Sort the dictionary based on the similarity scores in descending order\n",
        "    sorted_items = dict(sorted(similar_word_dict.items(), key=operator.itemgetter(1), reverse=True))\n",
        "\n",
        "    # Get the top 5 similar words for the current search term and add them to the similar_words dictionary\n",
        "    out = dict(itertools.islice(sorted_items.items(), 5))\n",
        "    similar_words[search_word] = list(out.keys())\n",
        "\n",
        "    # Print the similar words for the current search term\n",
        "    print('Search term: '+search_word)\n",
        "    print('Similar words: ')\n",
        "    print(similar_words[search_word])\n",
        "\n"
      ]
    },
    {
      "cell_type": "markdown",
      "metadata": {
        "id": "5I_X9W-vGXiZ"
      },
      "source": [
        "**B. Plot the words in the dictionary above using t-SN**E\n",
        "\n",
        "1.   List item\n",
        "\n",
        "1.   List item\n",
        "2.   List item\n",
        "\n",
        "\n",
        "2.   List item\n",
        "\n",
        "https://lvdmaaten.github.io/tsne/\n",
        "\n",
        "Plot 50 of the word embeddings using the code snippets below:\n",
        "\n",
        "\n",
        "\n",
        "\n",
        "\n",
        "\n",
        "\n",
        "\n",
        "\n",
        "\n",
        "\n",
        "\n"
      ]
    },
    {
      "cell_type": "code",
      "execution_count": null,
      "metadata": {
        "colab": {
          "base_uri": "https://localhost:8080/",
          "height": 482
        },
        "id": "FMnyCjS4cnb8",
        "outputId": "199acfb7-fef3-47d4-9dfa-32f534a7e498",
        "scrolled": true
      },
      "outputs": [
        {
          "data": {
            "image/png": "[encoded data removed]",
            "text/plain": [
              "<Figure size 1008x576 with 1 Axes>"
            ]
          },
          "metadata": {
            "needs_background": "light"
          },
          "output_type": "display_data"
        }
      ],
      "source": [
        "from sklearn.manifold import TSNE\n",
        "import matplotlib.pyplot as plt\n",
        "\n",
        "\n",
        "tsne = TSNE(perplexity=3, n_components=2, init='pca', n_iter=5000, method='exact')\n",
        "np.set_printoptions(suppress=True)\n",
        "plot_only = 50\n",
        "\n",
        "T = tsne.fit_transform(word_embeddings[:plot_only, :])\n",
        "labels = [idx2word[i+1] for i in range(plot_only)]\n",
        "plt.figure(figsize=(14, 8))\n",
        "plt.scatter(T[:, 0], T[:, 1])\n",
        "for label, x, y in zip(labels, T[:, 0], T[:, 1]):\n",
        "    plt.annotate(label, xy=(x+1, y+1), xytext=(0, 0), textcoords='offset points', ha='right', va='bottom')\n",
        "\n"
      ]
    },
    {
      "cell_type": "markdown",
      "metadata": {
        "id": "OsCVTRUMP1qi"
      },
      "source": [
        "**10. Resources used**\n",
        "\n",
        "http://jalammar.github.io/illustrated-word2vec/\n",
        "https://adventuresinmachinelearning.com/word2vec-tutorial-tensorflow/\n",
        "https://towardsdatascience.com/understanding-feature-engineering-part-4-deep-learning-methods-for-text-data-96c44370bbfa\n",
        "https://adventuresinmachinelearning.com/word2vec-keras-tutorial/\n",
        "https://www.tensorflow.org/tutorials/representation/word2vec#the_skip-gram_model\n",
        "https://github.com/tensorflow/tensorflow/blob/master/tensorflow/examples/tutorials/word2vec/word2vec_basic.py\n",
        "\n"
      ]
    },
    {
      "cell_type": "code",
      "execution_count": null,
      "metadata": {
        "id": "HCAYO90bV-DR"
      },
      "outputs": [],
      "source": []
    },
    {
      "cell_type": "code",
      "execution_count": null,
      "metadata": {
        "id": "1B0cJkWTieMS"
      },
      "outputs": [],
      "source": []
    }
  ],
  "metadata": {
    "colab": {
      "provenance": []
    },
    "kernelspec": {
      "display_name": "Python 3 (ipykernel)",
      "language": "python",
      "name": "python3"
    },
    "language_info": {
      "codemirror_mode": {
        "name": "ipython",
        "version": 3
      },
      "file_extension": ".py",
      "mimetype": "text/x-python",
      "name": "python",
      "nbconvert_exporter": "python",
      "pygments_lexer": "ipython3",
      "version": "3.10.5"
    }
  },
  "nbformat": 4,
  "nbformat_minor": 0
}
