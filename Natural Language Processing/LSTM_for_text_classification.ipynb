{
  "cells": [
    {
      "cell_type": "markdown",
      "metadata": {
        "id": "t_yvQBKrD8Se"
      },
      "source": [
        "# **NN & NNLP**\n",
        "\n",
        "## **LSTM for Text Classification**\n",
        "\n",
        "<br>\n",
        "\n",
        "Trained word embeddings by casting the unsupervised learning problem as a binary classification problem (in the skip-gram model). This notebook shows building an LSTM model to classify movie reviews as either positive or negative. After training, will extract the word embeddings learned by the model.\n",
        "\n"
      ]
    },
    {
      "cell_type": "markdown",
      "metadata": {
        "id": "Ep2X91YdJpkG"
      },
      "source": [
        "### **0. Prepare the environment**\n",
        "\n",
        "Open Google Colab or activate the virtual environment you’ve created"
      ]
    },
    {
      "cell_type": "markdown",
      "metadata": {
        "id": "w6Pi5uvTLRCo"
      },
      "source": [
        "### **1. Getting the Dataset**\n",
        "This is a dataset of 25,000 movie reviews from IMDB, labeled by sentiment - positive (1) or negative (0).\n",
        "<br>\n",
        "\n",
        "The reviews have been preprocessed, and each review is encoded as a list of word indices. In skip-gram model, we assigned the indices to the word randomly (or in order of their first appearance in the corpus) but in this preprocessed corpus, the words are indexed by overall frequency in the dataset, such that a word with index 3 occurs more frequently than a word with index 10.\n",
        "<br>\n",
        "\n",
        "In the following blocks of code in this section, we will load and visualize the data.\n"
      ]
    },
    {
      "cell_type": "code",
      "execution_count": null,
      "metadata": {
        "id": "xn7sWMG-KoBV"
      },
      "outputs": [],
      "source": [
        "from tensorflow.keras import datasets\n",
        "\n",
        "imdb = datasets.imdb"
      ]
    },
    {
      "cell_type": "code",
      "execution_count": null,
      "metadata": {
        "id": "yCH0PmPcL83f"
      },
      "outputs": [],
      "source": [
        "%%capture\n",
        "\n",
        "# we'll use the most frequent 10000 words in the vocabulary\n",
        "VOCAB_SIZE = 10000\n",
        "\n",
        "# 0 is reserved for ‘<PAD>’, 1 for ‘<START>’ and 2 for ‘<UNK>’ i.e. words not in vocabulary\n",
        "# the documentation says index_from = 3 but actually uses the value as an offset. The words\n",
        "# in the dictionary are indexed from 1 by default so, saying index_from=3 means any actual\n",
        "# words would start from 4 (1+3) and index 3 will be left unused. We use index_from=offset=2 to avoid this\n",
        "# If you want to explore this further, you may look up the source_code for load_data here\n",
        "# https://github.com/tensorflow/tensorflow/blob/v2.4.1/tensorflow/python/keras/datasets/imdb.py#L31-L162\n",
        "OFFSET = 2\n",
        "\n",
        "# for more information on the load_data method, type(help(load_data))\n",
        "(train_data,train_labels),(test_data,test_labels) = imdb.load_data(num_words=VOCAB_SIZE, index_from=OFFSET)"
      ]
    },
    {
      "cell_type": "markdown",
      "metadata": {
        "id": "lVgaL5JIYBRm"
      },
      "source": [
        "***Sanity Check***\n",
        "\n",
        "Each instance in the training data is a list of word indices representing the words in a movie review.\n",
        "\n",
        "Each label is 1 if that review is positive, else 0."
      ]
    },
    {
      "cell_type": "code",
      "execution_count": null,
      "metadata": {
        "colab": {
          "base_uri": "https://localhost:8080/"
        },
        "id": "APFWiEejv9i5",
        "outputId": "9557b916-9029-4314-9190-83af7224f2d4"
      },
      "outputs": [
        {
          "name": "stdout",
          "output_type": "stream",
          "text": [
            "Sample review: [1, 13, 21, 15, 42, 529, 972, 1621, 1384, 64, 457, 4467, 65, 3940, 3, 172, 35, 255, 4, 24, 99, 42, 837, 111, 49, 669, 2, 8, 34, 479, 283, 4, 149, 3, 171, 111, 166, 2, 335, 384, 38, 3, 171, 4535, 1110, 16, 545, 37, 12, 446, 3, 191, 49, 15, 5, 146, 2024, 18, 13, 21, 3, 1919, 4612, 468, 3, 21, 70, 86, 11, 15, 42, 529, 37, 75, 14, 12, 1246, 3, 21, 16, 514, 16, 11, 15, 625, 17, 2, 4, 61, 385, 11, 7, 315, 7, 105, 4, 3, 2222, 5243, 15, 479, 65, 3784, 32, 3, 129, 11, 15, 37, 618, 4, 24, 123, 50, 35, 134, 47, 24, 1414, 32, 5, 21, 11, 214, 27, 76, 51, 4, 13, 406, 15, 81, 2, 7, 3, 106, 116, 5951, 14, 255, 3, 2, 6, 3765, 4, 722, 35, 70, 42, 529, 475, 25, 399, 316, 45, 6, 3, 2, 1028, 12, 103, 87, 3, 380, 14, 296, 97, 31, 2070, 55, 25, 140, 5, 193, 7485, 17, 3, 225, 21, 20, 133, 475, 25, 479, 4, 143, 29, 5534, 17, 50, 35, 27, 223, 91, 24, 103, 3, 225, 64, 15, 37, 1333, 87, 11, 15, 282, 4, 15, 4471, 112, 102, 31, 14, 15, 5344, 18, 177, 31]\n"
          ]
        }
      ],
      "source": [
        "print('Sample review:', train_data[0])"
      ]
    },
    {
      "cell_type": "code",
      "execution_count": null,
      "metadata": {
        "colab": {
          "base_uri": "https://localhost:8080/"
        },
        "id": "CwgeiaF7n_lX",
        "outputId": "ffd03985-c8ef-46e1-8046-5f16ec8e76cc"
      },
      "outputs": [
        {
          "name": "stdout",
          "output_type": "stream",
          "text": [
            "\n",
            " Sample label: 1\n"
          ]
        }
      ],
      "source": [
        "print('\\n Sample label:', train_labels[0])"
      ]
    },
    {
      "cell_type": "markdown",
      "metadata": {
        "id": "4c14vElNvMGX"
      },
      "source": [
        "### **2. Readying the Inputs for the LSTM**\n",
        "\n",
        "The movie reviews are of different lengths. The standard way of dealing with varying length inputs is to ***pad*** or ***truncate*** each sentence to a fixed length (which we choose heuristically).\n",
        "\n",
        "Keras provides a way to do this.  In this section, you will use the keras.preprocessing.sequence method <pad_sequences> handle padding and truncating.\n",
        "\n",
        "**Hints**\n",
        "\n",
        "*  help(pad_sequences) will give you more information about how this works.\n",
        "*  You can experiment with 'pre' vs 'post' padding/truncating. In practice, 'pre' padding is more effective for our purposes; can you hypothesize about why this is?\n",
        "*  Since we have reserved 0 for \\<PAD\\>, your pad value should be set to 0.\n",
        "*  The maximum length has been specified below as MAX_LENGTH."
      ]
    },
    {
      "cell_type": "code",
      "execution_count": null,
      "metadata": {
        "id": "7XPwN_COagT9"
      },
      "outputs": [],
      "source": [
        "# from keras.preprocessing.sequence import pad_sequences\n",
        "# from tensorflow.keras.preprocessing.sequence import pad_sequences\n",
        "# from keras_preprocessing.sequence import pad_sequences\n",
        "from tensorflow.keras.utils import pad_sequences\n",
        "\n",
        "\n",
        "MAX_LENGHT = 500\n",
        "\n",
        "# YOUR CODE GOES HERE\n",
        "padded_train_data = pad_sequences(train_data, padding=\"pre\",\n",
        "                                  maxlen=MAX_LENGHT,\n",
        "                                  truncating=\"pre\",\n",
        "                                  value=0.0)\n",
        "padded_test_data = pad_sequences(test_data,\n",
        "                                 padding=\"pre\",\n",
        "                                 maxlen=MAX_LENGHT,\n",
        "                                 truncating=\"pre\",\n",
        "                                 value=0.0)"
      ]
    },
    {
      "cell_type": "markdown",
      "metadata": {
        "id": "RhrUvhC2dO87"
      },
      "source": [
        "***Sanity Check***\n",
        "\n",
        "For the first training example, print its length and the padded sequence to see the effect of your padding process.\n",
        "\n",
        "PS: Pre-padding was used for the output you see below."
      ]
    },
    {
      "cell_type": "code",
      "execution_count": null,
      "metadata": {
        "colab": {
          "base_uri": "https://localhost:8080/"
        },
        "id": "DZb7keBfdKc_",
        "outputId": "7cf302ed-8e54-4a13-fe19-7d90baaa5fd8"
      },
      "outputs": [
        {
          "name": "stdout",
          "output_type": "stream",
          "text": [
            "Length of sample train_data before preprocessing: 218\n",
            "Length of sample train_data after preprocessing: 500\n",
            "Sample train data: [   0    0    0    0    0    0    0    0    0    0    0    0    0    0\n",
            "    0    0    0    0    0    0    0    0    0    0    0    0    0    0\n",
            "    0    0    0    0    0    0    0    0    0    0    0    0    0    0\n",
            "    0    0    0    0    0    0    0    0    0    0    0    0    0    0\n",
            "    0    0    0    0    0    0    0    0    0    0    0    0    0    0\n",
            "    0    0    0    0    0    0    0    0    0    0    0    0    0    0\n",
            "    0    0    0    0    0    0    0    0    0    0    0    0    0    0\n",
            "    0    0    0    0    0    0    0    0    0    0    0    0    0    0\n",
            "    0    0    0    0    0    0    0    0    0    0    0    0    0    0\n",
            "    0    0    0    0    0    0    0    0    0    0    0    0    0    0\n",
            "    0    0    0    0    0    0    0    0    0    0    0    0    0    0\n",
            "    0    0    0    0    0    0    0    0    0    0    0    0    0    0\n",
            "    0    0    0    0    0    0    0    0    0    0    0    0    0    0\n",
            "    0    0    0    0    0    0    0    0    0    0    0    0    0    0\n",
            "    0    0    0    0    0    0    0    0    0    0    0    0    0    0\n",
            "    0    0    0    0    0    0    0    0    0    0    0    0    0    0\n",
            "    0    0    0    0    0    0    0    0    0    0    0    0    0    0\n",
            "    0    0    0    0    0    0    0    0    0    0    0    0    0    0\n",
            "    0    0    0    0    0    0    0    0    0    0    0    0    0    0\n",
            "    0    0    0    0    0    0    0    0    0    0    0    0    0    0\n",
            "    0    0    1   13   21   15   42  529  972 1621 1384   64  457 4467\n",
            "   65 3940    3  172   35  255    4   24   99   42  837  111   49  669\n",
            "    2    8   34  479  283    4  149    3  171  111  166    2  335  384\n",
            "   38    3  171 4535 1110   16  545   37   12  446    3  191   49   15\n",
            "    5  146 2024   18   13   21    3 1919 4612  468    3   21   70   86\n",
            "   11   15   42  529   37   75   14   12 1246    3   21   16  514   16\n",
            "   11   15  625   17    2    4   61  385   11    7  315    7  105    4\n",
            "    3 2222 5243   15  479   65 3784   32    3  129   11   15   37  618\n",
            "    4   24  123   50   35  134   47   24 1414   32    5   21   11  214\n",
            "   27   76   51    4   13  406   15   81    2    7    3  106  116 5951\n",
            "   14  255    3    2    6 3765    4  722   35   70   42  529  475   25\n",
            "  399  316   45    6    3    2 1028   12  103   87    3  380   14  296\n",
            "   97   31 2070   55   25  140    5  193 7485   17    3  225   21   20\n",
            "  133  475   25  479    4  143   29 5534   17   50   35   27  223   91\n",
            "   24  103    3  225   64   15   37 1333   87   11   15  282    4   15\n",
            " 4471  112  102   31   14   15 5344   18  177   31]\n"
          ]
        }
      ],
      "source": [
        "print('Length of sample train_data before preprocessing:', len(train_data[0]))\n",
        "print('Length of sample train_data after preprocessing:', len(padded_train_data[0]))\n",
        "print('Sample train data:', padded_train_data[0])"
      ]
    },
    {
      "cell_type": "markdown",
      "metadata": {
        "id": "rghchHA66d-V"
      },
      "source": [
        "### **3. Building the Model**\n",
        "\n",
        "In this section, you will use the keras Model API to build a classification model.\n",
        "\n",
        "*   The first step is to tell the model what sort of input to expect using the keras \\<Input\\> layer\n",
        "*   The second step is to add an embedding layer like we did last week.\n",
        "This embedding layer creates a lookup table of the form {word:embedding} for each of the unique words in our corpus. Use EMBED_SIZE = 100 (i.e each word is represented by a 100D vector such that each movie review is 500 X 100 in dimension.  Don't forget to set mask_zero=True since we are using 0 index as out padding.\n",
        "*  The third step is to add an LSTM with 100 units. By leaving 'return_sequences' as False, the output of this model will be the output of the final time step of the LSTM. https://keras.io/api/layers/recurrent_layers/lstm/\n",
        "*  The final layer of the model is a fully connected (Dense) layer. Can you figure out what activation function would be appropriate for this layer given the binary nature of the task?\n",
        "*  The model should be compiled with a 'binary_crossentropy' loss function, an 'adam' optimizer. We also want to visualize the model accuracy during training so the 'metrics' parameter of the compile method should be set to ['accuracy']."
      ]
    },
    {
      "cell_type": "code",
      "execution_count": null,
      "metadata": {
        "id": "L1EHilHl1l2m"
      },
      "outputs": [],
      "source": [
        "from keras.layers import Input, Embedding, Dense, LSTM\n",
        "from keras.models import Model\n",
        "\n",
        "EMBED_SIZE = 100\n",
        "# YOUR CODE GOES HERE\n",
        "# Define an input layer that takes input of shape (500,)\n",
        "imdb_input = Input(shape=(500,))\n",
        "\n",
        "# Create an embedding layer that maps each word to a dense vector of dimension EMBED_SIZE\n",
        "embedding_layer = Embedding(input_dim=VOCAB_SIZE,  # The size of the vocabulary\n",
        "                            input_length=MAX_LENGHT,  # The maximum length of the input sequence\n",
        "                            output_dim=EMBED_SIZE,  # The dimensionality of the embedding vector\n",
        "                            embeddings_initializer=\"glorot_uniform\",  # Initialization method for the weights\n",
        "                            mask_zero=True)(imdb_input)  # Mask out zero-padding in input sequences\n",
        "\n",
        "# Add an LSTM layer to the model to capture the temporal dependencies in the input sequence\n",
        "lstm_layer = LSTM(EMBED_SIZE, return_sequences=False)(embedding_layer)\n",
        "\n",
        "# Add a dense layer with a sigmoid activation function to generate the binary classification output\n",
        "dense_layer = Dense(1, activation='sigmoid')(lstm_layer)\n",
        "\n",
        "# Create a model with the input and output layers\n",
        "model = Model(inputs=imdb_input, outputs=dense_layer)\n",
        "\n",
        "# Compile the model with Adam optimizer and binary cross-entropy loss function\n",
        "model.compile('adam', 'binary_crossentropy', metrics=['accuracy'])\n"
      ]
    },
    {
      "cell_type": "markdown",
      "metadata": {
        "id": "6OMqaFQusbp-"
      },
      "source": [
        "***Sanity Check***\n",
        "\n",
        "Print the model summary and visualize it using vis_utils."
      ]
    },
    {
      "cell_type": "code",
      "execution_count": null,
      "metadata": {
        "colab": {
          "base_uri": "https://localhost:8080/"
        },
        "id": "PB7Gv4V6raWd",
        "outputId": "ced40fbb-98f8-4940-dd6b-10c8d0047466"
      },
      "outputs": [
        {
          "name": "stdout",
          "output_type": "stream",
          "text": [
            "Model: \"model\"\n",
            "_________________________________________________________________\n",
            " Layer (type)                Output Shape              Param #   \n",
            "=================================================================\n",
            " input_1 (InputLayer)        [(None, 500)]             0         \n",
            "                                                                 \n",
            " embedding (Embedding)       (None, 500, 100)          1000000   \n",
            "                                                                 \n",
            " lstm (LSTM)                 (None, 100)               80400     \n",
            "                                                                 \n",
            " dense (Dense)               (None, 1)                 101       \n",
            "                                                                 \n",
            "=================================================================\n",
            "Total params: 1,080,501\n",
            "Trainable params: 1,080,501\n",
            "Non-trainable params: 0\n",
            "_________________________________________________________________\n"
          ]
        }
      ],
      "source": [
        "model.summary()"
      ]
    },
    {
      "cell_type": "code",
      "execution_count": null,
      "metadata": {
        "colab": {
          "base_uri": "https://localhost:8080/",
          "height": 416
        },
        "id": "ZTq8GsWgsqCe",
        "outputId": "344a17b4-140d-451c-fd04-5311a55f0cda"
      },
      "outputs": [
        {
          "data": {
            "image/svg+xml": [
              "<svg xmlns=\"http://www.w3.org/2000/svg\" xmlns:xlink=\"http://www.w3.org/1999/xlink\" width=\"246pt\" height=\"296pt\" viewBox=\"0.00 0.00 253.00 304.00\">\n",
              "<g id=\"graph0\" class=\"graph\" transform=\"scale(1.03 1.03) rotate(0) translate(4 300)\">\n",
              "<title>G</title>\n",
              "<polygon fill=\"white\" stroke=\"transparent\" points=\"-4,4 -4,-300 249,-300 249,4 -4,4\"/>\n",
              "<!-- 139871845644944 -->\n",
              "<g id=\"node1\" class=\"node\">\n",
              "<title>139871845644944</title>\n",
              "<polygon fill=\"none\" stroke=\"black\" points=\"10.5,-249.5 10.5,-295.5 234.5,-295.5 234.5,-249.5 10.5,-249.5\"/>\n",
              "<text text-anchor=\"middle\" x=\"49\" y=\"-280.3\" font-family=\"Times,serif\" font-size=\"14.00\">input_1</text>\n",
              "<polyline fill=\"none\" stroke=\"black\" points=\"10.5,-272.5 87.5,-272.5 \"/>\n",
              "<text text-anchor=\"middle\" x=\"49\" y=\"-257.3\" font-family=\"Times,serif\" font-size=\"14.00\">InputLayer</text>\n",
              "<polyline fill=\"none\" stroke=\"black\" points=\"87.5,-249.5 87.5,-295.5 \"/>\n",
              "<text text-anchor=\"middle\" x=\"115\" y=\"-280.3\" font-family=\"Times,serif\" font-size=\"14.00\">input:</text>\n",
              "<polyline fill=\"none\" stroke=\"black\" points=\"87.5,-272.5 142.5,-272.5 \"/>\n",
              "<text text-anchor=\"middle\" x=\"115\" y=\"-257.3\" font-family=\"Times,serif\" font-size=\"14.00\">output:</text>\n",
              "<polyline fill=\"none\" stroke=\"black\" points=\"142.5,-249.5 142.5,-295.5 \"/>\n",
              "<text text-anchor=\"middle\" x=\"188.5\" y=\"-280.3\" font-family=\"Times,serif\" font-size=\"14.00\">[(None, 500)]</text>\n",
              "<polyline fill=\"none\" stroke=\"black\" points=\"142.5,-272.5 234.5,-272.5 \"/>\n",
              "<text text-anchor=\"middle\" x=\"188.5\" y=\"-257.3\" font-family=\"Times,serif\" font-size=\"14.00\">[(None, 500)]</text>\n",
              "</g>\n",
              "<!-- 139872402434896 -->\n",
              "<g id=\"node2\" class=\"node\">\n",
              "<title>139872402434896</title>\n",
              "<polygon fill=\"none\" stroke=\"black\" points=\"0,-166.5 0,-212.5 245,-212.5 245,-166.5 0,-166.5\"/>\n",
              "<text text-anchor=\"middle\" x=\"40\" y=\"-197.3\" font-family=\"Times,serif\" font-size=\"14.00\">embedding</text>\n",
              "<polyline fill=\"none\" stroke=\"black\" points=\"0,-189.5 80,-189.5 \"/>\n",
              "<text text-anchor=\"middle\" x=\"40\" y=\"-174.3\" font-family=\"Times,serif\" font-size=\"14.00\">Embedding</text>\n",
              "<polyline fill=\"none\" stroke=\"black\" points=\"80,-166.5 80,-212.5 \"/>\n",
              "<text text-anchor=\"middle\" x=\"107.5\" y=\"-197.3\" font-family=\"Times,serif\" font-size=\"14.00\">input:</text>\n",
              "<polyline fill=\"none\" stroke=\"black\" points=\"80,-189.5 135,-189.5 \"/>\n",
              "<text text-anchor=\"middle\" x=\"107.5\" y=\"-174.3\" font-family=\"Times,serif\" font-size=\"14.00\">output:</text>\n",
              "<polyline fill=\"none\" stroke=\"black\" points=\"135,-166.5 135,-212.5 \"/>\n",
              "<text text-anchor=\"middle\" x=\"190\" y=\"-197.3\" font-family=\"Times,serif\" font-size=\"14.00\">(None, 500)</text>\n",
              "<polyline fill=\"none\" stroke=\"black\" points=\"135,-189.5 245,-189.5 \"/>\n",
              "<text text-anchor=\"middle\" x=\"190\" y=\"-174.3\" font-family=\"Times,serif\" font-size=\"14.00\">(None, 500, 100)</text>\n",
              "</g>\n",
              "<!-- 139871845644944&#45;&gt;139872402434896 -->\n",
              "<g id=\"edge1\" class=\"edge\">\n",
              "<title>139871845644944-&gt;139872402434896</title>\n",
              "<path fill=\"none\" stroke=\"black\" d=\"M122.5,-249.37C122.5,-241.15 122.5,-231.66 122.5,-222.73\"/>\n",
              "<polygon fill=\"black\" stroke=\"black\" points=\"126,-222.61 122.5,-212.61 119,-222.61 126,-222.61\"/>\n",
              "</g>\n",
              "<!-- 139869200578304 -->\n",
              "<g id=\"node3\" class=\"node\">\n",
              "<title>139869200578304</title>\n",
              "<polygon fill=\"none\" stroke=\"black\" points=\"13.5,-83.5 13.5,-129.5 231.5,-129.5 231.5,-83.5 13.5,-83.5\"/>\n",
              "<text text-anchor=\"middle\" x=\"40\" y=\"-114.3\" font-family=\"Times,serif\" font-size=\"14.00\">lstm</text>\n",
              "<polyline fill=\"none\" stroke=\"black\" points=\"13.5,-106.5 66.5,-106.5 \"/>\n",
              "<text text-anchor=\"middle\" x=\"40\" y=\"-91.3\" font-family=\"Times,serif\" font-size=\"14.00\">LSTM</text>\n",
              "<polyline fill=\"none\" stroke=\"black\" points=\"66.5,-83.5 66.5,-129.5 \"/>\n",
              "<text text-anchor=\"middle\" x=\"94\" y=\"-114.3\" font-family=\"Times,serif\" font-size=\"14.00\">input:</text>\n",
              "<polyline fill=\"none\" stroke=\"black\" points=\"66.5,-106.5 121.5,-106.5 \"/>\n",
              "<text text-anchor=\"middle\" x=\"94\" y=\"-91.3\" font-family=\"Times,serif\" font-size=\"14.00\">output:</text>\n",
              "<polyline fill=\"none\" stroke=\"black\" points=\"121.5,-83.5 121.5,-129.5 \"/>\n",
              "<text text-anchor=\"middle\" x=\"176.5\" y=\"-114.3\" font-family=\"Times,serif\" font-size=\"14.00\">(None, 500, 100)</text>\n",
              "<polyline fill=\"none\" stroke=\"black\" points=\"121.5,-106.5 231.5,-106.5 \"/>\n",
              "<text text-anchor=\"middle\" x=\"176.5\" y=\"-91.3\" font-family=\"Times,serif\" font-size=\"14.00\">(None, 100)</text>\n",
              "</g>\n",
              "<!-- 139872402434896&#45;&gt;139869200578304 -->\n",
              "<g id=\"edge2\" class=\"edge\">\n",
              "<title>139872402434896-&gt;139869200578304</title>\n",
              "<path fill=\"none\" stroke=\"black\" d=\"M122.5,-166.37C122.5,-158.15 122.5,-148.66 122.5,-139.73\"/>\n",
              "<polygon fill=\"black\" stroke=\"black\" points=\"126,-139.61 122.5,-129.61 119,-139.61 126,-139.61\"/>\n",
              "</g>\n",
              "<!-- 139869200551552 -->\n",
              "<g id=\"node4\" class=\"node\">\n",
              "<title>139869200551552</title>\n",
              "<polygon fill=\"none\" stroke=\"black\" points=\"28.5,-0.5 28.5,-46.5 216.5,-46.5 216.5,-0.5 28.5,-0.5\"/>\n",
              "<text text-anchor=\"middle\" x=\"53.5\" y=\"-31.3\" font-family=\"Times,serif\" font-size=\"14.00\">dense</text>\n",
              "<polyline fill=\"none\" stroke=\"black\" points=\"28.5,-23.5 78.5,-23.5 \"/>\n",
              "<text text-anchor=\"middle\" x=\"53.5\" y=\"-8.3\" font-family=\"Times,serif\" font-size=\"14.00\">Dense</text>\n",
              "<polyline fill=\"none\" stroke=\"black\" points=\"78.5,-0.5 78.5,-46.5 \"/>\n",
              "<text text-anchor=\"middle\" x=\"106\" y=\"-31.3\" font-family=\"Times,serif\" font-size=\"14.00\">input:</text>\n",
              "<polyline fill=\"none\" stroke=\"black\" points=\"78.5,-23.5 133.5,-23.5 \"/>\n",
              "<text text-anchor=\"middle\" x=\"106\" y=\"-8.3\" font-family=\"Times,serif\" font-size=\"14.00\">output:</text>\n",
              "<polyline fill=\"none\" stroke=\"black\" points=\"133.5,-0.5 133.5,-46.5 \"/>\n",
              "<text text-anchor=\"middle\" x=\"175\" y=\"-31.3\" font-family=\"Times,serif\" font-size=\"14.00\">(None, 100)</text>\n",
              "<polyline fill=\"none\" stroke=\"black\" points=\"133.5,-23.5 216.5,-23.5 \"/>\n",
              "<text text-anchor=\"middle\" x=\"175\" y=\"-8.3\" font-family=\"Times,serif\" font-size=\"14.00\">(None, 1)</text>\n",
              "</g>\n",
              "<!-- 139869200578304&#45;&gt;139869200551552 -->\n",
              "<g id=\"edge3\" class=\"edge\">\n",
              "<title>139869200578304-&gt;139869200551552</title>\n",
              "<path fill=\"none\" stroke=\"black\" d=\"M122.5,-83.37C122.5,-75.15 122.5,-65.66 122.5,-56.73\"/>\n",
              "<polygon fill=\"black\" stroke=\"black\" points=\"126,-56.61 122.5,-46.61 119,-56.61 126,-56.61\"/>\n",
              "</g>\n",
              "</g>\n",
              "</svg>"
            ],
            "text/plain": [
              "<IPython.core.display.SVG object>"
            ]
          },
          "execution_count": 9,
          "metadata": {},
          "output_type": "execute_result"
        }
      ],
      "source": [
        "from IPython.display import SVG\n",
        "from keras.utils import vis_utils\n",
        "SVG(vis_utils.model_to_dot(model, show_shapes=True, show_layer_names=True, dpi=70).create(prog='dot', format='svg'))\n"
      ]
    },
    {
      "cell_type": "markdown",
      "metadata": {
        "id": "WXhJNdf9TIed"
      },
      "source": [
        "### **4. Training the Model**\n",
        "\n",
        "A model can memorize the training data (this is called 'overfitting' and when it does so, it's training accuracy can continue to go up but it's accuracy on previously unseen (i.e. non-training) examples can be very poor. To ensure that this doesn't happen, researchers often intermittently check the performance of a model being trained on a held back dataset called the ***validation dataset***. This way, 'early stopping' or 'random search' can be used to select the model that will generalize best to unseen data.\n",
        "<br>\n",
        "\n",
        "\n",
        "In this lab, you will just plot training accuracy against validation accuracy to monitor the progress of your model. And, using the plot, you will theorize about what the optimal stopping point for your model should have been.\n"
      ]
    },
    {
      "cell_type": "markdown",
      "metadata": {
        "id": "LFJtD1EgvPND"
      },
      "source": [
        "**Step 1: Getting a validation dataset**\n",
        "\n",
        "Before we begin training, you will split the padded training data into training and validation data. To avoid losing too much training data, use 2000 samples (i.e 8%) for validation and the other 23000 for training.\n",
        "\n",
        "We will do this using the sklearn train_test_split function."
      ]
    },
    {
      "cell_type": "code",
      "execution_count": null,
      "metadata": {
        "id": "zqHSAlOev6kB"
      },
      "outputs": [],
      "source": [
        "from sklearn.model_selection import train_test_split\n",
        "\n",
        "train_x, validation_x, train_y, validation_y = train_test_split(padded_train_data, train_labels, test_size=0.08)"
      ]
    },
    {
      "cell_type": "markdown",
      "metadata": {
        "id": "xArEfNkX0DnN"
      },
      "source": [
        "Alternatively, we could have chosen to set validation_size=0.08 in our model.fit() function below instead of passing in a separate validation dataset."
      ]
    },
    {
      "cell_type": "markdown",
      "metadata": {
        "id": "3oXtkSBuyiWt"
      },
      "source": [
        "**Step 2: Training the model**\n",
        "\n",
        "We will use model.fit() to train the model. We will set our batch_size to 1000, which means the model will train int(23000/1000) batches each epoch. In other words, at each epoch the model will train 23 batches, each one consisting of 1000 movie reviews."
      ]
    },
    {
      "cell_type": "code",
      "execution_count": null,
      "metadata": {
        "colab": {
          "base_uri": "https://localhost:8080/"
        },
        "id": "Fgp3GWqiySHB",
        "outputId": "b740610d-71cc-4878-cc16-0b4055d1e050"
      },
      "outputs": [
        {
          "name": "stdout",
          "output_type": "stream",
          "text": [
            "Epoch 1/6\n",
            "23/23 [==============================] - 24s 662ms/step - loss: 0.6456 - accuracy: 0.6344 - val_loss: 0.4931 - val_accuracy: 0.8110\n",
            "Epoch 2/6\n",
            "23/23 [==============================] - 14s 599ms/step - loss: 0.3650 - accuracy: 0.8563 - val_loss: 0.3349 - val_accuracy: 0.8580\n",
            "Epoch 3/6\n",
            "23/23 [==============================] - 14s 593ms/step - loss: 0.2323 - accuracy: 0.9130 - val_loss: 0.2942 - val_accuracy: 0.8690\n",
            "Epoch 4/6\n",
            "23/23 [==============================] - 13s 577ms/step - loss: 0.1772 - accuracy: 0.9396 - val_loss: 0.2884 - val_accuracy: 0.8835\n",
            "Epoch 5/6\n",
            "23/23 [==============================] - 13s 578ms/step - loss: 0.1368 - accuracy: 0.9553 - val_loss: 0.3068 - val_accuracy: 0.8820\n",
            "Epoch 6/6\n",
            "23/23 [==============================] - 14s 594ms/step - loss: 0.1109 - accuracy: 0.9672 - val_loss: 0.3669 - val_accuracy: 0.8750\n"
          ]
        }
      ],
      "source": [
        "history = model.fit(train_x, train_y, epochs=6, batch_size=1000, validation_data=(validation_x, validation_y))"
      ]
    },
    {
      "cell_type": "markdown",
      "metadata": {
        "id": "2OaWng6v835A"
      },
      "source": [
        "**Step 3: Visualize the model plot**"
      ]
    },
    {
      "cell_type": "code",
      "execution_count": null,
      "metadata": {
        "id": "R6xASJOM897O"
      },
      "outputs": [],
      "source": [
        "try:\n",
        "    from plot_keras_history import plot_history\n",
        "except ModuleNotFoundError:\n",
        "    %pip install plot_keras_history\n",
        "    import probml_utils as pml\n",
        "\n",
        "import matplotlib.pyplot as plt"
      ]
    },
    {
      "cell_type": "code",
      "execution_count": null,
      "metadata": {
        "colab": {
          "base_uri": "https://localhost:8080/",
          "height": 462
        },
        "id": "6jS3_xzmDJmk",
        "outputId": "2160fffc-1734-41a8-c6fd-be947747256d"
      },
      "outputs": [
        {
          "data": {
            "image/png": "[encoded data removed]",
            "text/plain": [
              "<Figure size 1000x500 with 2 Axes>"
            ]
          },
          "metadata": {
            "needs_background": "light"
          },
          "output_type": "display_data"
        }
      ],
      "source": [
        "plot_history(history.history, path=\"standard.png\")\n",
        "plt.show()"
      ]
    },
    {
      "cell_type": "markdown",
      "metadata": {
        "id": "8Xy45WzGCkFJ"
      },
      "source": [
        "**Based on the accuracy plot, what do you think the optimal stopping point for your model should\n",
        "have been?**"
      ]
    },
    {
      "cell_type": "markdown",
      "metadata": {
        "id": "uMQJAolZWVLx"
      },
      "source": [
        "### **5. Evaluating the Model on the Test Data**\n",
        "\n",
        "Evaluate the model on the padded test data using the code in the following cell block."
      ]
    },
    {
      "cell_type": "code",
      "execution_count": null,
      "metadata": {
        "colab": {
          "base_uri": "https://localhost:8080/"
        },
        "id": "fi0JmuY-Tlsp",
        "outputId": "c84195d4-ee79-4fcf-d4f5-1b9a4d99025c"
      },
      "outputs": [
        {
          "name": "stdout",
          "output_type": "stream",
          "text": [
            "25/25 [==============================] - 2s 91ms/step - loss: 0.3938 - accuracy: 0.8648\n",
            "test_loss: 0.3937727212905884 test_accuracy: 0.864799976348877\n"
          ]
        }
      ],
      "source": [
        "# YOUR CODE TO EVALUATE THE MODEL ON TEST DATA GOES HERE\n",
        "results = model.evaluate(padded_test_data, test_labels, batch_size=1000)\n",
        "print('test_loss:', results[0], 'test_accuracy:', results[1])"
      ]
    },
    {
      "cell_type": "markdown",
      "metadata": {
        "id": "zbOcZD6igpxy"
      },
      "source": [
        "###**6. Extracting the Word Embeddings**\n",
        "\n",
        "Extract the word embeddings from the embedding layer model like we did in the last lab.\n",
        "\n",
        "**Hints**\n",
        "\n",
        "*  You can use model.get_layer(layer_name).get_weights()[0] or model.layers[layer_number].get_weights()[0].  The layer number indicates the order in which the layers were added to the model.\n",
        "\n",
        "*  If you didn't explicitly name your layers, you can check layer names and numbers about the order from model.summary() or by calling model.layers"
      ]
    },
    {
      "cell_type": "code",
      "execution_count": null,
      "metadata": {
        "id": "dVG1le_LWBtq"
      },
      "outputs": [],
      "source": [
        "# YOUR CODE GOES HERE\n",
        "word_embeddings = model.get_layer(\"embedding\").get_weights()[0]"
      ]
    },
    {
      "cell_type": "code",
      "execution_count": null,
      "metadata": {
        "colab": {
          "base_uri": "https://localhost:8080/"
        },
        "id": "IHXTOV0gU992",
        "outputId": "046a7505-f450-43a5-ea3a-33e6d23ede15"
      },
      "outputs": [
        {
          "data": {
            "text/plain": [
              "array([[ 2.0989940e-02, -4.2546801e-03,  3.1474363e-03, ...,\n",
              "         1.9765828e-02,  1.3848174e-02,  6.2694959e-04],\n",
              "       [-1.4459278e-03, -1.1599002e-02,  7.7700643e-03, ...,\n",
              "        -1.0048480e-02,  4.4481610e-03, -7.3845009e-03],\n",
              "       [-1.6902514e-02,  2.0566165e-02, -2.0812545e-02, ...,\n",
              "        -6.1655859e-03,  4.0935837e-03,  4.6519889e-03],\n",
              "       ...,\n",
              "       [-7.3965131e-03, -3.5823822e-02, -3.6472797e-03, ...,\n",
              "        -3.4239896e-02,  5.7197397e-04, -4.2002386e-05],\n",
              "       [-1.3272285e-02,  8.9626294e-03,  4.3662280e-02, ...,\n",
              "         1.5245470e-02, -4.8954628e-02, -3.6760535e-02],\n",
              "       [ 7.3570531e-04,  2.3773141e-02, -2.1385003e-03, ...,\n",
              "        -6.7038187e-03,  1.6545057e-02, -9.5250132e-03]], dtype=float32)"
            ]
          },
          "execution_count": 17,
          "metadata": {},
          "output_type": "execute_result"
        }
      ],
      "source": [
        "word_embeddings"
      ]
    },
    {
      "cell_type": "markdown",
      "metadata": {
        "id": "fXzDQ-7IE5Ou"
      },
      "source": [
        "***Sanity Check***\n",
        "\n",
        "Print the shape of the word embeddings using the line of code below. It should return (VOCAB_SIZE, EMBED_SIZE)"
      ]
    },
    {
      "cell_type": "code",
      "execution_count": null,
      "metadata": {
        "colab": {
          "base_uri": "https://localhost:8080/"
        },
        "id": "swJFPaX_E4f0",
        "outputId": "df6c975a-121a-4788-aff6-1fbf459196a1"
      },
      "outputs": [
        {
          "name": "stdout",
          "output_type": "stream",
          "text": [
            "Shape of word_embeddings: (10000, 100)\n"
          ]
        }
      ],
      "source": [
        "print('Shape of word_embeddings:', word_embeddings.shape)"
      ]
    },
    {
      "cell_type": "markdown",
      "metadata": {
        "id": "Bwz_8kTZ6UVF"
      },
      "source": [
        "###**7. Visualizing the Reviews**\n",
        "\n",
        "In this section, we will view the effects of padding the dataset.\n",
        "\n",
        "As mentioned before, Keras already preprocessed the corpus. In this preprocessed corpus, all the words have already been mapped to indices and were assigned these numbers in order of their frequency such that index 2 is the 2nd most frequent word in the dataset, and so on. However, when we loaded our training dataset, we reserved the first 3 indices - 0, 1, 2 - for \\<PAD\\>, \\<START\\> and \\<UNK\\>. Additionally, we limited our vocabulary to only the top 10000 most frequent words (9997 if you exclude the padding). We will now visualize what a movie review will look like with these changes\n",
        "\n"
      ]
    },
    {
      "cell_type": "markdown",
      "metadata": {
        "id": "lOmorAwXGZS9"
      },
      "source": [
        "\n",
        "**Step 1: Create a word2idx dictionary**\n",
        "\n",
        "Create the word2idx dictionary using the following lines of code."
      ]
    },
    {
      "cell_type": "code",
      "execution_count": null,
      "metadata": {
        "colab": {
          "base_uri": "https://localhost:8080/"
        },
        "id": "AtU7lOD6GYtB",
        "outputId": "4d160889-a161-43b1-d954-1e99af7d8494"
      },
      "outputs": [
        {
          "name": "stdout",
          "output_type": "stream",
          "text": [
            "Downloading data from https://storage.googleapis.com/tensorflow/tf-keras-datasets/imdb_word_index.json\n",
            "1641221/1641221 [==============================] - 0s 0us/step\n"
          ]
        }
      ],
      "source": [
        "# in this dictionary, the words start from 1, 0 is reserved for padding but\n",
        "# <start> and <unknown> are not accounted for.\n",
        "word_indices = imdb.get_word_index()\n",
        "\n",
        "# so we shift each original word two places to make room for the two new tokens\n",
        "offset = 2\n",
        "word2idx = {k:(v+offset) for k,v in word_indices.items() if v < 9998}\n",
        "word2idx[\"<PAD>\"] = 0\n",
        "word2idx[\"<START>\"] = 1\n",
        "word2idx[\"<UNK>\"] = 2"
      ]
    },
    {
      "cell_type": "markdown",
      "metadata": {
        "id": "H3oZeE74HCvL"
      },
      "source": [
        "\n",
        "**Step 2: Create a the idx2word dictionary**"
      ]
    },
    {
      "cell_type": "code",
      "execution_count": null,
      "metadata": {
        "id": "F0sWRDRIHIzp"
      },
      "outputs": [],
      "source": [
        "# YOUR CODE GOES HERE\n",
        "# YOUR CODE GOES HERE\n",
        "offset = 2\n",
        "idx2word = {(v+offset):k for k,v in word_indices.items() if v < 9998}\n",
        "idx2word[0] = \"<PAD>\"\n",
        "idx2word[1] = \"<START>\"\n",
        "idx2word[2] = \"<UNK>\""
      ]
    },
    {
      "cell_type": "markdown",
      "metadata": {
        "id": "p7aGrCU1HTN0"
      },
      "source": [
        "\n",
        "**Step 3: Visualize sample review**\n",
        "\n",
        "View a sample review text using the lines of code below:"
      ]
    },
    {
      "cell_type": "code",
      "execution_count": null,
      "metadata": {
        "colab": {
          "base_uri": "https://localhost:8080/"
        },
        "id": "TgRbMGG3G8jb",
        "outputId": "c8df22de-b475-4007-ad15-dd902c5ffff4"
      },
      "outputs": [
        {
          "name": "stdout",
          "output_type": "stream",
          "text": [
            "<START> this film was just brilliant casting location scenery story direction everyone's really suited the part they played and you could just imagine being there robert <UNK> is an amazing actor and now the same being director <UNK> father came from the same scottish island as myself so i loved the fact there was a real connection with this film the witty remarks throughout the film were great it was just brilliant so much that i bought the film as soon as it was released for <UNK> and would recommend it to everyone to watch and the fly fishing was amazing really cried at the end it was so sad and you know what they say if you cry at a film it must have been good and this definitely was also <UNK> to the two little boy's that played the <UNK> of norman and paul they were just brilliant children are often left out of the <UNK> list i think because the stars that play them all grown up are such a big profile for the whole film but these children are amazing and should be praised for what they have done don't you think the whole story was so lovely because it was true and was someone's life after all that was shared with us all\n"
          ]
        }
      ],
      "source": [
        "print(' '.join(idx2word[idx] for idx in train_data[0]))"
      ]
    },
    {
      "cell_type": "markdown",
      "metadata": {
        "id": "TFs4QSdFJrWL"
      },
      "source": [
        "###**8. Visualizing the Word_Embeddings**\n",
        "\n",
        "Visualize the word embeddings for 10 of the words using pandas DataFrame like we did in lab 3"
      ]
    },
    {
      "cell_type": "code",
      "execution_count": null,
      "metadata": {
        "colab": {
          "base_uri": "https://localhost:8080/",
          "height": 456
        },
        "id": "2IBvttx-J9re",
        "outputId": "b68784e1-3bf4-4012-e415-f598f277e74d"
      },
      "outputs": [
        {
          "data": {
            "text/html": [
              "\n",
              "  <div id=\"df-6df7fef6-9a66-4a4e-9097-95001848dbb9\">\n",
              "    <div class=\"colab-df-container\">\n",
              "      <div>\n",
              "<style scoped>\n",
              "    .dataframe tbody tr th:only-of-type {\n",
              "        vertical-align: middle;\n",
              "    }\n",
              "\n",
              "    .dataframe tbody tr th {\n",
              "        vertical-align: top;\n",
              "    }\n",
              "\n",
              "    .dataframe thead th {\n",
              "        text-align: right;\n",
              "    }\n",
              "</style>\n",
              "<table border=\"1\" class=\"dataframe\">\n",
              "  <thead>\n",
              "    <tr style=\"text-align: right;\">\n",
              "      <th></th>\n",
              "      <th>0</th>\n",
              "      <th>1</th>\n",
              "      <th>2</th>\n",
              "      <th>3</th>\n",
              "      <th>4</th>\n",
              "      <th>5</th>\n",
              "      <th>6</th>\n",
              "      <th>7</th>\n",
              "      <th>8</th>\n",
              "      <th>9</th>\n",
              "      <th>...</th>\n",
              "      <th>90</th>\n",
              "      <th>91</th>\n",
              "      <th>92</th>\n",
              "      <th>93</th>\n",
              "      <th>94</th>\n",
              "      <th>95</th>\n",
              "      <th>96</th>\n",
              "      <th>97</th>\n",
              "      <th>98</th>\n",
              "      <th>99</th>\n",
              "    </tr>\n",
              "  </thead>\n",
              "  <tbody>\n",
              "    <tr>\n",
              "      <th>woods</th>\n",
              "      <td>0.020990</td>\n",
              "      <td>-0.004255</td>\n",
              "      <td>0.003147</td>\n",
              "      <td>0.010062</td>\n",
              "      <td>-0.007641</td>\n",
              "      <td>0.018025</td>\n",
              "      <td>-0.004899</td>\n",
              "      <td>-0.005778</td>\n",
              "      <td>0.022412</td>\n",
              "      <td>0.002985</td>\n",
              "      <td>...</td>\n",
              "      <td>0.023715</td>\n",
              "      <td>0.010737</td>\n",
              "      <td>0.001706</td>\n",
              "      <td>-0.008559</td>\n",
              "      <td>-0.004401</td>\n",
              "      <td>0.019043</td>\n",
              "      <td>0.005723</td>\n",
              "      <td>0.019766</td>\n",
              "      <td>0.013848</td>\n",
              "      <td>0.000627</td>\n",
              "    </tr>\n",
              "    <tr>\n",
              "      <th>hanging</th>\n",
              "      <td>-0.001446</td>\n",
              "      <td>-0.011599</td>\n",
              "      <td>0.007770</td>\n",
              "      <td>-0.003841</td>\n",
              "      <td>-0.021825</td>\n",
              "      <td>0.005791</td>\n",
              "      <td>0.018481</td>\n",
              "      <td>0.015780</td>\n",
              "      <td>-0.020250</td>\n",
              "      <td>-0.010129</td>\n",
              "      <td>...</td>\n",
              "      <td>0.001389</td>\n",
              "      <td>0.016204</td>\n",
              "      <td>-0.013483</td>\n",
              "      <td>-0.017844</td>\n",
              "      <td>0.023773</td>\n",
              "      <td>0.007843</td>\n",
              "      <td>-0.012831</td>\n",
              "      <td>-0.010048</td>\n",
              "      <td>0.004448</td>\n",
              "      <td>-0.007385</td>\n",
              "    </tr>\n",
              "    <tr>\n",
              "      <th>woody</th>\n",
              "      <td>-0.016903</td>\n",
              "      <td>0.020566</td>\n",
              "      <td>-0.020813</td>\n",
              "      <td>0.000088</td>\n",
              "      <td>0.006057</td>\n",
              "      <td>0.006724</td>\n",
              "      <td>0.008022</td>\n",
              "      <td>0.014201</td>\n",
              "      <td>0.019444</td>\n",
              "      <td>0.011417</td>\n",
              "      <td>...</td>\n",
              "      <td>0.017045</td>\n",
              "      <td>0.021308</td>\n",
              "      <td>0.012796</td>\n",
              "      <td>0.009563</td>\n",
              "      <td>-0.012631</td>\n",
              "      <td>0.025710</td>\n",
              "      <td>-0.025182</td>\n",
              "      <td>-0.006166</td>\n",
              "      <td>0.004094</td>\n",
              "      <td>0.004652</td>\n",
              "    </tr>\n",
              "    <tr>\n",
              "      <th>arranged</th>\n",
              "      <td>-0.016508</td>\n",
              "      <td>0.005310</td>\n",
              "      <td>-0.007144</td>\n",
              "      <td>0.001153</td>\n",
              "      <td>0.013351</td>\n",
              "      <td>-0.025810</td>\n",
              "      <td>0.015766</td>\n",
              "      <td>-0.005823</td>\n",
              "      <td>0.006839</td>\n",
              "      <td>0.018644</td>\n",
              "      <td>...</td>\n",
              "      <td>0.012683</td>\n",
              "      <td>0.026708</td>\n",
              "      <td>0.014347</td>\n",
              "      <td>-0.026209</td>\n",
              "      <td>0.000160</td>\n",
              "      <td>-0.016585</td>\n",
              "      <td>0.005650</td>\n",
              "      <td>-0.003366</td>\n",
              "      <td>0.012311</td>\n",
              "      <td>-0.004410</td>\n",
              "    </tr>\n",
              "    <tr>\n",
              "      <th>bringing</th>\n",
              "      <td>-0.010211</td>\n",
              "      <td>0.000630</td>\n",
              "      <td>0.018111</td>\n",
              "      <td>0.022061</td>\n",
              "      <td>0.002173</td>\n",
              "      <td>-0.010650</td>\n",
              "      <td>-0.009783</td>\n",
              "      <td>0.007663</td>\n",
              "      <td>0.002266</td>\n",
              "      <td>-0.006959</td>\n",
              "      <td>...</td>\n",
              "      <td>-0.013254</td>\n",
              "      <td>0.030215</td>\n",
              "      <td>-0.009339</td>\n",
              "      <td>0.005797</td>\n",
              "      <td>-0.008565</td>\n",
              "      <td>0.006894</td>\n",
              "      <td>-0.007094</td>\n",
              "      <td>0.007009</td>\n",
              "      <td>-0.023883</td>\n",
              "      <td>0.035773</td>\n",
              "    </tr>\n",
              "    <tr>\n",
              "      <th>wooden</th>\n",
              "      <td>-0.002384</td>\n",
              "      <td>0.003992</td>\n",
              "      <td>0.014644</td>\n",
              "      <td>0.018903</td>\n",
              "      <td>-0.018643</td>\n",
              "      <td>-0.015513</td>\n",
              "      <td>-0.015309</td>\n",
              "      <td>0.003820</td>\n",
              "      <td>-0.002798</td>\n",
              "      <td>-0.009967</td>\n",
              "      <td>...</td>\n",
              "      <td>-0.001796</td>\n",
              "      <td>-0.002027</td>\n",
              "      <td>-0.009481</td>\n",
              "      <td>0.008962</td>\n",
              "      <td>-0.004199</td>\n",
              "      <td>0.032976</td>\n",
              "      <td>-0.004040</td>\n",
              "      <td>-0.028502</td>\n",
              "      <td>-0.013637</td>\n",
              "      <td>0.031085</td>\n",
              "    </tr>\n",
              "    <tr>\n",
              "      <th>errors</th>\n",
              "      <td>-0.021139</td>\n",
              "      <td>0.018646</td>\n",
              "      <td>0.003240</td>\n",
              "      <td>-0.017176</td>\n",
              "      <td>-0.012612</td>\n",
              "      <td>0.008822</td>\n",
              "      <td>-0.006484</td>\n",
              "      <td>0.005291</td>\n",
              "      <td>0.000529</td>\n",
              "      <td>-0.008003</td>\n",
              "      <td>...</td>\n",
              "      <td>-0.016763</td>\n",
              "      <td>-0.003868</td>\n",
              "      <td>0.000986</td>\n",
              "      <td>0.014124</td>\n",
              "      <td>0.015805</td>\n",
              "      <td>0.029256</td>\n",
              "      <td>-0.009515</td>\n",
              "      <td>-0.021147</td>\n",
              "      <td>-0.005368</td>\n",
              "      <td>-0.010505</td>\n",
              "    </tr>\n",
              "    <tr>\n",
              "      <th>dialogs</th>\n",
              "      <td>-0.018138</td>\n",
              "      <td>0.015465</td>\n",
              "      <td>-0.024625</td>\n",
              "      <td>-0.013808</td>\n",
              "      <td>0.015601</td>\n",
              "      <td>0.015792</td>\n",
              "      <td>0.014335</td>\n",
              "      <td>-0.020075</td>\n",
              "      <td>0.006157</td>\n",
              "      <td>0.015217</td>\n",
              "      <td>...</td>\n",
              "      <td>-0.015991</td>\n",
              "      <td>-0.004095</td>\n",
              "      <td>-0.021357</td>\n",
              "      <td>-0.006561</td>\n",
              "      <td>0.014257</td>\n",
              "      <td>-0.008996</td>\n",
              "      <td>0.014986</td>\n",
              "      <td>-0.000375</td>\n",
              "      <td>-0.016110</td>\n",
              "      <td>0.018401</td>\n",
              "    </tr>\n",
              "    <tr>\n",
              "      <th>kids</th>\n",
              "      <td>0.017292</td>\n",
              "      <td>0.011678</td>\n",
              "      <td>0.024815</td>\n",
              "      <td>0.009771</td>\n",
              "      <td>-0.017686</td>\n",
              "      <td>-0.039657</td>\n",
              "      <td>0.000469</td>\n",
              "      <td>0.005324</td>\n",
              "      <td>-0.001548</td>\n",
              "      <td>0.025843</td>\n",
              "      <td>...</td>\n",
              "      <td>0.017024</td>\n",
              "      <td>0.001875</td>\n",
              "      <td>0.002450</td>\n",
              "      <td>-0.027553</td>\n",
              "      <td>0.022208</td>\n",
              "      <td>0.006646</td>\n",
              "      <td>0.003928</td>\n",
              "      <td>0.000468</td>\n",
              "      <td>-0.001066</td>\n",
              "      <td>-0.007283</td>\n",
              "    </tr>\n",
              "    <tr>\n",
              "      <th>uplifting</th>\n",
              "      <td>-0.002426</td>\n",
              "      <td>-0.029647</td>\n",
              "      <td>-0.021197</td>\n",
              "      <td>0.003734</td>\n",
              "      <td>-0.018283</td>\n",
              "      <td>-0.005860</td>\n",
              "      <td>0.001463</td>\n",
              "      <td>-0.024629</td>\n",
              "      <td>-0.000590</td>\n",
              "      <td>0.006237</td>\n",
              "      <td>...</td>\n",
              "      <td>0.013661</td>\n",
              "      <td>-0.005769</td>\n",
              "      <td>-0.000184</td>\n",
              "      <td>0.018414</td>\n",
              "      <td>-0.013916</td>\n",
              "      <td>-0.028787</td>\n",
              "      <td>0.021589</td>\n",
              "      <td>0.014109</td>\n",
              "      <td>-0.011014</td>\n",
              "      <td>0.004451</td>\n",
              "    </tr>\n",
              "  </tbody>\n",
              "</table>\n",
              "<p>10 rows × 100 columns</p>\n",
              "</div>\n",
              "      <button class=\"colab-df-convert\" onclick=\"convertToInteractive('df-6df7fef6-9a66-4a4e-9097-95001848dbb9')\"\n",
              "              title=\"Convert this dataframe to an interactive table.\"\n",
              "              style=\"display:none;\">\n",
              "        \n",
              "  <svg xmlns=\"http://www.w3.org/2000/svg\" height=\"24px\"viewBox=\"0 0 24 24\"\n",
              "       width=\"24px\">\n",
              "    <path d=\"M0 0h24v24H0V0z\" fill=\"none\"/>\n",
              "    <path d=\"M18.56 5.44l.94 2.06.94-2.06 2.06-.94-2.06-.94-.94-2.06-.94 2.06-2.06.94zm-11 1L8.5 8.5l.94-2.06 2.06-.94-2.06-.94L8.5 2.5l-.94 2.06-2.06.94zm10 10l.94 2.06.94-2.06 2.06-.94-2.06-.94-.94-2.06-.94 2.06-2.06.94z\"/><path d=\"M17.41 7.96l-1.37-1.37c-.4-.4-.92-.59-1.43-.59-.52 0-1.04.2-1.43.59L10.3 9.45l-7.72 7.72c-.78.78-.78 2.05 0 2.83L4 21.41c.39.39.9.59 1.41.59.51 0 1.02-.2 1.41-.59l7.78-7.78 2.81-2.81c.8-.78.8-2.07 0-2.86zM5.41 20L4 18.59l7.72-7.72 1.47 1.35L5.41 20z\"/>\n",
              "  </svg>\n",
              "      </button>\n",
              "      \n",
              "  <style>\n",
              "    .colab-df-container {\n",
              "      display:flex;\n",
              "      flex-wrap:wrap;\n",
              "      gap: 12px;\n",
              "    }\n",
              "\n",
              "    .colab-df-convert {\n",
              "      background-color: #E8F0FE;\n",
              "      border: none;\n",
              "      border-radius: 50%;\n",
              "      cursor: pointer;\n",
              "      display: none;\n",
              "      fill: #1967D2;\n",
              "      height: 32px;\n",
              "      padding: 0 0 0 0;\n",
              "      width: 32px;\n",
              "    }\n",
              "\n",
              "    .colab-df-convert:hover {\n",
              "      background-color: #E2EBFA;\n",
              "      box-shadow: 0px 1px 2px rgba(60, 64, 67, 0.3), 0px 1px 3px 1px rgba(60, 64, 67, 0.15);\n",
              "      fill: #174EA6;\n",
              "    }\n",
              "\n",
              "    [theme=dark] .colab-df-convert {\n",
              "      background-color: #3B4455;\n",
              "      fill: #D2E3FC;\n",
              "    }\n",
              "\n",
              "    [theme=dark] .colab-df-convert:hover {\n",
              "      background-color: #434B5C;\n",
              "      box-shadow: 0px 1px 3px 1px rgba(0, 0, 0, 0.15);\n",
              "      filter: drop-shadow(0px 1px 2px rgba(0, 0, 0, 0.3));\n",
              "      fill: #FFFFFF;\n",
              "    }\n",
              "  </style>\n",
              "\n",
              "      <script>\n",
              "        const buttonEl =\n",
              "          document.querySelector('#df-6df7fef6-9a66-4a4e-9097-95001848dbb9 button.colab-df-convert');\n",
              "        buttonEl.style.display =\n",
              "          google.colab.kernel.accessAllowed ? 'block' : 'none';\n",
              "\n",
              "        async function convertToInteractive(key) {\n",
              "          const element = document.querySelector('#df-6df7fef6-9a66-4a4e-9097-95001848dbb9');\n",
              "          const dataTable =\n",
              "            await google.colab.kernel.invokeFunction('convertToInteractive',\n",
              "                                                     [key], {});\n",
              "          if (!dataTable) return;\n",
              "\n",
              "          const docLinkHtml = 'Like what you see? Visit the ' +\n",
              "            '<a target=\"_blank\" href=https://colab.research.google.com/notebooks/data_table.ipynb>data table notebook</a>'\n",
              "            + ' to learn more about interactive tables.';\n",
              "          element.innerHTML = '';\n",
              "          dataTable['output_type'] = 'display_data';\n",
              "          await google.colab.output.renderOutput(dataTable, element);\n",
              "          const docLink = document.createElement('div');\n",
              "          docLink.innerHTML = docLinkHtml;\n",
              "          element.appendChild(docLink);\n",
              "        }\n",
              "      </script>\n",
              "    </div>\n",
              "  </div>\n",
              "  "
            ],
            "text/plain": [
              "                 0         1         2         3         4         5   \\\n",
              "woods      0.020990 -0.004255  0.003147  0.010062 -0.007641  0.018025   \n",
              "hanging   -0.001446 -0.011599  0.007770 -0.003841 -0.021825  0.005791   \n",
              "woody     -0.016903  0.020566 -0.020813  0.000088  0.006057  0.006724   \n",
              "arranged  -0.016508  0.005310 -0.007144  0.001153  0.013351 -0.025810   \n",
              "bringing  -0.010211  0.000630  0.018111  0.022061  0.002173 -0.010650   \n",
              "wooden    -0.002384  0.003992  0.014644  0.018903 -0.018643 -0.015513   \n",
              "errors    -0.021139  0.018646  0.003240 -0.017176 -0.012612  0.008822   \n",
              "dialogs   -0.018138  0.015465 -0.024625 -0.013808  0.015601  0.015792   \n",
              "kids       0.017292  0.011678  0.024815  0.009771 -0.017686 -0.039657   \n",
              "uplifting -0.002426 -0.029647 -0.021197  0.003734 -0.018283 -0.005860   \n",
              "\n",
              "                 6         7         8         9   ...        90        91  \\\n",
              "woods     -0.004899 -0.005778  0.022412  0.002985  ...  0.023715  0.010737   \n",
              "hanging    0.018481  0.015780 -0.020250 -0.010129  ...  0.001389  0.016204   \n",
              "woody      0.008022  0.014201  0.019444  0.011417  ...  0.017045  0.021308   \n",
              "arranged   0.015766 -0.005823  0.006839  0.018644  ...  0.012683  0.026708   \n",
              "bringing  -0.009783  0.007663  0.002266 -0.006959  ... -0.013254  0.030215   \n",
              "wooden    -0.015309  0.003820 -0.002798 -0.009967  ... -0.001796 -0.002027   \n",
              "errors    -0.006484  0.005291  0.000529 -0.008003  ... -0.016763 -0.003868   \n",
              "dialogs    0.014335 -0.020075  0.006157  0.015217  ... -0.015991 -0.004095   \n",
              "kids       0.000469  0.005324 -0.001548  0.025843  ...  0.017024  0.001875   \n",
              "uplifting  0.001463 -0.024629 -0.000590  0.006237  ...  0.013661 -0.005769   \n",
              "\n",
              "                 92        93        94        95        96        97  \\\n",
              "woods      0.001706 -0.008559 -0.004401  0.019043  0.005723  0.019766   \n",
              "hanging   -0.013483 -0.017844  0.023773  0.007843 -0.012831 -0.010048   \n",
              "woody      0.012796  0.009563 -0.012631  0.025710 -0.025182 -0.006166   \n",
              "arranged   0.014347 -0.026209  0.000160 -0.016585  0.005650 -0.003366   \n",
              "bringing  -0.009339  0.005797 -0.008565  0.006894 -0.007094  0.007009   \n",
              "wooden    -0.009481  0.008962 -0.004199  0.032976 -0.004040 -0.028502   \n",
              "errors     0.000986  0.014124  0.015805  0.029256 -0.009515 -0.021147   \n",
              "dialogs   -0.021357 -0.006561  0.014257 -0.008996  0.014986 -0.000375   \n",
              "kids       0.002450 -0.027553  0.022208  0.006646  0.003928  0.000468   \n",
              "uplifting -0.000184  0.018414 -0.013916 -0.028787  0.021589  0.014109   \n",
              "\n",
              "                 98        99  \n",
              "woods      0.013848  0.000627  \n",
              "hanging    0.004448 -0.007385  \n",
              "woody      0.004094  0.004652  \n",
              "arranged   0.012311 -0.004410  \n",
              "bringing  -0.023883  0.035773  \n",
              "wooden    -0.013637  0.031085  \n",
              "errors    -0.005368 -0.010505  \n",
              "dialogs   -0.016110  0.018401  \n",
              "kids      -0.001066 -0.007283  \n",
              "uplifting -0.011014  0.004451  \n",
              "\n",
              "[10 rows x 100 columns]"
            ]
          },
          "execution_count": 22,
          "metadata": {},
          "output_type": "execute_result"
        }
      ],
      "source": [
        "from pandas import DataFrame\n",
        "\n",
        "(DataFrame(word_embeddings, index=idx2word.values()).head(10))"
      ]
    },
    {
      "cell_type": "markdown",
      "metadata": {
        "id": "k0fyfgvB90G5"
      },
      "source": [
        "###**9. Plot your Word Embeddings using t-SNE**\n"
      ]
    },
    {
      "cell_type": "code",
      "execution_count": null,
      "metadata": {
        "colab": {
          "base_uri": "https://localhost:8080/",
          "height": 483
        },
        "id": "JRPHIYEgGXRh",
        "outputId": "cd8aa6e4-9f6b-47cd-d96f-25239873e22e"
      },
      "outputs": [
        {
          "data": {
            "image/png": "[encoded data removed]",
            "text/plain": [
              "<Figure size 1008x576 with 1 Axes>"
            ]
          },
          "metadata": {
            "needs_background": "light"
          },
          "output_type": "display_data"
        }
      ],
      "source": [
        "from sklearn.manifold import TSNE\n",
        "import matplotlib.pyplot as plt\n",
        "import  numpy as np\n",
        "\n",
        "tsne = TSNE(perplexity=3, n_components=2, init='pca', n_iter=5000, method='exact')\n",
        "np.set_printoptions(suppress=True)\n",
        "plot_only = 50\n",
        "\n",
        "# don't plot the special tokens\n",
        "start = 3\n",
        "T = tsne.fit_transform(word_embeddings[start:plot_only, :])\n",
        "labels = [idx2word[i] for i in range(start, plot_only)]\n",
        "plt.figure(figsize=(14, 8))\n",
        "plt.scatter(T[:, 0], T[:, 1])\n",
        "for label, x, y in zip(labels, T[:, 0], T[:, 1]):\n",
        "    plt.annotate(label, xy=(x+1, y+1), xytext=(0, 0), textcoords='offset points', ha='right', va='bottom')\n"
      ]
    },
    {
      "cell_type": "markdown",
      "metadata": {
        "id": "sHdy4PDVO8TN"
      },
      "source": [
        "###**10. Questions**\n",
        "\n",
        "1. Create a new model that is a copy of the model step 3. To this new model,add two dropout layers, one between the embedding layer and the LSTM layer and another between the LSTM layer and the output layer. Repeat steps 4 and 5 for this model. What do you observe?\n",
        "\n",
        "2. Experiment with training the model with batch sizes of 1, 32, len(training_data). What do you observe?\n",
        "\n",
        "3. (optional) Can you retrain with a Bidirectional LSTM instead of an LSTM? What do you observe about the Bi-LSTM model?\n"
      ]
    },
    {
      "cell_type": "markdown",
      "metadata": {
        "id": "dxvb_lmHZ0Qm"
      },
      "source": [
        "##### P1\n",
        "\n",
        "Create a new model that is a copy of the model step 3. To this new model,add two dropout layers, one between the embedding layer and the LSTM layer and another between the LSTM layer and the output layer. Repeat steps 4 and 5 for this model. What do you observe?"
      ]
    },
    {
      "cell_type": "code",
      "execution_count": null,
      "metadata": {
        "colab": {
          "base_uri": "https://localhost:8080/"
        },
        "id": "nmT6KW0zU993",
        "outputId": "b9622f22-a78e-4234-ef79-cecc933acdd8",
        "tags": []
      },
      "outputs": [
        {
          "name": "stdout",
          "output_type": "stream",
          "text": [
            "Model: \"model_2\"\n",
            "_________________________________________________________________\n",
            " Layer (type)                Output Shape              Param #   \n",
            "=================================================================\n",
            " input_3 (InputLayer)        [(None, 500)]             0         \n",
            "                                                                 \n",
            " embedding_2 (Embedding)     (None, 500, 100)          1000000   \n",
            "                                                                 \n",
            " dropout (Dropout)           (None, 500, 100)          0         \n",
            "                                                                 \n",
            " lstm_2 (LSTM)               (None, 100)               80400     \n",
            "                                                                 \n",
            " dropout_1 (Dropout)         (None, 100)               0         \n",
            "                                                                 \n",
            " dense_2 (Dense)             (None, 1)                 101       \n",
            "                                                                 \n",
            "=================================================================\n",
            "Total params: 1,080,501\n",
            "Trainable params: 1,080,501\n",
            "Non-trainable params: 0\n",
            "_________________________________________________________________\n"
          ]
        }
      ],
      "source": [
        "# Import the necessary Keras modules\n",
        "from keras.layers import Input, Embedding, Dense, LSTM, Dropout\n",
        "from keras.models import Model\n",
        "\n",
        "# Define the hyperparameters\n",
        "EMBED_SIZE = 100\n",
        "MAX_LENGTH = 500\n",
        "VOCAB_SIZE = 10000\n",
        "\n",
        "# Define the input layer with shape (MAX_LENGTH,)\n",
        "input_imdb = Input(shape=(MAX_LENGHT,))\n",
        "\n",
        "# Define the embedding layer to map each word in the input sequence to a dense vector of dimension EMBED_SIZE\n",
        "embedding_layer = Embedding(mask_zero=True,  # Set to True to mask out zero-padding in input sequences\n",
        "                            input_length=MAX_LENGTH,  # The maximum length of the input sequence\n",
        "                            input_dim=VOCAB_SIZE,  # The size of the vocabulary\n",
        "                            output_dim=EMBED_SIZE,  # The dimensionality of the embedding vector\n",
        "                            embeddings_initializer='glorot_uniform')(input_imdb)  # The method used to initialize the weights\n",
        "\n",
        "# Apply dropout regularization to the embedding layer to prevent overfitting\n",
        "dropout_layer_1 = Dropout(rate=0.2)(embedding_layer)\n",
        "\n",
        "# Add an LSTM layer to the model to capture the temporal dependencies in the input sequence\n",
        "lstm_layer = LSTM(EMBED_SIZE, return_sequences=False)(dropout_layer_1)\n",
        "\n",
        "# Apply dropout regularization to the LSTM layer to prevent overfitting\n",
        "dropout_layer_2 = Dropout(rate=0.2)(lstm_layer)\n",
        "\n",
        "# Add a dense layer with a sigmoid activation function to generate the binary classification output\n",
        "dense_layer = Dense(1, activation='sigmoid')(dropout_layer_2)\n",
        "\n",
        "# Define the model with the input and output layers\n",
        "model = Model(inputs=input_imdb, outputs=dense_layer)\n",
        "\n",
        "# Compile the model with Adam optimizer and binary cross-entropy loss function\n",
        "model.compile('adam', 'binary_crossentropy', metrics=['accuracy'])\n",
        "\n",
        "# Print a summary of the model architecture\n",
        "model.summary()\n"
      ]
    },
    {
      "cell_type": "code",
      "execution_count": null,
      "metadata": {
        "colab": {
          "base_uri": "https://localhost:8080/"
        },
        "id": "rLPQ9MQ7U994",
        "outputId": "af2b1b9d-942a-4403-8d80-a36c8cb59d0a"
      },
      "outputs": [
        {
          "name": "stdout",
          "output_type": "stream",
          "text": [
            "Epoch 1/6\n",
            "23/23 [==============================] - 19s 658ms/step - loss: 0.6413 - accuracy: 0.6619 - val_loss: 0.4534 - val_accuracy: 0.8000\n",
            "Epoch 2/6\n",
            "23/23 [==============================] - 14s 601ms/step - loss: 0.3656 - accuracy: 0.8563 - val_loss: 0.3532 - val_accuracy: 0.8585\n",
            "Epoch 3/6\n",
            "23/23 [==============================] - 13s 583ms/step - loss: 0.2486 - accuracy: 0.9075 - val_loss: 0.2946 - val_accuracy: 0.8775\n",
            "Epoch 4/6\n",
            "23/23 [==============================] - 13s 565ms/step - loss: 0.1927 - accuracy: 0.9323 - val_loss: 0.2845 - val_accuracy: 0.8830\n",
            "Epoch 5/6\n",
            "23/23 [==============================] - 13s 566ms/step - loss: 0.1573 - accuracy: 0.9477 - val_loss: 0.2980 - val_accuracy: 0.8815\n",
            "Epoch 6/6\n",
            "23/23 [==============================] - 13s 563ms/step - loss: 0.1298 - accuracy: 0.9583 - val_loss: 0.3045 - val_accuracy: 0.8815\n"
          ]
        }
      ],
      "source": [
        "history = model.fit(train_x, train_y, epochs=6, batch_size=1000, validation_data=(validation_x, validation_y))"
      ]
    },
    {
      "cell_type": "code",
      "execution_count": null,
      "metadata": {
        "colab": {
          "base_uri": "https://localhost:8080/",
          "height": 497
        },
        "id": "AN4iGkrnU994",
        "outputId": "1cf21e12-d80a-4105-f1a9-60a870cef65d"
      },
      "outputs": [
        {
          "name": "stdout",
          "output_type": "stream",
          "text": [
            "25/25 [==============================] - 2s 91ms/step - loss: 0.3282 - accuracy: 0.8700\n",
            "test_loss: 0.32820555567741394 test_accuracy: 0.8700399994850159\n"
          ]
        },
        {
          "data": {
            "image/png": "[encoded data removed]",
            "text/plain": [
              "<Figure size 1000x500 with 2 Axes>"
            ]
          },
          "metadata": {
            "needs_background": "light"
          },
          "output_type": "display_data"
        }
      ],
      "source": [
        "results = model.evaluate(padded_test_data, test_labels, batch_size=1000)\n",
        "print('test_loss:', results[0], 'test_accuracy:', results[1])\n",
        "\n",
        "plot_history(history.history, path = \"std.png\")\n",
        "plt.show()"
      ]
    },
    {
      "cell_type": "code",
      "execution_count": null,
      "metadata": {
        "colab": {
          "base_uri": "https://localhost:8080/"
        },
        "id": "AbsUJvgFU994",
        "outputId": "c71fed9f-9323-4745-e78e-8f943eab2c73"
      },
      "outputs": [
        {
          "name": "stdout",
          "output_type": "stream",
          "text": [
            "25/25 [==============================] - 2s 90ms/step - loss: 0.3282 - accuracy: 0.8700\n",
            "test_loss: 0.32820555567741394 test_accuracy: 0.8700399994850159\n"
          ]
        }
      ],
      "source": [
        "results = model.evaluate(padded_test_data, test_labels, batch_size=1000)\n",
        "print('test_loss:', results[0], 'test_accuracy:', results[1])"
      ]
    },
    {
      "cell_type": "markdown",
      "metadata": {
        "id": "CHsfd5g7U994"
      },
      "source": [
        "### P2\n",
        "Experiment with training the model with batch sizes of 1, 32, len(training_data). What do you observe?"
      ]
    },
    {
      "cell_type": "markdown",
      "metadata": {
        "id": "ThfZNdiKY9Cn"
      },
      "source": [
        "####  Batch size=1"
      ]
    },
    {
      "cell_type": "code",
      "execution_count": null,
      "metadata": {
        "colab": {
          "base_uri": "https://localhost:8080/"
        },
        "id": "GPa7QeDiU994",
        "outputId": "2cba2c5e-dbaf-48d1-c3d4-a3d5b65b99bf"
      },
      "outputs": [
        {
          "name": "stdout",
          "output_type": "stream",
          "text": [
            "Model: \"model_2\"\n",
            "_________________________________________________________________\n",
            " Layer (type)                Output Shape              Param #   \n",
            "=================================================================\n",
            " input_3 (InputLayer)        [(None, 500)]             0         \n",
            "                                                                 \n",
            " embedding_2 (Embedding)     (None, 500, 100)          1000000   \n",
            "                                                                 \n",
            " lstm_2 (LSTM)               (None, 100)               80400     \n",
            "                                                                 \n",
            " dense_2 (Dense)             (None, 1)                 101       \n",
            "                                                                 \n",
            "=================================================================\n",
            "Total params: 1,080,501\n",
            "Trainable params: 1,080,501\n",
            "Non-trainable params: 0\n",
            "_________________________________________________________________\n"
          ]
        }
      ],
      "source": [
        "from keras.layers import Input, Embedding, Dense, LSTM, Dropout\n",
        "from keras.models import Model\n",
        "\n",
        "EMBED_SIZE = 100\n",
        "MAX_LENGTH = 500\n",
        "VOCAB_SIZE = 10000\n",
        "input_imdb = Input(shape=(MAX_LENGHT,))\n",
        "embedding_layer = Embedding(mask_zero = True,\n",
        "                            input_length = MAX_LENGTH,\n",
        "                            input_dim = VOCAB_SIZE,\n",
        "                            output_dim = EMBED_SIZE,\n",
        "                            embeddings_initializer='glorot_uniform')(input_imdb)\n",
        "lstm_layer = LSTM(EMBED_SIZE, return_sequences = False)(embedding_layer)\n",
        "dense_layer = Dense(1, activation = 'sigmoid')(lstm_layer)\n",
        "model = Model(inputs= input_imdb, outputs=dense_layer)\n",
        "model.compile('adam', 'binary_crossentropy', metrics=['accuracy'])\n",
        "model.summary()"
      ]
    },
    {
      "cell_type": "code",
      "execution_count": null,
      "metadata": {
        "colab": {
          "base_uri": "https://localhost:8080/",
          "height": 450
        },
        "id": "bPuT1qf_U994",
        "outputId": "e7290e8b-69cc-410a-9ade-fec7f6da0c0a"
      },
      "outputs": [
        {
          "name": "stdout",
          "output_type": "stream",
          "text": [
            "Epoch 1/6\n",
            "   25/23000 [..............................] - ETA: 4:07:27 - loss: 0.6921 - accuracy: 0.6000"
          ]
        },
        {
          "ename": "KeyboardInterrupt",
          "evalue": "ignored",
          "output_type": "error",
          "traceback": [
            "\u001b[0;31m---------------------------------------------------------------------------\u001b[0m",
            "\u001b[0;31mKeyboardInterrupt\u001b[0m                         Traceback (most recent call last)",
            "\u001b[0;32m<ipython-input-29-2adeae7a123f>\u001b[0m in \u001b[0;36m<module>\u001b[0;34m\u001b[0m\n\u001b[1;32m      1\u001b[0m \u001b[0;31m# BatchSize = 1\u001b[0m\u001b[0;34m\u001b[0m\u001b[0;34m\u001b[0m\u001b[0m\n\u001b[0;32m----> 2\u001b[0;31m \u001b[0mhistory\u001b[0m \u001b[0;34m=\u001b[0m \u001b[0mmodel\u001b[0m\u001b[0;34m.\u001b[0m\u001b[0mfit\u001b[0m\u001b[0;34m(\u001b[0m\u001b[0mtrain_x\u001b[0m\u001b[0;34m,\u001b[0m \u001b[0mtrain_y\u001b[0m\u001b[0;34m,\u001b[0m \u001b[0mepochs\u001b[0m\u001b[0;34m=\u001b[0m\u001b[0;36m6\u001b[0m\u001b[0;34m,\u001b[0m \u001b[0mbatch_size\u001b[0m\u001b[0;34m=\u001b[0m\u001b[0;36m1\u001b[0m\u001b[0;34m,\u001b[0m \u001b[0mvalidation_data\u001b[0m\u001b[0;34m=\u001b[0m\u001b[0;34m(\u001b[0m\u001b[0mvalidation_x\u001b[0m\u001b[0;34m,\u001b[0m \u001b[0mvalidation_y\u001b[0m\u001b[0;34m)\u001b[0m\u001b[0;34m)\u001b[0m\u001b[0;34m\u001b[0m\u001b[0;34m\u001b[0m\u001b[0m\n\u001b[0m\u001b[1;32m      3\u001b[0m \u001b[0mplot_history\u001b[0m\u001b[0;34m(\u001b[0m\u001b[0mhistory\u001b[0m\u001b[0;34m.\u001b[0m\u001b[0mhistory\u001b[0m\u001b[0;34m,\u001b[0m \u001b[0mpath\u001b[0m\u001b[0;34m=\u001b[0m\u001b[0;34m\"standard.png\"\u001b[0m\u001b[0;34m)\u001b[0m\u001b[0;34m\u001b[0m\u001b[0;34m\u001b[0m\u001b[0m\n\u001b[1;32m      4\u001b[0m \u001b[0mplt\u001b[0m\u001b[0;34m.\u001b[0m\u001b[0mshow\u001b[0m\u001b[0;34m(\u001b[0m\u001b[0;34m)\u001b[0m\u001b[0;34m\u001b[0m\u001b[0;34m\u001b[0m\u001b[0m\n\u001b[1;32m      5\u001b[0m \u001b[0mresults\u001b[0m \u001b[0;34m=\u001b[0m \u001b[0mmodel\u001b[0m\u001b[0;34m.\u001b[0m\u001b[0mevaluate\u001b[0m\u001b[0;34m(\u001b[0m\u001b[0mpadded_test_data\u001b[0m\u001b[0;34m,\u001b[0m \u001b[0mtest_labels\u001b[0m\u001b[0;34m,\u001b[0m \u001b[0mbatch_size\u001b[0m\u001b[0;34m=\u001b[0m\u001b[0;36m1000\u001b[0m\u001b[0;34m)\u001b[0m\u001b[0;34m\u001b[0m\u001b[0;34m\u001b[0m\u001b[0m\n",
            "\u001b[0;32m/usr/local/lib/python3.9/dist-packages/keras/utils/traceback_utils.py\u001b[0m in \u001b[0;36merror_handler\u001b[0;34m(*args, **kwargs)\u001b[0m\n\u001b[1;32m     63\u001b[0m         \u001b[0mfiltered_tb\u001b[0m \u001b[0;34m=\u001b[0m \u001b[0;32mNone\u001b[0m\u001b[0;34m\u001b[0m\u001b[0;34m\u001b[0m\u001b[0m\n\u001b[1;32m     64\u001b[0m         \u001b[0;32mtry\u001b[0m\u001b[0;34m:\u001b[0m\u001b[0;34m\u001b[0m\u001b[0;34m\u001b[0m\u001b[0m\n\u001b[0;32m---> 65\u001b[0;31m             \u001b[0;32mreturn\u001b[0m \u001b[0mfn\u001b[0m\u001b[0;34m(\u001b[0m\u001b[0;34m*\u001b[0m\u001b[0margs\u001b[0m\u001b[0;34m,\u001b[0m \u001b[0;34m**\u001b[0m\u001b[0mkwargs\u001b[0m\u001b[0;34m)\u001b[0m\u001b[0;34m\u001b[0m\u001b[0;34m\u001b[0m\u001b[0m\n\u001b[0m\u001b[1;32m     66\u001b[0m         \u001b[0;32mexcept\u001b[0m \u001b[0mException\u001b[0m \u001b[0;32mas\u001b[0m \u001b[0me\u001b[0m\u001b[0;34m:\u001b[0m\u001b[0;34m\u001b[0m\u001b[0;34m\u001b[0m\u001b[0m\n\u001b[1;32m     67\u001b[0m             \u001b[0mfiltered_tb\u001b[0m \u001b[0;34m=\u001b[0m \u001b[0m_process_traceback_frames\u001b[0m\u001b[0;34m(\u001b[0m\u001b[0me\u001b[0m\u001b[0;34m.\u001b[0m\u001b[0m__traceback__\u001b[0m\u001b[0;34m)\u001b[0m\u001b[0;34m\u001b[0m\u001b[0;34m\u001b[0m\u001b[0m\n",
            "\u001b[0;32m/usr/local/lib/python3.9/dist-packages/keras/engine/training.py\u001b[0m in \u001b[0;36mfit\u001b[0;34m(self, x, y, batch_size, epochs, verbose, callbacks, validation_split, validation_data, shuffle, class_weight, sample_weight, initial_epoch, steps_per_epoch, validation_steps, validation_batch_size, validation_freq, max_queue_size, workers, use_multiprocessing)\u001b[0m\n\u001b[1;32m   1648\u001b[0m                         ):\n\u001b[1;32m   1649\u001b[0m                             \u001b[0mcallbacks\u001b[0m\u001b[0;34m.\u001b[0m\u001b[0mon_train_batch_begin\u001b[0m\u001b[0;34m(\u001b[0m\u001b[0mstep\u001b[0m\u001b[0;34m)\u001b[0m\u001b[0;34m\u001b[0m\u001b[0;34m\u001b[0m\u001b[0m\n\u001b[0;32m-> 1650\u001b[0;31m                             \u001b[0mtmp_logs\u001b[0m \u001b[0;34m=\u001b[0m \u001b[0mself\u001b[0m\u001b[0;34m.\u001b[0m\u001b[0mtrain_function\u001b[0m\u001b[0;34m(\u001b[0m\u001b[0miterator\u001b[0m\u001b[0;34m)\u001b[0m\u001b[0;34m\u001b[0m\u001b[0;34m\u001b[0m\u001b[0m\n\u001b[0m\u001b[1;32m   1651\u001b[0m                             \u001b[0;32mif\u001b[0m \u001b[0mdata_handler\u001b[0m\u001b[0;34m.\u001b[0m\u001b[0mshould_sync\u001b[0m\u001b[0;34m:\u001b[0m\u001b[0;34m\u001b[0m\u001b[0;34m\u001b[0m\u001b[0m\n\u001b[1;32m   1652\u001b[0m                                 \u001b[0mcontext\u001b[0m\u001b[0;34m.\u001b[0m\u001b[0masync_wait\u001b[0m\u001b[0;34m(\u001b[0m\u001b[0;34m)\u001b[0m\u001b[0;34m\u001b[0m\u001b[0;34m\u001b[0m\u001b[0m\n",
            "\u001b[0;32m/usr/local/lib/python3.9/dist-packages/tensorflow/python/util/traceback_utils.py\u001b[0m in \u001b[0;36merror_handler\u001b[0;34m(*args, **kwargs)\u001b[0m\n\u001b[1;32m    148\u001b[0m     \u001b[0mfiltered_tb\u001b[0m \u001b[0;34m=\u001b[0m \u001b[0;32mNone\u001b[0m\u001b[0;34m\u001b[0m\u001b[0;34m\u001b[0m\u001b[0m\n\u001b[1;32m    149\u001b[0m     \u001b[0;32mtry\u001b[0m\u001b[0;34m:\u001b[0m\u001b[0;34m\u001b[0m\u001b[0;34m\u001b[0m\u001b[0m\n\u001b[0;32m--> 150\u001b[0;31m       \u001b[0;32mreturn\u001b[0m \u001b[0mfn\u001b[0m\u001b[0;34m(\u001b[0m\u001b[0;34m*\u001b[0m\u001b[0margs\u001b[0m\u001b[0;34m,\u001b[0m \u001b[0;34m**\u001b[0m\u001b[0mkwargs\u001b[0m\u001b[0;34m)\u001b[0m\u001b[0;34m\u001b[0m\u001b[0;34m\u001b[0m\u001b[0m\n\u001b[0m\u001b[1;32m    151\u001b[0m     \u001b[0;32mexcept\u001b[0m \u001b[0mException\u001b[0m \u001b[0;32mas\u001b[0m \u001b[0me\u001b[0m\u001b[0;34m:\u001b[0m\u001b[0;34m\u001b[0m\u001b[0;34m\u001b[0m\u001b[0m\n\u001b[1;32m    152\u001b[0m       \u001b[0mfiltered_tb\u001b[0m \u001b[0;34m=\u001b[0m \u001b[0m_process_traceback_frames\u001b[0m\u001b[0;34m(\u001b[0m\u001b[0me\u001b[0m\u001b[0;34m.\u001b[0m\u001b[0m__traceback__\u001b[0m\u001b[0;34m)\u001b[0m\u001b[0;34m\u001b[0m\u001b[0;34m\u001b[0m\u001b[0m\n",
            "\u001b[0;32m/usr/local/lib/python3.9/dist-packages/tensorflow/python/eager/polymorphic_function/polymorphic_function.py\u001b[0m in \u001b[0;36m__call__\u001b[0;34m(self, *args, **kwds)\u001b[0m\n\u001b[1;32m    878\u001b[0m \u001b[0;34m\u001b[0m\u001b[0m\n\u001b[1;32m    879\u001b[0m       \u001b[0;32mwith\u001b[0m \u001b[0mOptionalXlaContext\u001b[0m\u001b[0;34m(\u001b[0m\u001b[0mself\u001b[0m\u001b[0;34m.\u001b[0m\u001b[0m_jit_compile\u001b[0m\u001b[0;34m)\u001b[0m\u001b[0;34m:\u001b[0m\u001b[0;34m\u001b[0m\u001b[0;34m\u001b[0m\u001b[0m\n\u001b[0;32m--> 880\u001b[0;31m         \u001b[0mresult\u001b[0m \u001b[0;34m=\u001b[0m \u001b[0mself\u001b[0m\u001b[0;34m.\u001b[0m\u001b[0m_call\u001b[0m\u001b[0;34m(\u001b[0m\u001b[0;34m*\u001b[0m\u001b[0margs\u001b[0m\u001b[0;34m,\u001b[0m \u001b[0;34m**\u001b[0m\u001b[0mkwds\u001b[0m\u001b[0;34m)\u001b[0m\u001b[0;34m\u001b[0m\u001b[0;34m\u001b[0m\u001b[0m\n\u001b[0m\u001b[1;32m    881\u001b[0m \u001b[0;34m\u001b[0m\u001b[0m\n\u001b[1;32m    882\u001b[0m       \u001b[0mnew_tracing_count\u001b[0m \u001b[0;34m=\u001b[0m \u001b[0mself\u001b[0m\u001b[0;34m.\u001b[0m\u001b[0mexperimental_get_tracing_count\u001b[0m\u001b[0;34m(\u001b[0m\u001b[0;34m)\u001b[0m\u001b[0;34m\u001b[0m\u001b[0;34m\u001b[0m\u001b[0m\n",
            "\u001b[0;32m/usr/local/lib/python3.9/dist-packages/tensorflow/python/eager/polymorphic_function/polymorphic_function.py\u001b[0m in \u001b[0;36m_call\u001b[0;34m(self, *args, **kwds)\u001b[0m\n\u001b[1;32m    910\u001b[0m       \u001b[0;31m# In this case we have created variables on the first call, so we run the\u001b[0m\u001b[0;34m\u001b[0m\u001b[0;34m\u001b[0m\u001b[0m\n\u001b[1;32m    911\u001b[0m       \u001b[0;31m# defunned version which is guaranteed to never create variables.\u001b[0m\u001b[0;34m\u001b[0m\u001b[0;34m\u001b[0m\u001b[0m\n\u001b[0;32m--> 912\u001b[0;31m       \u001b[0;32mreturn\u001b[0m \u001b[0mself\u001b[0m\u001b[0;34m.\u001b[0m\u001b[0m_no_variable_creation_fn\u001b[0m\u001b[0;34m(\u001b[0m\u001b[0;34m*\u001b[0m\u001b[0margs\u001b[0m\u001b[0;34m,\u001b[0m \u001b[0;34m**\u001b[0m\u001b[0mkwds\u001b[0m\u001b[0;34m)\u001b[0m  \u001b[0;31m# pylint: disable=not-callable\u001b[0m\u001b[0;34m\u001b[0m\u001b[0;34m\u001b[0m\u001b[0m\n\u001b[0m\u001b[1;32m    913\u001b[0m     \u001b[0;32melif\u001b[0m \u001b[0mself\u001b[0m\u001b[0;34m.\u001b[0m\u001b[0m_variable_creation_fn\u001b[0m \u001b[0;32mis\u001b[0m \u001b[0;32mnot\u001b[0m \u001b[0;32mNone\u001b[0m\u001b[0;34m:\u001b[0m\u001b[0;34m\u001b[0m\u001b[0;34m\u001b[0m\u001b[0m\n\u001b[1;32m    914\u001b[0m       \u001b[0;31m# Release the lock early so that multiple threads can perform the call\u001b[0m\u001b[0;34m\u001b[0m\u001b[0;34m\u001b[0m\u001b[0m\n",
            "\u001b[0;32m/usr/local/lib/python3.9/dist-packages/tensorflow/python/eager/polymorphic_function/tracing_compiler.py\u001b[0m in \u001b[0;36m__call__\u001b[0;34m(self, *args, **kwargs)\u001b[0m\n\u001b[1;32m    132\u001b[0m       (concrete_function,\n\u001b[1;32m    133\u001b[0m        filtered_flat_args) = self._maybe_define_function(args, kwargs)\n\u001b[0;32m--> 134\u001b[0;31m     return concrete_function._call_flat(\n\u001b[0m\u001b[1;32m    135\u001b[0m         filtered_flat_args, captured_inputs=concrete_function.captured_inputs)  # pylint: disable=protected-access\n\u001b[1;32m    136\u001b[0m \u001b[0;34m\u001b[0m\u001b[0m\n",
            "\u001b[0;32m/usr/local/lib/python3.9/dist-packages/tensorflow/python/eager/polymorphic_function/monomorphic_function.py\u001b[0m in \u001b[0;36m_call_flat\u001b[0;34m(self, args, captured_inputs, cancellation_manager)\u001b[0m\n\u001b[1;32m   1743\u001b[0m         and executing_eagerly):\n\u001b[1;32m   1744\u001b[0m       \u001b[0;31m# No tape is watching; skip to running the function.\u001b[0m\u001b[0;34m\u001b[0m\u001b[0;34m\u001b[0m\u001b[0m\n\u001b[0;32m-> 1745\u001b[0;31m       return self._build_call_outputs(self._inference_function.call(\n\u001b[0m\u001b[1;32m   1746\u001b[0m           ctx, args, cancellation_manager=cancellation_manager))\n\u001b[1;32m   1747\u001b[0m     forward_backward = self._select_forward_and_backward_functions(\n",
            "\u001b[0;32m/usr/local/lib/python3.9/dist-packages/tensorflow/python/eager/polymorphic_function/monomorphic_function.py\u001b[0m in \u001b[0;36mcall\u001b[0;34m(self, ctx, args, cancellation_manager)\u001b[0m\n\u001b[1;32m    376\u001b[0m       \u001b[0;32mwith\u001b[0m \u001b[0m_InterpolateFunctionError\u001b[0m\u001b[0;34m(\u001b[0m\u001b[0mself\u001b[0m\u001b[0;34m)\u001b[0m\u001b[0;34m:\u001b[0m\u001b[0;34m\u001b[0m\u001b[0;34m\u001b[0m\u001b[0m\n\u001b[1;32m    377\u001b[0m         \u001b[0;32mif\u001b[0m \u001b[0mcancellation_manager\u001b[0m \u001b[0;32mis\u001b[0m \u001b[0;32mNone\u001b[0m\u001b[0;34m:\u001b[0m\u001b[0;34m\u001b[0m\u001b[0;34m\u001b[0m\u001b[0m\n\u001b[0;32m--> 378\u001b[0;31m           outputs = execute.execute(\n\u001b[0m\u001b[1;32m    379\u001b[0m               \u001b[0mstr\u001b[0m\u001b[0;34m(\u001b[0m\u001b[0mself\u001b[0m\u001b[0;34m.\u001b[0m\u001b[0msignature\u001b[0m\u001b[0;34m.\u001b[0m\u001b[0mname\u001b[0m\u001b[0;34m)\u001b[0m\u001b[0;34m,\u001b[0m\u001b[0;34m\u001b[0m\u001b[0;34m\u001b[0m\u001b[0m\n\u001b[1;32m    380\u001b[0m               \u001b[0mnum_outputs\u001b[0m\u001b[0;34m=\u001b[0m\u001b[0mself\u001b[0m\u001b[0;34m.\u001b[0m\u001b[0m_num_outputs\u001b[0m\u001b[0;34m,\u001b[0m\u001b[0;34m\u001b[0m\u001b[0;34m\u001b[0m\u001b[0m\n",
            "\u001b[0;32m/usr/local/lib/python3.9/dist-packages/tensorflow/python/eager/execute.py\u001b[0m in \u001b[0;36mquick_execute\u001b[0;34m(op_name, num_outputs, inputs, attrs, ctx, name)\u001b[0m\n\u001b[1;32m     50\u001b[0m   \u001b[0;32mtry\u001b[0m\u001b[0;34m:\u001b[0m\u001b[0;34m\u001b[0m\u001b[0;34m\u001b[0m\u001b[0m\n\u001b[1;32m     51\u001b[0m     \u001b[0mctx\u001b[0m\u001b[0;34m.\u001b[0m\u001b[0mensure_initialized\u001b[0m\u001b[0;34m(\u001b[0m\u001b[0;34m)\u001b[0m\u001b[0;34m\u001b[0m\u001b[0;34m\u001b[0m\u001b[0m\n\u001b[0;32m---> 52\u001b[0;31m     tensors = pywrap_tfe.TFE_Py_Execute(ctx._handle, device_name, op_name,\n\u001b[0m\u001b[1;32m     53\u001b[0m                                         inputs, attrs, num_outputs)\n\u001b[1;32m     54\u001b[0m   \u001b[0;32mexcept\u001b[0m \u001b[0mcore\u001b[0m\u001b[0;34m.\u001b[0m\u001b[0m_NotOkStatusException\u001b[0m \u001b[0;32mas\u001b[0m \u001b[0me\u001b[0m\u001b[0;34m:\u001b[0m\u001b[0;34m\u001b[0m\u001b[0;34m\u001b[0m\u001b[0m\n",
            "\u001b[0;31mKeyboardInterrupt\u001b[0m: "
          ]
        }
      ],
      "source": [
        "# BatchSize = 1\n",
        "history = model.fit(train_x, train_y, epochs=6, batch_size=1, validation_data=(validation_x, validation_y))\n",
        "plot_history(history.history, path=\"standard.png\")\n",
        "plt.show()\n",
        "results = model.evaluate(padded_test_data, test_labels, batch_size=1000)\n",
        "print('test_loss:', results[0], 'test_accuracy:', results[1])\n",
        "# takes a lot of time"
      ]
    },
    {
      "cell_type": "markdown",
      "metadata": {
        "id": "JFuQcauIaJjB"
      },
      "source": [
        "##### Batch Size = 32"
      ]
    },
    {
      "cell_type": "code",
      "execution_count": null,
      "metadata": {
        "colab": {
          "base_uri": "https://localhost:8080/",
          "height": 450
        },
        "id": "OxBd1670aI3O",
        "outputId": "3c33fb34-0293-423b-8816-e82105a32401"
      },
      "outputs": [
        {
          "name": "stdout",
          "output_type": "stream",
          "text": [
            "Epoch 1/6\n",
            " 83/719 [==>...........................] - ETA: 11:15 - loss: 0.6345 - accuracy: 0.6258"
          ]
        },
        {
          "ename": "KeyboardInterrupt",
          "evalue": "ignored",
          "output_type": "error",
          "traceback": [
            "\u001b[0;31m---------------------------------------------------------------------------\u001b[0m",
            "\u001b[0;31mKeyboardInterrupt\u001b[0m                         Traceback (most recent call last)",
            "\u001b[0;32m<ipython-input-30-b62e65b78b68>\u001b[0m in \u001b[0;36m<module>\u001b[0;34m\u001b[0m\n\u001b[1;32m     15\u001b[0m \u001b[0;34m\u001b[0m\u001b[0m\n\u001b[1;32m     16\u001b[0m \u001b[0;34m\u001b[0m\u001b[0m\n\u001b[0;32m---> 17\u001b[0;31m \u001b[0mhistory\u001b[0m \u001b[0;34m=\u001b[0m \u001b[0mmodel\u001b[0m\u001b[0;34m.\u001b[0m\u001b[0mfit\u001b[0m\u001b[0;34m(\u001b[0m\u001b[0mtrain_x\u001b[0m\u001b[0;34m,\u001b[0m \u001b[0mtrain_y\u001b[0m\u001b[0;34m,\u001b[0m \u001b[0mepochs\u001b[0m\u001b[0;34m=\u001b[0m\u001b[0;36m6\u001b[0m\u001b[0;34m,\u001b[0m \u001b[0mbatch_size\u001b[0m\u001b[0;34m=\u001b[0m\u001b[0;36m32\u001b[0m\u001b[0;34m,\u001b[0m \u001b[0mvalidation_data\u001b[0m\u001b[0;34m=\u001b[0m\u001b[0;34m(\u001b[0m\u001b[0mvalidation_x\u001b[0m\u001b[0;34m,\u001b[0m \u001b[0mvalidation_y\u001b[0m\u001b[0;34m)\u001b[0m\u001b[0;34m)\u001b[0m\u001b[0;34m\u001b[0m\u001b[0;34m\u001b[0m\u001b[0m\n\u001b[0m\u001b[1;32m     18\u001b[0m \u001b[0mplot_history\u001b[0m\u001b[0;34m(\u001b[0m\u001b[0mhistory\u001b[0m\u001b[0;34m.\u001b[0m\u001b[0mhistory\u001b[0m\u001b[0;34m,\u001b[0m \u001b[0mpath\u001b[0m\u001b[0;34m=\u001b[0m\u001b[0;34m\"standard.png\"\u001b[0m\u001b[0;34m)\u001b[0m\u001b[0;34m\u001b[0m\u001b[0;34m\u001b[0m\u001b[0m\n\u001b[1;32m     19\u001b[0m \u001b[0mplt\u001b[0m\u001b[0;34m.\u001b[0m\u001b[0mshow\u001b[0m\u001b[0;34m(\u001b[0m\u001b[0;34m)\u001b[0m\u001b[0;34m\u001b[0m\u001b[0;34m\u001b[0m\u001b[0m\n",
            "\u001b[0;32m/usr/local/lib/python3.9/dist-packages/keras/utils/traceback_utils.py\u001b[0m in \u001b[0;36merror_handler\u001b[0;34m(*args, **kwargs)\u001b[0m\n\u001b[1;32m     63\u001b[0m         \u001b[0mfiltered_tb\u001b[0m \u001b[0;34m=\u001b[0m \u001b[0;32mNone\u001b[0m\u001b[0;34m\u001b[0m\u001b[0;34m\u001b[0m\u001b[0m\n\u001b[1;32m     64\u001b[0m         \u001b[0;32mtry\u001b[0m\u001b[0;34m:\u001b[0m\u001b[0;34m\u001b[0m\u001b[0;34m\u001b[0m\u001b[0m\n\u001b[0;32m---> 65\u001b[0;31m             \u001b[0;32mreturn\u001b[0m \u001b[0mfn\u001b[0m\u001b[0;34m(\u001b[0m\u001b[0;34m*\u001b[0m\u001b[0margs\u001b[0m\u001b[0;34m,\u001b[0m \u001b[0;34m**\u001b[0m\u001b[0mkwargs\u001b[0m\u001b[0;34m)\u001b[0m\u001b[0;34m\u001b[0m\u001b[0;34m\u001b[0m\u001b[0m\n\u001b[0m\u001b[1;32m     66\u001b[0m         \u001b[0;32mexcept\u001b[0m \u001b[0mException\u001b[0m \u001b[0;32mas\u001b[0m \u001b[0me\u001b[0m\u001b[0;34m:\u001b[0m\u001b[0;34m\u001b[0m\u001b[0;34m\u001b[0m\u001b[0m\n\u001b[1;32m     67\u001b[0m             \u001b[0mfiltered_tb\u001b[0m \u001b[0;34m=\u001b[0m \u001b[0m_process_traceback_frames\u001b[0m\u001b[0;34m(\u001b[0m\u001b[0me\u001b[0m\u001b[0;34m.\u001b[0m\u001b[0m__traceback__\u001b[0m\u001b[0;34m)\u001b[0m\u001b[0;34m\u001b[0m\u001b[0;34m\u001b[0m\u001b[0m\n",
            "\u001b[0;32m/usr/local/lib/python3.9/dist-packages/keras/engine/training.py\u001b[0m in \u001b[0;36mfit\u001b[0;34m(self, x, y, batch_size, epochs, verbose, callbacks, validation_split, validation_data, shuffle, class_weight, sample_weight, initial_epoch, steps_per_epoch, validation_steps, validation_batch_size, validation_freq, max_queue_size, workers, use_multiprocessing)\u001b[0m\n\u001b[1;32m   1648\u001b[0m                         ):\n\u001b[1;32m   1649\u001b[0m                             \u001b[0mcallbacks\u001b[0m\u001b[0;34m.\u001b[0m\u001b[0mon_train_batch_begin\u001b[0m\u001b[0;34m(\u001b[0m\u001b[0mstep\u001b[0m\u001b[0;34m)\u001b[0m\u001b[0;34m\u001b[0m\u001b[0;34m\u001b[0m\u001b[0m\n\u001b[0;32m-> 1650\u001b[0;31m                             \u001b[0mtmp_logs\u001b[0m \u001b[0;34m=\u001b[0m \u001b[0mself\u001b[0m\u001b[0;34m.\u001b[0m\u001b[0mtrain_function\u001b[0m\u001b[0;34m(\u001b[0m\u001b[0miterator\u001b[0m\u001b[0;34m)\u001b[0m\u001b[0;34m\u001b[0m\u001b[0;34m\u001b[0m\u001b[0m\n\u001b[0m\u001b[1;32m   1651\u001b[0m                             \u001b[0;32mif\u001b[0m \u001b[0mdata_handler\u001b[0m\u001b[0;34m.\u001b[0m\u001b[0mshould_sync\u001b[0m\u001b[0;34m:\u001b[0m\u001b[0;34m\u001b[0m\u001b[0;34m\u001b[0m\u001b[0m\n\u001b[1;32m   1652\u001b[0m                                 \u001b[0mcontext\u001b[0m\u001b[0;34m.\u001b[0m\u001b[0masync_wait\u001b[0m\u001b[0;34m(\u001b[0m\u001b[0;34m)\u001b[0m\u001b[0;34m\u001b[0m\u001b[0;34m\u001b[0m\u001b[0m\n",
            "\u001b[0;32m/usr/local/lib/python3.9/dist-packages/tensorflow/python/util/traceback_utils.py\u001b[0m in \u001b[0;36merror_handler\u001b[0;34m(*args, **kwargs)\u001b[0m\n\u001b[1;32m    148\u001b[0m     \u001b[0mfiltered_tb\u001b[0m \u001b[0;34m=\u001b[0m \u001b[0;32mNone\u001b[0m\u001b[0;34m\u001b[0m\u001b[0;34m\u001b[0m\u001b[0m\n\u001b[1;32m    149\u001b[0m     \u001b[0;32mtry\u001b[0m\u001b[0;34m:\u001b[0m\u001b[0;34m\u001b[0m\u001b[0;34m\u001b[0m\u001b[0m\n\u001b[0;32m--> 150\u001b[0;31m       \u001b[0;32mreturn\u001b[0m \u001b[0mfn\u001b[0m\u001b[0;34m(\u001b[0m\u001b[0;34m*\u001b[0m\u001b[0margs\u001b[0m\u001b[0;34m,\u001b[0m \u001b[0;34m**\u001b[0m\u001b[0mkwargs\u001b[0m\u001b[0;34m)\u001b[0m\u001b[0;34m\u001b[0m\u001b[0;34m\u001b[0m\u001b[0m\n\u001b[0m\u001b[1;32m    151\u001b[0m     \u001b[0;32mexcept\u001b[0m \u001b[0mException\u001b[0m \u001b[0;32mas\u001b[0m \u001b[0me\u001b[0m\u001b[0;34m:\u001b[0m\u001b[0;34m\u001b[0m\u001b[0;34m\u001b[0m\u001b[0m\n\u001b[1;32m    152\u001b[0m       \u001b[0mfiltered_tb\u001b[0m \u001b[0;34m=\u001b[0m \u001b[0m_process_traceback_frames\u001b[0m\u001b[0;34m(\u001b[0m\u001b[0me\u001b[0m\u001b[0;34m.\u001b[0m\u001b[0m__traceback__\u001b[0m\u001b[0;34m)\u001b[0m\u001b[0;34m\u001b[0m\u001b[0;34m\u001b[0m\u001b[0m\n",
            "\u001b[0;32m/usr/local/lib/python3.9/dist-packages/tensorflow/python/eager/polymorphic_function/polymorphic_function.py\u001b[0m in \u001b[0;36m__call__\u001b[0;34m(self, *args, **kwds)\u001b[0m\n\u001b[1;32m    878\u001b[0m \u001b[0;34m\u001b[0m\u001b[0m\n\u001b[1;32m    879\u001b[0m       \u001b[0;32mwith\u001b[0m \u001b[0mOptionalXlaContext\u001b[0m\u001b[0;34m(\u001b[0m\u001b[0mself\u001b[0m\u001b[0;34m.\u001b[0m\u001b[0m_jit_compile\u001b[0m\u001b[0;34m)\u001b[0m\u001b[0;34m:\u001b[0m\u001b[0;34m\u001b[0m\u001b[0;34m\u001b[0m\u001b[0m\n\u001b[0;32m--> 880\u001b[0;31m         \u001b[0mresult\u001b[0m \u001b[0;34m=\u001b[0m \u001b[0mself\u001b[0m\u001b[0;34m.\u001b[0m\u001b[0m_call\u001b[0m\u001b[0;34m(\u001b[0m\u001b[0;34m*\u001b[0m\u001b[0margs\u001b[0m\u001b[0;34m,\u001b[0m \u001b[0;34m**\u001b[0m\u001b[0mkwds\u001b[0m\u001b[0;34m)\u001b[0m\u001b[0;34m\u001b[0m\u001b[0;34m\u001b[0m\u001b[0m\n\u001b[0m\u001b[1;32m    881\u001b[0m \u001b[0;34m\u001b[0m\u001b[0m\n\u001b[1;32m    882\u001b[0m       \u001b[0mnew_tracing_count\u001b[0m \u001b[0;34m=\u001b[0m \u001b[0mself\u001b[0m\u001b[0;34m.\u001b[0m\u001b[0mexperimental_get_tracing_count\u001b[0m\u001b[0;34m(\u001b[0m\u001b[0;34m)\u001b[0m\u001b[0;34m\u001b[0m\u001b[0;34m\u001b[0m\u001b[0m\n",
            "\u001b[0;32m/usr/local/lib/python3.9/dist-packages/tensorflow/python/eager/polymorphic_function/polymorphic_function.py\u001b[0m in \u001b[0;36m_call\u001b[0;34m(self, *args, **kwds)\u001b[0m\n\u001b[1;32m    910\u001b[0m       \u001b[0;31m# In this case we have created variables on the first call, so we run the\u001b[0m\u001b[0;34m\u001b[0m\u001b[0;34m\u001b[0m\u001b[0m\n\u001b[1;32m    911\u001b[0m       \u001b[0;31m# defunned version which is guaranteed to never create variables.\u001b[0m\u001b[0;34m\u001b[0m\u001b[0;34m\u001b[0m\u001b[0m\n\u001b[0;32m--> 912\u001b[0;31m       \u001b[0;32mreturn\u001b[0m \u001b[0mself\u001b[0m\u001b[0;34m.\u001b[0m\u001b[0m_no_variable_creation_fn\u001b[0m\u001b[0;34m(\u001b[0m\u001b[0;34m*\u001b[0m\u001b[0margs\u001b[0m\u001b[0;34m,\u001b[0m \u001b[0;34m**\u001b[0m\u001b[0mkwds\u001b[0m\u001b[0;34m)\u001b[0m  \u001b[0;31m# pylint: disable=not-callable\u001b[0m\u001b[0;34m\u001b[0m\u001b[0;34m\u001b[0m\u001b[0m\n\u001b[0m\u001b[1;32m    913\u001b[0m     \u001b[0;32melif\u001b[0m \u001b[0mself\u001b[0m\u001b[0;34m.\u001b[0m\u001b[0m_variable_creation_fn\u001b[0m \u001b[0;32mis\u001b[0m \u001b[0;32mnot\u001b[0m \u001b[0;32mNone\u001b[0m\u001b[0;34m:\u001b[0m\u001b[0;34m\u001b[0m\u001b[0;34m\u001b[0m\u001b[0m\n\u001b[1;32m    914\u001b[0m       \u001b[0;31m# Release the lock early so that multiple threads can perform the call\u001b[0m\u001b[0;34m\u001b[0m\u001b[0;34m\u001b[0m\u001b[0m\n",
            "\u001b[0;32m/usr/local/lib/python3.9/dist-packages/tensorflow/python/eager/polymorphic_function/tracing_compiler.py\u001b[0m in \u001b[0;36m__call__\u001b[0;34m(self, *args, **kwargs)\u001b[0m\n\u001b[1;32m    132\u001b[0m       (concrete_function,\n\u001b[1;32m    133\u001b[0m        filtered_flat_args) = self._maybe_define_function(args, kwargs)\n\u001b[0;32m--> 134\u001b[0;31m     return concrete_function._call_flat(\n\u001b[0m\u001b[1;32m    135\u001b[0m         filtered_flat_args, captured_inputs=concrete_function.captured_inputs)  # pylint: disable=protected-access\n\u001b[1;32m    136\u001b[0m \u001b[0;34m\u001b[0m\u001b[0m\n",
            "\u001b[0;32m/usr/local/lib/python3.9/dist-packages/tensorflow/python/eager/polymorphic_function/monomorphic_function.py\u001b[0m in \u001b[0;36m_call_flat\u001b[0;34m(self, args, captured_inputs, cancellation_manager)\u001b[0m\n\u001b[1;32m   1743\u001b[0m         and executing_eagerly):\n\u001b[1;32m   1744\u001b[0m       \u001b[0;31m# No tape is watching; skip to running the function.\u001b[0m\u001b[0;34m\u001b[0m\u001b[0;34m\u001b[0m\u001b[0m\n\u001b[0;32m-> 1745\u001b[0;31m       return self._build_call_outputs(self._inference_function.call(\n\u001b[0m\u001b[1;32m   1746\u001b[0m           ctx, args, cancellation_manager=cancellation_manager))\n\u001b[1;32m   1747\u001b[0m     forward_backward = self._select_forward_and_backward_functions(\n",
            "\u001b[0;32m/usr/local/lib/python3.9/dist-packages/tensorflow/python/eager/polymorphic_function/monomorphic_function.py\u001b[0m in \u001b[0;36mcall\u001b[0;34m(self, ctx, args, cancellation_manager)\u001b[0m\n\u001b[1;32m    376\u001b[0m       \u001b[0;32mwith\u001b[0m \u001b[0m_InterpolateFunctionError\u001b[0m\u001b[0;34m(\u001b[0m\u001b[0mself\u001b[0m\u001b[0;34m)\u001b[0m\u001b[0;34m:\u001b[0m\u001b[0;34m\u001b[0m\u001b[0;34m\u001b[0m\u001b[0m\n\u001b[1;32m    377\u001b[0m         \u001b[0;32mif\u001b[0m \u001b[0mcancellation_manager\u001b[0m \u001b[0;32mis\u001b[0m \u001b[0;32mNone\u001b[0m\u001b[0;34m:\u001b[0m\u001b[0;34m\u001b[0m\u001b[0;34m\u001b[0m\u001b[0m\n\u001b[0;32m--> 378\u001b[0;31m           outputs = execute.execute(\n\u001b[0m\u001b[1;32m    379\u001b[0m               \u001b[0mstr\u001b[0m\u001b[0;34m(\u001b[0m\u001b[0mself\u001b[0m\u001b[0;34m.\u001b[0m\u001b[0msignature\u001b[0m\u001b[0;34m.\u001b[0m\u001b[0mname\u001b[0m\u001b[0;34m)\u001b[0m\u001b[0;34m,\u001b[0m\u001b[0;34m\u001b[0m\u001b[0;34m\u001b[0m\u001b[0m\n\u001b[1;32m    380\u001b[0m               \u001b[0mnum_outputs\u001b[0m\u001b[0;34m=\u001b[0m\u001b[0mself\u001b[0m\u001b[0;34m.\u001b[0m\u001b[0m_num_outputs\u001b[0m\u001b[0;34m,\u001b[0m\u001b[0;34m\u001b[0m\u001b[0;34m\u001b[0m\u001b[0m\n",
            "\u001b[0;32m/usr/local/lib/python3.9/dist-packages/tensorflow/python/eager/execute.py\u001b[0m in \u001b[0;36mquick_execute\u001b[0;34m(op_name, num_outputs, inputs, attrs, ctx, name)\u001b[0m\n\u001b[1;32m     50\u001b[0m   \u001b[0;32mtry\u001b[0m\u001b[0;34m:\u001b[0m\u001b[0;34m\u001b[0m\u001b[0;34m\u001b[0m\u001b[0m\n\u001b[1;32m     51\u001b[0m     \u001b[0mctx\u001b[0m\u001b[0;34m.\u001b[0m\u001b[0mensure_initialized\u001b[0m\u001b[0;34m(\u001b[0m\u001b[0;34m)\u001b[0m\u001b[0;34m\u001b[0m\u001b[0;34m\u001b[0m\u001b[0m\n\u001b[0;32m---> 52\u001b[0;31m     tensors = pywrap_tfe.TFE_Py_Execute(ctx._handle, device_name, op_name,\n\u001b[0m\u001b[1;32m     53\u001b[0m                                         inputs, attrs, num_outputs)\n\u001b[1;32m     54\u001b[0m   \u001b[0;32mexcept\u001b[0m \u001b[0mcore\u001b[0m\u001b[0;34m.\u001b[0m\u001b[0m_NotOkStatusException\u001b[0m \u001b[0;32mas\u001b[0m \u001b[0me\u001b[0m\u001b[0;34m:\u001b[0m\u001b[0;34m\u001b[0m\u001b[0;34m\u001b[0m\u001b[0m\n",
            "\u001b[0;31mKeyboardInterrupt\u001b[0m: "
          ]
        }
      ],
      "source": [
        "# BatchSize = 32\n",
        "EMBED_SIZE = 100\n",
        "MAX_LENGTH = 500\n",
        "VOCAB_SIZE = 10000\n",
        "input_imdb = Input(shape=(MAX_LENGHT,))\n",
        "embedding_layer = Embedding(mask_zero = True,\n",
        "                            input_length = MAX_LENGTH,\n",
        "                            input_dim = VOCAB_SIZE,\n",
        "                            output_dim = EMBED_SIZE,\n",
        "                            embeddings_initializer='glorot_uniform')(input_imdb)\n",
        "lstm_layer = LSTM(EMBED_SIZE, return_sequences = False)(embedding_layer)\n",
        "dense_layer = Dense(1, activation = 'sigmoid')(lstm_layer)\n",
        "model = Model(inputs= input_imdb, outputs=dense_layer)\n",
        "model.compile('adam', 'binary_crossentropy', metrics=['accuracy'])\n",
        "\n",
        "\n",
        "history = model.fit(train_x, train_y, epochs=6, batch_size=32, validation_data=(validation_x, validation_y))\n",
        "plot_history(history.history, path=\"standard.png\")\n",
        "plt.show()\n",
        "results = model.evaluate(padded_test_data, test_labels, batch_size=1000)\n",
        "print('test_loss:', results[0], 'test_accuracy:', results[1])"
      ]
    },
    {
      "cell_type": "markdown",
      "metadata": {
        "id": "lRL8gKi2bKAT"
      },
      "source": [
        "##### Batch Size = len(training_data)"
      ]
    },
    {
      "cell_type": "code",
      "execution_count": null,
      "metadata": {
        "colab": {
          "base_uri": "https://localhost:8080/",
          "height": 1000
        },
        "id": "h0qFUT74al-Y",
        "outputId": "40ba4154-c1e1-4c07-9c34-dd830b7522b2"
      },
      "outputs": [
        {
          "name": "stdout",
          "output_type": "stream",
          "text": [
            "Epoch 1/6\n"
          ]
        },
        {
          "ename": "ResourceExhaustedError",
          "evalue": "ignored",
          "output_type": "error",
          "traceback": [
            "\u001b[0;31m---------------------------------------------------------------------------\u001b[0m",
            "\u001b[0;31mResourceExhaustedError\u001b[0m                    Traceback (most recent call last)",
            "\u001b[0;32m<ipython-input-32-3cc6fd520b62>\u001b[0m in \u001b[0;36m<module>\u001b[0;34m\u001b[0m\n\u001b[1;32m     14\u001b[0m \u001b[0mmodel\u001b[0m\u001b[0;34m.\u001b[0m\u001b[0mcompile\u001b[0m\u001b[0;34m(\u001b[0m\u001b[0;34m'adam'\u001b[0m\u001b[0;34m,\u001b[0m \u001b[0;34m'binary_crossentropy'\u001b[0m\u001b[0;34m,\u001b[0m \u001b[0mmetrics\u001b[0m\u001b[0;34m=\u001b[0m\u001b[0;34m[\u001b[0m\u001b[0;34m'accuracy'\u001b[0m\u001b[0;34m]\u001b[0m\u001b[0;34m)\u001b[0m\u001b[0;34m\u001b[0m\u001b[0;34m\u001b[0m\u001b[0m\n\u001b[1;32m     15\u001b[0m \u001b[0;34m\u001b[0m\u001b[0m\n\u001b[0;32m---> 16\u001b[0;31m \u001b[0mhistory\u001b[0m \u001b[0;34m=\u001b[0m \u001b[0mmodel\u001b[0m\u001b[0;34m.\u001b[0m\u001b[0mfit\u001b[0m\u001b[0;34m(\u001b[0m\u001b[0mtrain_x\u001b[0m\u001b[0;34m,\u001b[0m \u001b[0mtrain_y\u001b[0m\u001b[0;34m,\u001b[0m \u001b[0mepochs\u001b[0m\u001b[0;34m=\u001b[0m\u001b[0;36m6\u001b[0m\u001b[0;34m,\u001b[0m \u001b[0mbatch_size\u001b[0m\u001b[0;34m=\u001b[0m\u001b[0mlen\u001b[0m\u001b[0;34m(\u001b[0m\u001b[0mtrain_x\u001b[0m\u001b[0;34m)\u001b[0m\u001b[0;34m,\u001b[0m \u001b[0mvalidation_data\u001b[0m\u001b[0;34m=\u001b[0m\u001b[0;34m(\u001b[0m\u001b[0mvalidation_x\u001b[0m\u001b[0;34m,\u001b[0m \u001b[0mvalidation_y\u001b[0m\u001b[0;34m)\u001b[0m\u001b[0;34m)\u001b[0m\u001b[0;34m\u001b[0m\u001b[0;34m\u001b[0m\u001b[0m\n\u001b[0m\u001b[1;32m     17\u001b[0m \u001b[0mplot_history\u001b[0m\u001b[0;34m(\u001b[0m\u001b[0mhistory\u001b[0m\u001b[0;34m.\u001b[0m\u001b[0mhistory\u001b[0m\u001b[0;34m,\u001b[0m \u001b[0mpath\u001b[0m\u001b[0;34m=\u001b[0m\u001b[0;34m\"standard.png\"\u001b[0m\u001b[0;34m)\u001b[0m\u001b[0;34m\u001b[0m\u001b[0;34m\u001b[0m\u001b[0m\n\u001b[1;32m     18\u001b[0m \u001b[0mplt\u001b[0m\u001b[0;34m.\u001b[0m\u001b[0mshow\u001b[0m\u001b[0;34m(\u001b[0m\u001b[0;34m)\u001b[0m\u001b[0;34m\u001b[0m\u001b[0;34m\u001b[0m\u001b[0m\n",
            "\u001b[0;32m/usr/local/lib/python3.9/dist-packages/keras/utils/traceback_utils.py\u001b[0m in \u001b[0;36merror_handler\u001b[0;34m(*args, **kwargs)\u001b[0m\n\u001b[1;32m     68\u001b[0m             \u001b[0;31m# To get the full stack trace, call:\u001b[0m\u001b[0;34m\u001b[0m\u001b[0;34m\u001b[0m\u001b[0m\n\u001b[1;32m     69\u001b[0m             \u001b[0;31m# `tf.debugging.disable_traceback_filtering()`\u001b[0m\u001b[0;34m\u001b[0m\u001b[0;34m\u001b[0m\u001b[0m\n\u001b[0;32m---> 70\u001b[0;31m             \u001b[0;32mraise\u001b[0m \u001b[0me\u001b[0m\u001b[0;34m.\u001b[0m\u001b[0mwith_traceback\u001b[0m\u001b[0;34m(\u001b[0m\u001b[0mfiltered_tb\u001b[0m\u001b[0;34m)\u001b[0m \u001b[0;32mfrom\u001b[0m \u001b[0;32mNone\u001b[0m\u001b[0;34m\u001b[0m\u001b[0;34m\u001b[0m\u001b[0m\n\u001b[0m\u001b[1;32m     71\u001b[0m         \u001b[0;32mfinally\u001b[0m\u001b[0;34m:\u001b[0m\u001b[0;34m\u001b[0m\u001b[0;34m\u001b[0m\u001b[0m\n\u001b[1;32m     72\u001b[0m             \u001b[0;32mdel\u001b[0m \u001b[0mfiltered_tb\u001b[0m\u001b[0;34m\u001b[0m\u001b[0;34m\u001b[0m\u001b[0m\n",
            "\u001b[0;32m/usr/local/lib/python3.9/dist-packages/tensorflow/python/eager/execute.py\u001b[0m in \u001b[0;36mquick_execute\u001b[0;34m(op_name, num_outputs, inputs, attrs, ctx, name)\u001b[0m\n\u001b[1;32m     50\u001b[0m   \u001b[0;32mtry\u001b[0m\u001b[0;34m:\u001b[0m\u001b[0;34m\u001b[0m\u001b[0;34m\u001b[0m\u001b[0m\n\u001b[1;32m     51\u001b[0m     \u001b[0mctx\u001b[0m\u001b[0;34m.\u001b[0m\u001b[0mensure_initialized\u001b[0m\u001b[0;34m(\u001b[0m\u001b[0;34m)\u001b[0m\u001b[0;34m\u001b[0m\u001b[0;34m\u001b[0m\u001b[0m\n\u001b[0;32m---> 52\u001b[0;31m     tensors = pywrap_tfe.TFE_Py_Execute(ctx._handle, device_name, op_name,\n\u001b[0m\u001b[1;32m     53\u001b[0m                                         inputs, attrs, num_outputs)\n\u001b[1;32m     54\u001b[0m   \u001b[0;32mexcept\u001b[0m \u001b[0mcore\u001b[0m\u001b[0;34m.\u001b[0m\u001b[0m_NotOkStatusException\u001b[0m \u001b[0;32mas\u001b[0m \u001b[0me\u001b[0m\u001b[0;34m:\u001b[0m\u001b[0;34m\u001b[0m\u001b[0;34m\u001b[0m\u001b[0m\n",
            "\u001b[0;31mResourceExhaustedError\u001b[0m: Graph execution error:\n\nDetected at node 'cond/while/MatMul_1' defined at (most recent call last):\n    File \"/usr/lib/python3.9/runpy.py\", line 197, in _run_module_as_main\n      return _run_code(code, main_globals, None,\n    File \"/usr/lib/python3.9/runpy.py\", line 87, in _run_code\n      exec(code, run_globals)\n    File \"/usr/local/lib/python3.9/dist-packages/ipykernel_launcher.py\", line 16, in <module>\n      app.launch_new_instance()\n    File \"/usr/local/lib/python3.9/dist-packages/traitlets/config/application.py\", line 992, in launch_instance\n      app.start()\n    File \"/usr/local/lib/python3.9/dist-packages/ipykernel/kernelapp.py\", line 612, in start\n      self.io_loop.start()\n    File \"/usr/local/lib/python3.9/dist-packages/tornado/platform/asyncio.py\", line 215, in start\n      self.asyncio_loop.run_forever()\n    File \"/usr/lib/python3.9/asyncio/base_events.py\", line 601, in run_forever\n      self._run_once()\n    File \"/usr/lib/python3.9/asyncio/base_events.py\", line 1905, in _run_once\n      handle._run()\n    File \"/usr/lib/python3.9/asyncio/events.py\", line 80, in _run\n      self._context.run(self._callback, *self._args)\n    File \"/usr/local/lib/python3.9/dist-packages/tornado/ioloop.py\", line 687, in <lambda>\n      lambda f: self._run_callback(functools.partial(callback, future))\n    File \"/usr/local/lib/python3.9/dist-packages/tornado/ioloop.py\", line 740, in _run_callback\n      ret = callback()\n    File \"/usr/local/lib/python3.9/dist-packages/tornado/gen.py\", line 821, in inner\n      self.ctx_run(self.run)\n    File \"/usr/local/lib/python3.9/dist-packages/tornado/gen.py\", line 782, in run\n      yielded = self.gen.send(value)\n    File \"/usr/local/lib/python3.9/dist-packages/ipykernel/kernelbase.py\", line 365, in process_one\n      yield gen.maybe_future(dispatch(*args))\n    File \"/usr/local/lib/python3.9/dist-packages/tornado/gen.py\", line 234, in wrapper\n      yielded = ctx_run(next, result)\n    File \"/usr/local/lib/python3.9/dist-packages/ipykernel/kernelbase.py\", line 268, in dispatch_shell\n      yield gen.maybe_future(handler(stream, idents, msg))\n    File \"/usr/local/lib/python3.9/dist-packages/tornado/gen.py\", line 234, in wrapper\n      yielded = ctx_run(next, result)\n    File \"/usr/local/lib/python3.9/dist-packages/ipykernel/kernelbase.py\", line 543, in execute_request\n      self.do_execute(\n    File \"/usr/local/lib/python3.9/dist-packages/tornado/gen.py\", line 234, in wrapper\n      yielded = ctx_run(next, result)\n    File \"/usr/local/lib/python3.9/dist-packages/ipykernel/ipkernel.py\", line 306, in do_execute\n      res = shell.run_cell(code, store_history=store_history, silent=silent)\n    File \"/usr/local/lib/python3.9/dist-packages/ipykernel/zmqshell.py\", line 536, in run_cell\n      return super(ZMQInteractiveShell, self).run_cell(*args, **kwargs)\n    File \"/usr/local/lib/python3.9/dist-packages/IPython/core/interactiveshell.py\", line 2854, in run_cell\n      result = self._run_cell(\n    File \"/usr/local/lib/python3.9/dist-packages/IPython/core/interactiveshell.py\", line 2881, in _run_cell\n      return runner(coro)\n    File \"/usr/local/lib/python3.9/dist-packages/IPython/core/async_helpers.py\", line 68, in _pseudo_sync_runner\n      coro.send(None)\n    File \"/usr/local/lib/python3.9/dist-packages/IPython/core/interactiveshell.py\", line 3057, in run_cell_async\n      has_raised = await self.run_ast_nodes(code_ast.body, cell_name,\n    File \"/usr/local/lib/python3.9/dist-packages/IPython/core/interactiveshell.py\", line 3249, in run_ast_nodes\n      if (await self.run_code(code, result,  async_=asy)):\n    File \"/usr/local/lib/python3.9/dist-packages/IPython/core/interactiveshell.py\", line 3326, in run_code\n      exec(code_obj, self.user_global_ns, self.user_ns)\n    File \"<ipython-input-32-3cc6fd520b62>\", line 16, in <module>\n      history = model.fit(train_x, train_y, epochs=6, batch_size=len(train_x), validation_data=(validation_x, validation_y))\n    File \"/usr/local/lib/python3.9/dist-packages/keras/utils/traceback_utils.py\", line 65, in error_handler\n      return fn(*args, **kwargs)\n    File \"/usr/local/lib/python3.9/dist-packages/keras/engine/training.py\", line 1650, in fit\n      tmp_logs = self.train_function(iterator)\n    File \"/usr/local/lib/python3.9/dist-packages/keras/engine/training.py\", line 1249, in train_function\n      return step_function(self, iterator)\n    File \"/usr/local/lib/python3.9/dist-packages/keras/engine/training.py\", line 1233, in step_function\n      outputs = model.distribute_strategy.run(run_step, args=(data,))\n    File \"/usr/local/lib/python3.9/dist-packages/keras/engine/training.py\", line 1222, in run_step\n      outputs = model.train_step(data)\n    File \"/usr/local/lib/python3.9/dist-packages/keras/engine/training.py\", line 1023, in train_step\n      y_pred = self(x, training=True)\n    File \"/usr/local/lib/python3.9/dist-packages/keras/utils/traceback_utils.py\", line 65, in error_handler\n      return fn(*args, **kwargs)\n    File \"/usr/local/lib/python3.9/dist-packages/keras/engine/training.py\", line 561, in __call__\n      return super().__call__(*args, **kwargs)\n    File \"/usr/local/lib/python3.9/dist-packages/keras/utils/traceback_utils.py\", line 65, in error_handler\n      return fn(*args, **kwargs)\n    File \"/usr/local/lib/python3.9/dist-packages/keras/engine/base_layer.py\", line 1132, in __call__\n      outputs = call_fn(inputs, *args, **kwargs)\n    File \"/usr/local/lib/python3.9/dist-packages/keras/utils/traceback_utils.py\", line 96, in error_handler\n      return fn(*args, **kwargs)\n    File \"/usr/local/lib/python3.9/dist-packages/keras/engine/functional.py\", line 511, in call\n      return self._run_internal_graph(inputs, training=training, mask=mask)\n    File \"/usr/local/lib/python3.9/dist-packages/keras/engine/functional.py\", line 668, in _run_internal_graph\n      outputs = node.layer(*args, **kwargs)\n    File \"/usr/local/lib/python3.9/dist-packages/keras/layers/rnn/base_rnn.py\", line 556, in __call__\n      return super().__call__(inputs, **kwargs)\n    File \"/usr/local/lib/python3.9/dist-packages/keras/utils/traceback_utils.py\", line 65, in error_handler\n      return fn(*args, **kwargs)\n    File \"/usr/local/lib/python3.9/dist-packages/keras/engine/base_layer.py\", line 1132, in __call__\n      outputs = call_fn(inputs, *args, **kwargs)\n    File \"/usr/local/lib/python3.9/dist-packages/keras/utils/traceback_utils.py\", line 96, in error_handler\n      return fn(*args, **kwargs)\n    File \"/usr/local/lib/python3.9/dist-packages/keras/layers/rnn/lstm.py\", line 751, in call\n      ) = lstm_with_backend_selection(**normal_lstm_kwargs)\n    File \"/usr/local/lib/python3.9/dist-packages/keras/layers/rnn/lstm.py\", line 1356, in lstm_with_backend_selection\n      gru_lstm_utils.function_register(defun_gpu_lstm, **params)\n    File \"/usr/local/lib/python3.9/dist-packages/keras/layers/rnn/gru_lstm_utils.py\", line 257, in function_register\n      concrete_func = func.get_concrete_function(*args, **kwargs)\n    File \"/usr/local/lib/python3.9/dist-packages/keras/layers/rnn/lstm.py\", line 1305, in gpu_lstm_with_fallback\n      return tf.cond(\n    File \"/usr/local/lib/python3.9/dist-packages/keras/layers/rnn/lstm.py\", line 1290, in stardard_lstm_fn\n      return standard_lstm(\n    File \"/usr/local/lib/python3.9/dist-packages/keras/layers/rnn/lstm.py\", line 983, in standard_lstm\n      last_output, outputs, new_states = backend.rnn(\n    File \"/usr/local/lib/python3.9/dist-packages/keras/backend.py\", line 5099, in rnn\n      final_outputs = tf.compat.v1.while_loop(\n    File \"/usr/local/lib/python3.9/dist-packages/keras/backend.py\", line 5062, in _step\n      output, new_states = step_function(\n    File \"/usr/local/lib/python3.9/dist-packages/keras/layers/rnn/lstm.py\", line 970, in step\n      z += backend.dot(h_tm1, recurrent_kernel)\n    File \"/usr/local/lib/python3.9/dist-packages/keras/backend.py\", line 2455, in dot\n      out = tf.matmul(x, y)\nNode: 'cond/while/MatMul_1'\nOOM when allocating tensor with shape[23000,400] and type float on /job:localhost/replica:0/task:0/device:GPU:0 by allocator GPU_0_bfc\n\t [[{{node cond/while/MatMul_1}}]]\nHint: If you want to see a list of allocated tensors when OOM happens, add report_tensor_allocations_upon_oom to RunOptions for current allocation info. This isn't available when running in Eager mode.\n\n\t [[model_5/lstm_5/PartitionedCall]]\nHint: If you want to see a list of allocated tensors when OOM happens, add report_tensor_allocations_upon_oom to RunOptions for current allocation info. This isn't available when running in Eager mode.\n [Op:__inference_train_function_42536]"
          ]
        }
      ],
      "source": [
        "# BatchSize = len(training_data)\n",
        "EMBED_SIZE = 100\n",
        "MAX_LENGTH = 500\n",
        "VOCAB_SIZE = 10000\n",
        "input_imdb = Input(shape=(MAX_LENGHT,))\n",
        "embedding_layer = Embedding(mask_zero = True,\n",
        "                            input_length = MAX_LENGTH,\n",
        "                            input_dim = VOCAB_SIZE,\n",
        "                            output_dim = EMBED_SIZE,\n",
        "                            embeddings_initializer='glorot_uniform')(input_imdb)\n",
        "lstm_layer = LSTM(EMBED_SIZE, return_sequences = False)(embedding_layer)\n",
        "dense_layer = Dense(1, activation = 'sigmoid')(lstm_layer)\n",
        "model = Model(inputs= input_imdb, outputs=dense_layer)\n",
        "model.compile('adam', 'binary_crossentropy', metrics=['accuracy'])\n",
        "\n",
        "history = model.fit(train_x, train_y, epochs=6, batch_size=len(train_x), validation_data=(validation_x, validation_y))\n",
        "plot_history(history.history, path=\"standard.png\")\n",
        "plt.show()\n",
        "results = model.evaluate(padded_test_data, test_labels, batch_size=1000)\n",
        "print('test_loss:', results[0], 'test_accuracy:', results[1])"
      ]
    },
    {
      "cell_type": "code",
      "execution_count": null,
      "metadata": {
        "id": "W-NxqhhbbZhm"
      },
      "outputs": [],
      "source": []
    }
  ],
  "metadata": {
    "accelerator": "GPU",
    "colab": {
      "provenance": [],
      "toc_visible": true,
      "gpuClass": "premium"
    },
    "gpuClass": "premium",
    "kernelspec": {
      "display_name": "Python 3 (ipykernel)",
      "language": "python",
      "name": "python3"
    },
    "language_info": {
      "codemirror_mode": {
        "name": "ipython",
        "version": 3
      },
      "file_extension": ".py",
      "mimetype": "text/x-python",
      "name": "python",
      "nbconvert_exporter": "python",
      "pygments_lexer": "ipython3",
      "version": "3.10.5"
    }
  },
  "nbformat": 4,
  "nbformat_minor": 0
}
