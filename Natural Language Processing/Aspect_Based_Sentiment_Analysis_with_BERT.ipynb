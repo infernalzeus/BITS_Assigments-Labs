{
  "cells": [
    {
      "cell_type": "markdown",
      "metadata": {
        "id": "pWgujXmGqzIC"
      },
      "source": [
        "\n",
        "#Aspect-Based Sentiment Analysis with BERT"
      ]
    },
    {
      "cell_type": "markdown",
      "metadata": {
        "id": "pr5PWYKGPi6R"
      },
      "source": [
        "We turn a pre-trained BERT model into a trainable Keras layer and apply it to the Aspect-Based Sentiment Analysis (ABSA). You can find the task description from (https://aclanthology.org/D19-1654.pdf).\n",
        "This task provides a review text dataset with aspects.\n",
        "Given a review and an aspect, we need to classify the sentiment conveyed towards this aspect on a three-point scale: POSITIVE, NEUTRAL or NEGATIVE.\n",
        "This is a multi-class classification task.\n",
        "\n",
        "BERT (Bidirectional Embedding Representations from Transformers) is a new model for pre-training language representations that obtains state-of-the-art results on many NLP tasks. We demonstrate how to integrate BERT as a custom Keras layer using the Huggingface library.\n",
        "\n",
        "You will learn:\n",
        "\n",
        "1) How to use the Huggingface library.\n",
        "\n",
        "2) How to integrate BERT in the models built previously.\n",
        "\n",
        "3) How to use the TPU from Colab. **Note**: Running BERT on the CPU will be very slow. It is recommended you run this notebook on a Colab TPU provided by Google."
      ]
    },
    {
      "cell_type": "code",
      "execution_count": null,
      "metadata": {
        "id": "4spJ5PRhGJ1l"
      },
      "outputs": [],
      "source": [
        "import keras\n",
        "import numpy as np\n",
        "from keras.layers import Lambda, GlobalAveragePooling1D, Dense, Embedding\n",
        "from keras import backend as K\n",
        "from keras.models import Sequential\n",
        "import matplotlib.pyplot as plt\n",
        "\n",
        "from keras.layers import LSTM, RNN, Dropout, Input, LeakyReLU, Bidirectional,Conv1D, GlobalMaxPooling1D\n",
        "from keras.layers.core import Dense\n",
        "from keras.models import Model\n"
      ]
    },
    {
      "cell_type": "markdown",
      "metadata": {
        "id": "2oimYsLssuSs"
      },
      "source": [
        "We first need to install the Huggingface's Transformers package. You can find the relevant doc from [here](https://huggingface.co/transformers/index.html)."
      ]
    },
    {
      "cell_type": "code",
      "execution_count": null,
      "metadata": {
        "id": "AElpzsKFiZSo",
        "colab": {
          "base_uri": "https://localhost:8080/"
        },
        "outputId": "27ab69cc-be82-4572-cbba-23fc70dcdc12"
      },
      "outputs": [
        {
          "output_type": "stream",
          "name": "stdout",
          "text": [
            "Looking in indexes: https://pypi.org/simple, https://us-python.pkg.dev/colab-wheels/public/simple/\n",
            "Requirement already satisfied: transformers in /usr/local/lib/python3.9/dist-packages (4.26.1)\n",
            "Requirement already satisfied: numpy>=1.17 in /usr/local/lib/python3.9/dist-packages (from transformers) (1.24.2)\n",
            "Requirement already satisfied: requests in /usr/local/lib/python3.9/dist-packages (from transformers) (2.25.1)\n",
            "Requirement already satisfied: packaging>=20.0 in /usr/local/lib/python3.9/dist-packages (from transformers) (23.0)\n",
            "Requirement already satisfied: tokenizers!=0.11.3,<0.14,>=0.11.1 in /usr/local/lib/python3.9/dist-packages (from transformers) (0.13.2)\n",
            "Requirement already satisfied: tqdm>=4.27 in /usr/local/lib/python3.9/dist-packages (from transformers) (4.65.0)\n",
            "Requirement already satisfied: filelock in /usr/local/lib/python3.9/dist-packages (from transformers) (3.9.0)\n",
            "Requirement already satisfied: pyyaml>=5.1 in /usr/local/lib/python3.9/dist-packages (from transformers) (6.0)\n",
            "Requirement already satisfied: huggingface-hub<1.0,>=0.11.0 in /usr/local/lib/python3.9/dist-packages (from transformers) (0.13.0)\n",
            "Requirement already satisfied: regex!=2019.12.17 in /usr/local/lib/python3.9/dist-packages (from transformers) (2022.6.2)\n",
            "Requirement already satisfied: typing-extensions>=3.7.4.3 in /usr/local/lib/python3.9/dist-packages (from huggingface-hub<1.0,>=0.11.0->transformers) (4.5.0)\n",
            "Requirement already satisfied: urllib3<1.27,>=1.21.1 in /usr/local/lib/python3.9/dist-packages (from requests->transformers) (1.26.14)\n",
            "Requirement already satisfied: chardet<5,>=3.0.2 in /usr/local/lib/python3.9/dist-packages (from requests->transformers) (4.0.0)\n",
            "Requirement already satisfied: idna<3,>=2.5 in /usr/local/lib/python3.9/dist-packages (from requests->transformers) (2.10)\n",
            "Requirement already satisfied: certifi>=2017.4.17 in /usr/local/lib/python3.9/dist-packages (from requests->transformers) (2022.12.7)\n"
          ]
        }
      ],
      "source": [
        "pip install transformers"
      ]
    },
    {
      "cell_type": "markdown",
      "metadata": {
        "id": "ebbamBD0xu5z"
      },
      "source": [
        "## Preprocessing and Tokenization"
      ]
    },
    {
      "cell_type": "markdown",
      "metadata": {
        "id": "RbAMXQwqyVT8"
      },
      "source": [
        "We will use DistilBERT (https://arxiv.org/pdf/1910.01108.pdf) instead of BERT: DistilBERT is a smaller and faster Transformer model trained via distilling BERT. It has 40% less parameters than the bert-base-uncased model. It runs 60% faster, while preserving 97% of BERT’s performance as measured on the GLUE language understanding benchmark.\n",
        "\n",
        "It is easy to switch between DistilBERT and BERT using the Huggingface transformers package. This package provides many pre-trained and pre-built models that are easy to use via a few lines of code."
      ]
    },
    {
      "cell_type": "markdown",
      "metadata": {
        "id": "V-cUTxt02dQb"
      },
      "source": [
        "Before using DistilBERT or BERT, we need a tokenizer. Generally speaking, every BERT related model has its own tokenizer, trained for this particular model.\n",
        "We can get the DistilBERT tokenizer from the **DistilBertTokenizer.from_pretrained** method."
      ]
    },
    {
      "cell_type": "code",
      "execution_count": null,
      "metadata": {
        "id": "hKj6Y_TydjeS"
      },
      "outputs": [],
      "source": [
        "from transformers import DistilBertTokenizer, RobertaTokenizer\n",
        "import tqdm\n",
        "distil_bert = 'distilbert-base-uncased' # Pick a pre-trained model\n",
        "\n",
        "# Defining DistilBERT tokenizer\n",
        "tokenizer = DistilBertTokenizer.from_pretrained(distil_bert, do_lower_case=True, add_special_tokens=True,\n",
        "                                                max_length=128, pad_to_max_length=True)\n",
        "\n",
        "def tokenize(sentences, tokenizer, pad_length=128, pad_to_max_length=True ):\n",
        "    if type(sentences) == str:\n",
        "        inputs = tokenizer.encode_plus(sentences, add_special_tokens=True, max_length=pad_length, pad_to_max_length=pad_to_max_length,\n",
        "                                             return_attention_mask=True, return_token_type_ids=True)\n",
        "        return np.asarray(inputs['input_ids'], dtype='int32'), np.asarray(inputs['attention_mask'], dtype='int32'), np.asarray(inputs['token_type_ids'], dtype='int32')\n",
        "\n",
        "    input_ids, input_masks, input_segments = [],[],[]\n",
        "    for sentence in sentences:\n",
        "        inputs = tokenizer.encode_plus(sentence, add_special_tokens=True, max_length=pad_length, pad_to_max_length=pad_to_max_length,\n",
        "                                             return_attention_mask=True, return_token_type_ids=True)\n",
        "        input_ids.append(inputs['input_ids'])\n",
        "        input_masks.append(inputs['attention_mask'])\n",
        "        input_segments.append(inputs['token_type_ids'])\n",
        "\n",
        "    return np.asarray(input_ids, dtype='int32'), np.asarray(input_masks, dtype='int32'), np.asarray(input_segments, dtype='int32')\n"
      ]
    },
    {
      "cell_type": "markdown",
      "metadata": {
        "id": "sqMo6CPS3qJZ"
      },
      "source": [
        "Then we can use this tokenizer to tokenize our data. When working with word2vec and GloVe, we tokenized sentences into words ourselves and then converted the tokens into GloVe indices. But in BERT, we must use the BERT tokenizer that uses sub-word tokens.\n",
        "\n",
        "For example, for the sentence: **This is a pretrained model.** our previous word-based tokenizer will generate the following tokens:\n",
        "\n",
        "**\"this\", \"is\", \"a\", \"pretrained\", \"model\", \".\"**\n",
        "\n",
        "Then you will find out that the token \"pretrained\" is not in the GloVe word dictionary. Thus we can not assign it a trained word vector.\n",
        "\n",
        "The BERT tokenizer will separate the word \"pretrained\" into three sub-word tokens:\n",
        "\n",
        "**'pre', '##train', '##ed'**\n",
        "\n",
        "BERT thus uses these three token vectors to represent the word \"pretrained\". You will also see that the BERT tokenizer adds the special [CLS] token and the sentence separator [SEP] token."
      ]
    },
    {
      "cell_type": "code",
      "execution_count": null,
      "metadata": {
        "id": "iRoKe2DKyi41",
        "colab": {
          "base_uri": "https://localhost:8080/"
        },
        "outputId": "16726163-c6ab-4c72-d67c-e7f5194e20d7"
      },
      "outputs": [
        {
          "output_type": "stream",
          "name": "stderr",
          "text": [
            "Truncation was not explicitly activated but `max_length` is provided a specific value, please use `truncation=True` to explicitly truncate examples to max length. Defaulting to 'longest_first' truncation strategy. If you encode pairs of sequences (GLUE-style) with the tokenizer you can select this strategy more precisely by providing a specific strategy to `truncation`.\n"
          ]
        },
        {
          "output_type": "stream",
          "name": "stdout",
          "text": [
            "['the', 'capital', 'of', 'france', 'is', '[MASK]', '.'] \n",
            "\n",
            "['this', 'is', 'a', 'pre', '##train', '##ed', 'model', '.'] \n",
            "\n",
            "[ 101 1996 3007 1997 2605 2003  103 1012  102    0    0    0    0    0\n",
            "    0    0    0    0    0    0    0    0    0    0    0    0    0    0\n",
            "    0    0    0    0    0    0    0    0    0    0    0    0    0    0\n",
            "    0    0    0    0    0    0    0    0    0    0    0    0    0    0\n",
            "    0    0    0    0    0    0    0    0    0    0    0    0    0    0\n",
            "    0    0    0    0    0    0    0    0    0    0    0    0    0    0\n",
            "    0    0    0    0    0    0    0    0    0    0    0    0    0    0\n",
            "    0    0    0    0    0    0    0    0    0    0    0    0    0    0\n",
            "    0    0    0    0    0    0    0    0    0    0    0    0    0    0\n",
            "    0    0]\n",
            "[1 1 1 1 1 1 1 1 1 0 0 0 0 0 0 0 0 0 0 0 0 0 0 0 0 0 0 0 0 0 0 0 0 0 0 0 0\n",
            " 0 0 0 0 0 0 0 0 0 0 0 0 0 0 0 0 0 0 0 0 0 0 0 0 0 0 0 0 0 0 0 0 0 0 0 0 0\n",
            " 0 0 0 0 0 0 0 0 0 0 0 0 0 0 0 0 0 0 0 0 0 0 0 0 0 0 0 0 0 0 0 0 0 0 0 0 0\n",
            " 0 0 0 0 0 0 0 0 0 0 0 0 0 0 0 0 0]\n",
            "['[CLS]', 'the', 'capital', 'of', 'france', 'is', '[MASK]', '.', '[SEP]', '[PAD]', '[PAD]', '[PAD]', '[PAD]', '[PAD]', '[PAD]', '[PAD]', '[PAD]', '[PAD]', '[PAD]', '[PAD]', '[PAD]', '[PAD]', '[PAD]', '[PAD]', '[PAD]', '[PAD]', '[PAD]', '[PAD]', '[PAD]', '[PAD]', '[PAD]', '[PAD]', '[PAD]', '[PAD]', '[PAD]', '[PAD]', '[PAD]', '[PAD]', '[PAD]', '[PAD]', '[PAD]', '[PAD]', '[PAD]', '[PAD]', '[PAD]', '[PAD]', '[PAD]', '[PAD]', '[PAD]', '[PAD]', '[PAD]', '[PAD]', '[PAD]', '[PAD]', '[PAD]', '[PAD]', '[PAD]', '[PAD]', '[PAD]', '[PAD]', '[PAD]', '[PAD]', '[PAD]', '[PAD]', '[PAD]', '[PAD]', '[PAD]', '[PAD]', '[PAD]', '[PAD]', '[PAD]', '[PAD]', '[PAD]', '[PAD]', '[PAD]', '[PAD]', '[PAD]', '[PAD]', '[PAD]', '[PAD]', '[PAD]', '[PAD]', '[PAD]', '[PAD]', '[PAD]', '[PAD]', '[PAD]', '[PAD]', '[PAD]', '[PAD]', '[PAD]', '[PAD]', '[PAD]', '[PAD]', '[PAD]', '[PAD]', '[PAD]', '[PAD]', '[PAD]', '[PAD]', '[PAD]', '[PAD]', '[PAD]', '[PAD]', '[PAD]', '[PAD]', '[PAD]', '[PAD]', '[PAD]', '[PAD]', '[PAD]', '[PAD]', '[PAD]', '[PAD]', '[PAD]', '[PAD]', '[PAD]', '[PAD]', '[PAD]', '[PAD]', '[PAD]', '[PAD]', '[PAD]', '[PAD]', '[PAD]', '[PAD]', '[PAD]', '[PAD]'] \n",
            "\n",
            "[ 101 1996 3007 1997 2605 2003  103 1012  102]\n",
            "[1 1 1 1 1 1 1 1 1]\n",
            "['[CLS]', 'the', 'capital', 'of', 'france', 'is', '[MASK]', '.', '[SEP]'] \n",
            "\n"
          ]
        },
        {
          "output_type": "stream",
          "name": "stderr",
          "text": [
            "/usr/local/lib/python3.9/dist-packages/transformers/tokenization_utils_base.py:2339: FutureWarning: The `pad_to_max_length` argument is deprecated and will be removed in a future version, use `padding=True` or `padding='longest'` to pad to the longest sequence in the batch, or use `padding='max_length'` to pad to a max length. In this case, you can give a specific length with `max_length` (e.g. `max_length=45`) or leave max_length to None to pad to the maximal input size of the model (e.g. 512 for Bert).\n",
            "  warnings.warn(\n"
          ]
        }
      ],
      "source": [
        "inputs = tokenizer.tokenize(\"The capital of France is [MASK].\")\n",
        "print(inputs,'\\n')\n",
        "\n",
        "inputs = tokenizer.tokenize(\"This is a pretrained model.\")\n",
        "print(inputs,'\\n')\n",
        "\n",
        "ids,masks,segments = tokenize(\"The capital of France is [MASK].\", tokenizer)\n",
        "print(ids)\n",
        "print(masks)\n",
        "print(tokenizer.convert_ids_to_tokens(ids),\"\\n\")\n",
        "\n",
        "ids,masks,segments = tokenize(\"The capital of France is [MASK].\", tokenizer, pad_to_max_length=False)\n",
        "print(ids)\n",
        "print(masks)\n",
        "print(tokenizer.convert_ids_to_tokens(ids),\"\\n\")"
      ]
    },
    {
      "cell_type": "markdown",
      "metadata": {
        "id": "J6OuZAA8sbdg"
      },
      "source": [
        "## Loading Data"
      ]
    },
    {
      "cell_type": "markdown",
      "metadata": {
        "id": "cqvPQvgvPv1W"
      },
      "source": [
        "### Downloading and preprocessing data"
      ]
    },
    {
      "cell_type": "markdown",
      "metadata": {
        "id": "EundMtGPpCdf"
      },
      "source": [
        "Unlike the IMDB dataset that is included and preprocessed by Keras, the dataset we will be using is the aspect-based sentiment analysis (ABSA)  dataset, which consists of 5,297 labeled reviews. These are split into 4,297 reviews for training and 500 reviews for testing and validation, respectively.\n",
        "\n",
        "For ABSA, sentiment polarities were assigned with respect to the aspect terms.  The start and end positions for each aspect term are provided.\n"
      ]
    },
    {
      "cell_type": "code",
      "execution_count": null,
      "metadata": {
        "id": "NyuSzkafqNca",
        "colab": {
          "base_uri": "https://localhost:8080/"
        },
        "outputId": "418dac82-c80d-4185-f7a6-5efb2af8ac3e"
      },
      "outputs": [
        {
          "output_type": "stream",
          "name": "stdout",
          "text": [
            "Training entries: 11186\n",
            "Test entries: 1336\n"
          ]
        }
      ],
      "source": [
        "import requests\n",
        "def downloadfile(url):\n",
        "  rq = requests.get(url)\n",
        "  open(url.split('/')[-1], 'wb').write(rq.content)\n",
        "downloadfile('https://raw.githubusercontent.com/siat-nlp/MAMS-for-ABSA/master/data/MAMS-ATSA/raw/train.xml')\n",
        "downloadfile('https://raw.githubusercontent.com/siat-nlp/MAMS-for-ABSA/master/data/MAMS-ATSA/raw/val.xml')\n",
        "downloadfile('https://raw.githubusercontent.com/siat-nlp/MAMS-for-ABSA/master/data/MAMS-ATSA/raw/test.xml')\n",
        "\n",
        "\n",
        "# The code is modified from https://raw.githubusercontent.com/siat-nlp/MAMS-for-ABSA/master/data_process/utils.py\n",
        "from xml.etree.ElementTree import parse\n",
        "\n",
        "def parse_sentence_term(path, lowercase=False):\n",
        "    tree = parse(path)\n",
        "    sentences = tree.getroot()\n",
        "    data = []\n",
        "    split_char = '__split__'\n",
        "    for sentence in sentences:\n",
        "        text = sentence.find('text')\n",
        "        if text is None:\n",
        "            continue\n",
        "        text = text.text\n",
        "        if lowercase:\n",
        "            text = text.lower()\n",
        "        aspectTerms = sentence.find('aspectTerms')\n",
        "        if aspectTerms is None:\n",
        "            continue\n",
        "        for aspectTerm in aspectTerms:\n",
        "            term = aspectTerm.get('term')\n",
        "            if lowercase:\n",
        "                term = term.lower()\n",
        "            polarity = aspectTerm.get('polarity')\n",
        "            start = aspectTerm.get('from')\n",
        "            end = aspectTerm.get('to')\n",
        "            piece = [text , term,  polarity , start , end]\n",
        "            data.append(piece)\n",
        "    return data\n",
        "train = parse_sentence_term(\"train.xml\",True)\n",
        "dev = parse_sentence_term(\"val.xml\",True)\n",
        "test = parse_sentence_term(\"test.xml\",True)\n",
        "\n",
        "print(\"Training entries: {}\".format(len(train)))\n",
        "print(\"Test entries: {}\".format(len(test)))\n"
      ]
    },
    {
      "cell_type": "markdown",
      "metadata": {
        "id": "6U4iCV9-rmay"
      },
      "source": [
        "Let’s first see some examples from the data:"
      ]
    },
    {
      "cell_type": "code",
      "execution_count": null,
      "metadata": {
        "id": "h-gjWRAuqg5s",
        "colab": {
          "base_uri": "https://localhost:8080/"
        },
        "outputId": "c0a05dc0-0b2b-436b-dbfc-3fcf527296a0"
      },
      "outputs": [
        {
          "output_type": "stream",
          "name": "stdout",
          "text": [
            "SENTENCE \t ASPECT \t LABEL \t ASPECT-START-INDEX \t ASPECT-END-INDEX\n",
            "['the decor is not special at all but their food and amazing prices make up for it.', 'decor', 'negative', '4', '9']\n",
            "['the decor is not special at all but their food and amazing prices make up for it.', 'food', 'positive', '42', '46']\n",
            "['the decor is not special at all but their food and amazing prices make up for it.', 'prices', 'positive', '59', '65']\n",
            "['when tables opened up, the manager sat another party before us.', 'tables', 'neutral', '5', '11']\n",
            "['when tables opened up, the manager sat another party before us.', 'manager', 'negative', '27', '34']\n"
          ]
        }
      ],
      "source": [
        "print(\"SENTENCE \\t ASPECT \\t LABEL \\t ASPECT-START-INDEX \\t ASPECT-END-INDEX\")\n",
        "print(train[0])\n",
        "print(train[1])\n",
        "print(train[2])\n",
        "print(train[3])\n",
        "print(train[4])"
      ]
    },
    {
      "cell_type": "markdown",
      "metadata": {
        "id": "Tvuu4KhStqei"
      },
      "source": [
        "Using the BERT `tokenize` function above, we can text and aspect words to integers:\n"
      ]
    },
    {
      "cell_type": "code",
      "execution_count": null,
      "metadata": {
        "id": "gMCH1OoDrSNR",
        "colab": {
          "base_uri": "https://localhost:8080/"
        },
        "outputId": "dc903056-2b6b-430f-d9a2-4554cd27b001"
      },
      "outputs": [
        {
          "output_type": "stream",
          "name": "stderr",
          "text": [
            "  0%|          | 0/11186 [00:00<?, ?it/s]/usr/local/lib/python3.9/dist-packages/transformers/tokenization_utils_base.py:2339: FutureWarning: The `pad_to_max_length` argument is deprecated and will be removed in a future version, use `padding=True` or `padding='longest'` to pad to the longest sequence in the batch, or use `padding='max_length'` to pad to a max length. In this case, you can give a specific length with `max_length` (e.g. `max_length=45`) or leave max_length to None to pad to the maximal input size of the model (e.g. 512 for Bert).\n",
            "  warnings.warn(\n",
            "100%|██████████| 11186/11186 [00:15<00:00, 734.90it/s] \n",
            "100%|██████████| 1332/1332 [00:01<00:00, 1194.90it/s]\n",
            "100%|██████████| 1336/1336 [00:01<00:00, 1145.60it/s]"
          ]
        },
        {
          "output_type": "stream",
          "name": "stdout",
          "text": [
            "x_dev_aspect_int[0]:\n",
            "[ 101 8974  102    0    0    0    0    0    0    0    0    0    0    0\n",
            "    0    0    0    0    0    0    0    0    0    0    0    0    0    0\n",
            "    0    0    0    0    0    0    0    0    0    0    0    0    0    0\n",
            "    0    0    0    0    0    0    0    0    0    0    0    0    0    0\n",
            "    0    0    0    0    0    0    0    0    0    0    0    0    0    0\n",
            "    0    0    0    0    0    0    0    0    0    0    0    0    0    0\n",
            "    0    0    0    0    0    0    0    0    0    0    0    0    0    0\n",
            "    0    0    0    0    0    0    0    0    0    0    0    0    0    0\n",
            "    0    0    0    0    0    0    0    0    0    0    0    0    0    0\n",
            "    0    0]\n",
            "x_dev_aspect_masks[0]:\n",
            "[1 1 1 0 0 0 0 0 0 0 0 0 0 0 0 0 0 0 0 0 0 0 0 0 0 0 0 0 0 0 0 0 0 0 0 0 0\n",
            " 0 0 0 0 0 0 0 0 0 0 0 0 0 0 0 0 0 0 0 0 0 0 0 0 0 0 0 0 0 0 0 0 0 0 0 0 0\n",
            " 0 0 0 0 0 0 0 0 0 0 0 0 0 0 0 0 0 0 0 0 0 0 0 0 0 0 0 0 0 0 0 0 0 0 0 0 0\n",
            " 0 0 0 0 0 0 0 0 0 0 0 0 0 0 0 0 0]\n",
            "x_dev_review_int[0]:\n",
            "[  101  2044  1037  3232  1997  8974  1010  1996 18726  1011  1011  1045\n",
            "  2066  1996 27940  1013 24792  2621  4897  1998  1996 13675 11514  6508\n",
            " 26852  1011  1011  2175  2091  2307  1012   102     0     0     0     0\n",
            "     0     0     0     0     0     0     0     0     0     0     0     0\n",
            "     0     0     0     0     0     0     0     0     0     0     0     0\n",
            "     0     0     0     0     0     0     0     0     0     0     0     0\n",
            "     0     0     0     0     0     0     0     0     0     0     0     0\n",
            "     0     0     0     0     0     0     0     0     0     0     0     0\n",
            "     0     0     0     0     0     0     0     0     0     0     0     0\n",
            "     0     0     0     0     0     0     0     0     0     0     0     0\n",
            "     0     0     0     0     0     0     0     0]\n",
            "x_dev_review_masks[0]:\n",
            "[1 1 1 1 1 1 1 1 1 1 1 1 1 1 1 1 1 1 1 1 1 1 1 1 1 1 1 1 1 1 1 1 0 0 0 0 0\n",
            " 0 0 0 0 0 0 0 0 0 0 0 0 0 0 0 0 0 0 0 0 0 0 0 0 0 0 0 0 0 0 0 0 0 0 0 0 0\n",
            " 0 0 0 0 0 0 0 0 0 0 0 0 0 0 0 0 0 0 0 0 0 0 0 0 0 0 0 0 0 0 0 0 0 0 0 0 0\n",
            " 0 0 0 0 0 0 0 0 0 0 0 0 0 0 0 0 0]\n"
          ]
        },
        {
          "output_type": "stream",
          "name": "stderr",
          "text": [
            "\n"
          ]
        }
      ],
      "source": [
        "# Please write your code to generate the following data\n",
        "x_train_review_int = []\n",
        "x_train_review_masks = []\n",
        "x_train_aspect_int = []\n",
        "x_train_aspect_masks = []\n",
        "\n",
        "x_dev_review_int = []\n",
        "x_dev_review_masks = []\n",
        "x_dev_aspect_int = []\n",
        "x_dev_aspect_masks = []\n",
        "\n",
        "x_test_review_int = []\n",
        "x_test_review_masks = []\n",
        "x_test_aspect_int = []\n",
        "x_test_aspect_masks = []\n",
        "\n",
        "\n",
        "# your code goes here\n",
        "# Tokenize reviews and aspects for training data\n",
        "for review, aspect, polarity, start, end in tqdm.tqdm(train):\n",
        "    review_ids, review_masks, _, = tokenize(review, tokenizer)\n",
        "    aspect_ids, aspect_masks, _, = tokenize(aspect, tokenizer)\n",
        "    x_train_review_int.append(review_ids)\n",
        "    x_train_review_masks.append(review_masks)\n",
        "    x_train_aspect_int.append(aspect_ids)\n",
        "    x_train_aspect_masks.append(aspect_masks)\n",
        "\n",
        "# Tokenize reviews and aspects for validation data\n",
        "for review, aspect, polarity, start, end in tqdm.tqdm(dev):\n",
        "    review_ids, review_masks, _, = tokenize(review, tokenizer)\n",
        "    aspect_ids, aspect_masks, _, = tokenize(aspect, tokenizer)\n",
        "    x_dev_review_int.append(review_ids)\n",
        "    x_dev_review_masks.append(review_masks)\n",
        "    x_dev_aspect_int.append(aspect_ids)\n",
        "    x_dev_aspect_masks.append(aspect_masks)\n",
        "\n",
        "# Tokenize reviews and aspects for test data\n",
        "for review, aspect, polarity, start, end in tqdm.tqdm(test):\n",
        "    review_ids, review_masks, _, = tokenize(review, tokenizer)\n",
        "    aspect_ids, aspect_masks, _, = tokenize(aspect, tokenizer)\n",
        "    x_test_review_int.append(review_ids)\n",
        "    x_test_review_masks.append(review_masks)\n",
        "    x_test_aspect_int.append(aspect_ids)\n",
        "    x_test_aspect_masks.append(aspect_masks)\n",
        "\n",
        "\n",
        "# You can check the results as follows:\n",
        "assert len(x_train_aspect_int) == len(train)\n",
        "assert len(x_train_aspect_masks) == len(x_train_aspect_int)\n",
        "assert len(x_test_aspect_int) == len(test)\n",
        "assert len(x_test_aspect_masks) == len(x_test_aspect_int)\n",
        "print(\"x_dev_aspect_int[0]:\")\n",
        "print(x_dev_aspect_int[0])\n",
        "print(\"x_dev_aspect_masks[0]:\")\n",
        "print(x_dev_aspect_masks[0])\n",
        "print(\"x_dev_review_int[0]:\")\n",
        "print(x_dev_review_int[0])\n",
        "print(\"x_dev_review_masks[0]:\")\n",
        "print(x_dev_review_masks[0])"
      ]
    },
    {
      "cell_type": "markdown",
      "metadata": {
        "id": "5IreFXgruZot"
      },
      "source": [
        "We one-hot encode the labels, using 4 (Binary:100) to represent \"positive\", 2 (Binary:010) for \"neutral\", and 1 (Binary:001) for \"negative\"."
      ]
    },
    {
      "cell_type": "code",
      "execution_count": null,
      "metadata": {
        "id": "abIb7Fe5u3GQ",
        "colab": {
          "base_uri": "https://localhost:8080/"
        },
        "outputId": "be675702-88f0-4793-ecb9-3fedf9eb6f07"
      },
      "outputs": [
        {
          "output_type": "stream",
          "name": "stdout",
          "text": [
            "[0 0 1]\n",
            "[1 0 0]\n",
            "[1 0 0]\n",
            "[0 1 0]\n",
            "[0 0 1]\n"
          ]
        }
      ],
      "source": [
        "def label2int(dataset):\n",
        "  y = []\n",
        "  for example in dataset:\n",
        "    if example[2].lower() == \"negative\":\n",
        "      y.append([0,0,1])\n",
        "    elif example[2].lower() == \"neutral\":\n",
        "      y.append([0,1,0])\n",
        "    else:\n",
        "      # assert example[2].lower() == \"positive\"\n",
        "      y.append([1,0,0])\n",
        "  return y\n",
        "\n",
        "y_train = label2int(train)\n",
        "y_dev = label2int(dev)\n",
        "y_test = label2int(test)\n",
        "y_train = np.array(y_train)\n",
        "y_dev = np.array(y_dev)\n",
        "y_test = np.array(y_test)\n",
        "\n",
        "print(y_train[0])\n",
        "print(y_train[1])\n",
        "print(y_train[2])\n",
        "print(y_train[3])\n",
        "print(y_train[4])"
      ]
    },
    {
      "cell_type": "markdown",
      "metadata": {
        "id": "9TnnSuspvC5b"
      },
      "source": [
        "Now we have almost finished the data preprocessing. Unlike in the previous labs, there are two model inputs: review and aspect. The easiest way is to combine the review and aspect into one sentence and then input it into the model."
      ]
    },
    {
      "cell_type": "code",
      "execution_count": null,
      "metadata": {
        "id": "nKOiVVXQu-_I",
        "colab": {
          "base_uri": "https://localhost:8080/"
        },
        "outputId": "89c48404-19a4-467e-b68e-941d4297cdc6"
      },
      "outputs": [
        {
          "output_type": "stream",
          "name": "stdout",
          "text": [
            "[  101  2044  1037  3232  1997  8974  1010  1996 18726  1011  1011  1045\n",
            "  2066  1996 27940  1013 24792  2621  4897  1998  1996 13675 11514  6508\n",
            " 26852  1011  1011  2175  2091  2307  1012   102  8974   102     0     0\n",
            "     0     0     0     0     0     0     0     0     0     0     0     0\n",
            "     0     0     0     0     0     0     0     0     0     0     0     0\n",
            "     0     0     0     0     0     0     0     0     0     0     0     0\n",
            "     0     0     0     0     0     0     0     0     0     0     0     0\n",
            "     0     0     0     0     0     0     0     0     0     0     0     0\n",
            "     0     0     0     0     0     0     0     0     0     0     0     0\n",
            "     0     0     0     0     0     0     0     0     0     0     0     0\n",
            "     0     0     0     0     0     0     0     0]\n",
            "[1 1 1 1 1 1 1 1 1 1 1 1 1 1 1 1 1 1 1 1 1 1 1 1 1 1 1 1 1 1 1 1 1 1 0 0 0\n",
            " 0 0 0 0 0 0 0 0 0 0 0 0 0 0 0 0 0 0 0 0 0 0 0 0 0 0 0 0 0 0 0 0 0 0 0 0 0\n",
            " 0 0 0 0 0 0 0 0 0 0 0 0 0 0 0 0 0 0 0 0 0 0 0 0 0 0 0 0 0 0 0 0 0 0 0 0 0\n",
            " 0 0 0 0 0 0 0 0 0 0 0 0 0 0 0 0 0] \n",
            "\n",
            "[  101  2044  1037  3232  1997  8974  1010  1996 18726  1011  1011  1045\n",
            "  2066  1996 27940  1013 24792  2621  4897  1998  1996 13675 11514  6508\n",
            " 26852  1011  1011  2175  2091  2307  1012   102  8974   102     0     0\n",
            "     0     0     0     0     0     0     0     0     0     0     0     0\n",
            "     0     0     0     0     0     0     0     0     0     0     0     0\n",
            "     0     0     0     0     0     0     0     0     0     0     0     0\n",
            "     0     0     0     0     0     0     0     0     0     0     0     0\n",
            "     0     0     0     0     0     0     0     0     0     0     0     0\n",
            "     0     0     0     0     0     0     0     0     0     0     0     0\n",
            "     0     0     0     0     0     0     0     0     0     0     0     0\n",
            "     0     0     0     0     0     0     0     0]\n",
            "[1 1 1 1 1 1 1 1 1 1 1 1 1 1 1 1 1 1 1 1 1 1 1 1 1 1 1 1 1 1 1 1 1 1 0 0 0\n",
            " 0 0 0 0 0 0 0 0 0 0 0 0 0 0 0 0 0 0 0 0 0 0 0 0 0 0 0 0 0 0 0 0 0 0 0 0 0\n",
            " 0 0 0 0 0 0 0 0 0 0 0 0 0 0 0 0 0 0 0 0 0 0 0 0 0 0 0 0 0 0 0 0 0 0 0 0 0\n",
            " 0 0 0 0 0 0 0 0 0 0 0 0 0 0 0 0 0]\n"
          ]
        }
      ],
      "source": [
        "# Please write your code to combine sentences and aspect words into the following varibles\n",
        "\n",
        "# x_train_int\n",
        "# x_train_masks\n",
        "# x_dev_int\n",
        "# x_dev_masks\n",
        "# x_test_int\n",
        "# x_test_masks\n",
        "\n",
        "x_train_int = []\n",
        "x_train_masks = []\n",
        "x_dev_int = []\n",
        "x_dev_masks = []\n",
        "x_test_int = []\n",
        "x_test_masks = []\n",
        "\n",
        "# Tips:\n",
        "# 1) Use the special token <SEP> to concatenate sentences and aspect words\n",
        "# 2) Make sure they are paded/truncated to a max length\n",
        "\n",
        "# your code goes here\n",
        "for sample in train:\n",
        "    id, mask, _ = tokenize(sample[0]+' '+ tokenizer.sep_token+' '+ sample[1], tokenizer)\n",
        "    x_train_int.append(np.array(id))\n",
        "    x_train_masks.append(np.array(mask))\n",
        "\n",
        "\n",
        "for sample in dev:\n",
        "    id, mask, _ = tokenize(sample[0]+' '+ tokenizer.sep_token+' '+ sample[1], tokenizer)\n",
        "    x_dev_int.append(np.array(id))\n",
        "    x_dev_masks.append(np.array(mask))\n",
        "\n",
        "\n",
        "for sample in test:\n",
        "    id, mask, _ = tokenize(sample[0]+' '+ tokenizer.sep_token+' '+ sample[1], tokenizer)\n",
        "    x_test_int.append(np.array(id))\n",
        "    x_test_masks.append(np.array(mask))\n",
        "\n",
        "# Don't forget the to use the np.array function to wrap the outputs\n",
        "x_train_int_np = np.array(x_train_int)\n",
        "x_train_masks_np = np.array(x_train_masks)\n",
        "x_dev_int_np = np.array(x_dev_int)\n",
        "x_dev_masks_np = np.array(x_dev_masks)\n",
        "x_test_int_np = np.array(x_test_int)\n",
        "x_test_masks_np = np.array(x_test_masks)\n",
        "\n",
        "\n",
        "print(x_dev_int[0])\n",
        "print(x_dev_masks[0],'\\n')\n",
        "print(x_dev_int_np[0])\n",
        "print(x_dev_masks_np[0]) # sentence + aspect\n"
      ]
    },
    {
      "cell_type": "markdown",
      "metadata": {
        "id": "UqvUGIwwGJqu"
      },
      "source": [
        "## Model 1: Prebuilt Sequence Classification\n",
        "\n"
      ]
    },
    {
      "cell_type": "markdown",
      "metadata": {
        "id": "hSxC41ln07im"
      },
      "source": [
        "The Huggingface transformer package provides many prebuilt models. Now let us try a sequence classification model based on DistilBERT.\n",
        "\n",
        "The models with BERT are much bigger than our previous models. To run it faster, we can use TPU. Detailed guidelines on how to use TPU can be found from https://www.tensorflow.org/guide/tpu."
      ]
    },
    {
      "cell_type": "code",
      "execution_count": null,
      "metadata": {
        "id": "1gXFbb2cxBlw",
        "colab": {
          "base_uri": "https://localhost:8080/"
        },
        "outputId": "4471a654-39bd-4888-8447-8abcf10e098c"
      },
      "outputs": [
        {
          "output_type": "stream",
          "name": "stderr",
          "text": [
            "WARNING:tensorflow:TPU system grpc://10.2.54.66:8470 has already been initialized. Reinitializing the TPU can cause previously created variables on TPU to be lost.\n",
            "Some layers from the model checkpoint at distilbert-base-uncased were not used when initializing TFDistilBertForSequenceClassification: ['vocab_transform', 'vocab_projector', 'activation_13', 'vocab_layer_norm']\n",
            "- This IS expected if you are initializing TFDistilBertForSequenceClassification from the checkpoint of a model trained on another task or with another architecture (e.g. initializing a BertForSequenceClassification model from a BertForPreTraining model).\n",
            "- This IS NOT expected if you are initializing TFDistilBertForSequenceClassification from the checkpoint of a model that you expect to be exactly identical (initializing a BertForSequenceClassification model from a BertForSequenceClassification model).\n",
            "Some layers of TFDistilBertForSequenceClassification were not initialized from the model checkpoint at distilbert-base-uncased and are newly initialized: ['classifier', 'pre_classifier', 'dropout_154']\n",
            "You should probably TRAIN this model on a down-stream task to be able to use it for predictions and inference.\n"
          ]
        }
      ],
      "source": [
        "from transformers import TFDistilBertForSequenceClassification, DistilBertConfig\n",
        "import tensorflow as tf\n",
        "\n",
        "distil_bert = 'distilbert-base-uncased'\n",
        "\n",
        "config = DistilBertConfig(num_labels=3)\n",
        "config.output_hidden_states = False\n",
        "\n",
        "def create_TFDistilBertForSequenceClassification():\n",
        "  transformer_model = TFDistilBertForSequenceClassification.from_pretrained(distil_bert, config = config)\n",
        "  input_ids = tf.keras.layers.Input(shape=(128,), name='input_token', dtype='int32')\n",
        "  input_masks_ids = tf.keras.layers.Input(shape=(128,), name='masked_token', dtype='int32')\n",
        "  X = transformer_model(input_ids, input_masks_ids)\n",
        "  return tf.keras.Model(inputs=[input_ids, input_masks_ids], outputs = X)\n",
        "\n",
        "use_tpu = True\n",
        "if use_tpu:\n",
        "  # Create distribution strategy\n",
        "  tpu = tf.distribute.cluster_resolver.TPUClusterResolver()\n",
        "  tf.config.experimental_connect_to_cluster(tpu)\n",
        "  tf.tpu.experimental.initialize_tpu_system(tpu)\n",
        "  strategy = tf.distribute.TPUStrategy(tpu)\n",
        "\n",
        "  # Create model on TPU:\n",
        "  with strategy.scope():\n",
        "    model = create_TFDistilBertForSequenceClassification()\n",
        "    optimizer = tf.keras.optimizers.Adam(learning_rate=5e-5)\n",
        "    model.compile(optimizer=optimizer, loss='binary_crossentropy', metrics=['accuracy'])\n",
        "else:\n",
        "  model = create_TFDistilBertForSequenceClassification()\n",
        "  model.compile(optimizer='adam',\n",
        "              loss='binary_crossentropy',\n",
        "              metrics=['accuracy'])\n"
      ]
    },
    {
      "cell_type": "code",
      "execution_count": null,
      "metadata": {
        "id": "2CPFj0CMx9mw",
        "colab": {
          "base_uri": "https://localhost:8080/"
        },
        "outputId": "f5d5f3b7-3030-4254-91d3-f56ef190bd01"
      },
      "outputs": [
        {
          "output_type": "stream",
          "name": "stdout",
          "text": [
            "Model: \"model_2\"\n",
            "__________________________________________________________________________________________________\n",
            " Layer (type)                   Output Shape         Param #     Connected to                     \n",
            "==================================================================================================\n",
            " input_token (InputLayer)       [(None, 128)]        0           []                               \n",
            "                                                                                                  \n",
            " masked_token (InputLayer)      [(None, 128)]        0           []                               \n",
            "                                                                                                  \n",
            " tf_distil_bert_for_sequence_cl  TFSequenceClassifie  66955779   ['input_token[0][0]',            \n",
            " assification_2 (TFDistilBertFo  rOutput(loss=None,               'masked_token[0][0]']           \n",
            " rSequenceClassification)       logits=(None, 3),                                                 \n",
            "                                 hidden_states=None                                               \n",
            "                                , attentions=None)                                                \n",
            "                                                                                                  \n",
            "==================================================================================================\n",
            "Total params: 66,955,779\n",
            "Trainable params: 66,955,779\n",
            "Non-trainable params: 0\n",
            "__________________________________________________________________________________________________\n"
          ]
        }
      ],
      "source": [
        "model.summary()"
      ]
    },
    {
      "cell_type": "code",
      "execution_count": null,
      "metadata": {
        "id": "zQQH5lE_33Vn",
        "colab": {
          "base_uri": "https://localhost:8080/"
        },
        "outputId": "b3a28c49-760c-4c24-9039-cb57ae8bed12"
      },
      "outputs": [
        {
          "output_type": "stream",
          "name": "stdout",
          "text": [
            "Epoch 1/30\n",
            "22/22 [==============================] - 106s 2s/step - loss: 0.9973 - accuracy: 0.4102 - val_loss: 0.6103 - val_accuracy: 0.4535\n",
            "Epoch 2/30\n",
            "22/22 [==============================] - 5s 226ms/step - loss: 0.6049 - accuracy: 0.4525 - val_loss: 0.5836 - val_accuracy: 0.4677\n",
            "Epoch 3/30\n",
            "22/22 [==============================] - 5s 226ms/step - loss: 0.5863 - accuracy: 0.4840 - val_loss: 0.5796 - val_accuracy: 0.4992\n",
            "Epoch 4/30\n",
            "22/22 [==============================] - 5s 232ms/step - loss: 0.5663 - accuracy: 0.5104 - val_loss: 0.5474 - val_accuracy: 0.5526\n",
            "Epoch 5/30\n",
            "22/22 [==============================] - 5s 224ms/step - loss: 0.4929 - accuracy: 0.6594 - val_loss: 0.4733 - val_accuracy: 0.7215\n",
            "Epoch 6/30\n",
            "22/22 [==============================] - 5s 225ms/step - loss: 0.4115 - accuracy: 0.7611 - val_loss: 0.3787 - val_accuracy: 0.7733\n",
            "Epoch 7/30\n",
            "22/22 [==============================] - 5s 234ms/step - loss: 0.3651 - accuracy: 0.7926 - val_loss: 0.4071 - val_accuracy: 0.7718\n",
            "Epoch 8/30\n",
            "22/22 [==============================] - 5s 224ms/step - loss: 0.3610 - accuracy: 0.8140 - val_loss: 0.4144 - val_accuracy: 0.7665\n",
            "Epoch 9/30\n",
            "22/22 [==============================] - 6s 277ms/step - loss: 0.3323 - accuracy: 0.8073 - val_loss: 0.4586 - val_accuracy: 0.7950\n",
            "Epoch 10/30\n",
            "22/22 [==============================] - 5s 228ms/step - loss: 0.3045 - accuracy: 0.8295 - val_loss: 0.4330 - val_accuracy: 0.7913\n",
            "Epoch 11/30\n",
            "22/22 [==============================] - 5s 228ms/step - loss: 0.2904 - accuracy: 0.8484 - val_loss: 0.4150 - val_accuracy: 0.7928\n",
            "Epoch 12/30\n",
            "22/22 [==============================] - 5s 235ms/step - loss: 0.5266 - accuracy: 0.5659 - val_loss: 0.4711 - val_accuracy: 0.7245\n",
            "Epoch 13/30\n",
            "22/22 [==============================] - 5s 233ms/step - loss: 0.4177 - accuracy: 0.7325 - val_loss: 0.4569 - val_accuracy: 0.7808\n",
            "Epoch 14/30\n",
            "22/22 [==============================] - 5s 228ms/step - loss: 0.3347 - accuracy: 0.8274 - val_loss: 0.3946 - val_accuracy: 0.7845\n",
            "Epoch 15/30\n",
            "22/22 [==============================] - 5s 236ms/step - loss: 0.2899 - accuracy: 0.8489 - val_loss: 0.4175 - val_accuracy: 0.7800\n",
            "Epoch 16/30\n",
            "22/22 [==============================] - 5s 239ms/step - loss: 0.2816 - accuracy: 0.8515 - val_loss: 0.4624 - val_accuracy: 0.7890\n",
            "Epoch 17/30\n",
            "22/22 [==============================] - 5s 227ms/step - loss: 0.2478 - accuracy: 0.8682 - val_loss: 0.5514 - val_accuracy: 0.7958\n",
            "Epoch 18/30\n",
            "22/22 [==============================] - 5s 228ms/step - loss: 0.2294 - accuracy: 0.8819 - val_loss: 0.5500 - val_accuracy: 0.7995\n",
            "Epoch 19/30\n",
            "22/22 [==============================] - 5s 233ms/step - loss: 0.2423 - accuracy: 0.8697 - val_loss: 0.5164 - val_accuracy: 0.7950\n",
            "Epoch 20/30\n",
            "22/22 [==============================] - 5s 235ms/step - loss: 0.2182 - accuracy: 0.8900 - val_loss: 0.6042 - val_accuracy: 0.8116\n",
            "Epoch 21/30\n",
            "22/22 [==============================] - 5s 228ms/step - loss: 0.2521 - accuracy: 0.8706 - val_loss: 0.4240 - val_accuracy: 0.7755\n",
            "Epoch 22/30\n",
            "22/22 [==============================] - 5s 234ms/step - loss: 0.2386 - accuracy: 0.8856 - val_loss: 0.5487 - val_accuracy: 0.8003\n",
            "Epoch 23/30\n",
            "22/22 [==============================] - 5s 235ms/step - loss: 0.3139 - accuracy: 0.8501 - val_loss: 0.4754 - val_accuracy: 0.7995\n",
            "Epoch 24/30\n",
            "22/22 [==============================] - 5s 225ms/step - loss: 0.2240 - accuracy: 0.8917 - val_loss: 0.6355 - val_accuracy: 0.7980\n",
            "Epoch 25/30\n",
            "22/22 [==============================] - 5s 231ms/step - loss: 0.1904 - accuracy: 0.9101 - val_loss: 0.6287 - val_accuracy: 0.8063\n",
            "Epoch 26/30\n",
            "22/22 [==============================] - 5s 234ms/step - loss: 0.1849 - accuracy: 0.9108 - val_loss: 0.5545 - val_accuracy: 0.7988\n",
            "Epoch 27/30\n",
            "22/22 [==============================] - 5s 229ms/step - loss: 0.2126 - accuracy: 0.8999 - val_loss: 0.5105 - val_accuracy: 0.7890\n",
            "Epoch 28/30\n",
            "22/22 [==============================] - 5s 229ms/step - loss: 0.2116 - accuracy: 0.9029 - val_loss: 0.6903 - val_accuracy: 0.8011\n",
            "Epoch 29/30\n",
            "22/22 [==============================] - 5s 226ms/step - loss: 0.1631 - accuracy: 0.9264 - val_loss: 0.7091 - val_accuracy: 0.8101\n",
            "Epoch 30/30\n",
            "22/22 [==============================] - 5s 225ms/step - loss: 0.1570 - accuracy: 0.9269 - val_loss: 0.7687 - val_accuracy: 0.8056\n"
          ]
        }
      ],
      "source": [
        "history = model.fit([x_train_int_np,x_train_masks_np],\n",
        "                    y_train,\n",
        "                    epochs=30,\n",
        "                    batch_size=512,\n",
        "                    validation_data=([x_dev_int_np,x_dev_masks_np], y_dev),\n",
        "                    verbose=1)"
      ]
    },
    {
      "cell_type": "code",
      "execution_count": null,
      "metadata": {
        "id": "lQcytuBdaWVp",
        "colab": {
          "base_uri": "https://localhost:8080/"
        },
        "outputId": "f5909bb6-7814-47fd-edc4-1c4fe6e6bce1"
      },
      "outputs": [
        {
          "output_type": "stream",
          "name": "stdout",
          "text": [
            "42/42 [==============================] - 8s 99ms/step - loss: 0.7470 - accuracy: 0.8069\n",
            "[0.7470388412475586, 0.8068862557411194]\n"
          ]
        }
      ],
      "source": [
        "results = model.evaluate([x_test_int_np,x_test_masks_np], y_test)\n",
        "print(results)"
      ]
    },
    {
      "cell_type": "code",
      "source": [
        "try:\n",
        "    from plot_keras_history import plot_history\n",
        "except ModuleNotFoundError:\n",
        "    %pip install plot_keras_history\n",
        "\n",
        "from plot_keras_history import plot_history\n",
        "import matplotlib.pyplot as plt"
      ],
      "metadata": {
        "id": "NNwA2tosKvNC"
      },
      "execution_count": null,
      "outputs": []
    },
    {
      "cell_type": "code",
      "source": [
        "from plot_keras_history import plot_history\n",
        "print()\n",
        "print('Below are the evaluation Results')\n",
        "print(f\"Test Loss: {results[0]}, Test Accuracy: {results[1]}\")\n",
        "print()\n",
        "print('Below are the learning curves')\n",
        "plot_history(history.history, path=\"std.png\")\n",
        "plt.show()"
      ],
      "metadata": {
        "colab": {
          "base_uri": "https://localhost:8080/",
          "height": 615
        },
        "id": "HJGDS5qDFl61",
        "outputId": "0f9c5084-d7d6-4e5b-ab07-75e91553530c"
      },
      "execution_count": null,
      "outputs": [
        {
          "output_type": "stream",
          "name": "stdout",
          "text": [
            "\n",
            "Below are the evaluation Results\n",
            "Test Loss: 0.7470388412475586, Test Accuracy: 0.8068862557411194\n",
            "\n",
            "Below are the learning curves\n"
          ]
        },
        {
          "output_type": "display_data",
          "data": {
            "text/plain": [
              "<Figure size 1000x500 with 2 Axes>"
            ],
            "image/png": "[encoded data removed]"
          },
          "metadata": {
            "needs_background": "light"
          }
        }
      ]
    },
    {
      "cell_type": "markdown",
      "metadata": {
        "id": "vdZ4nl08vp9A"
      },
      "source": [
        "\n",
        "## Model 2: Neural bag of words using BERT"
      ]
    },
    {
      "cell_type": "markdown",
      "metadata": {
        "id": "2gyCwXFj_R5w"
      },
      "source": [
        "Here we will use model2 from Lab3 with BERT instead of the previous static word embeddings."
      ]
    },
    {
      "cell_type": "code",
      "execution_count": null,
      "metadata": {
        "id": "DStlnRQRf-4v"
      },
      "outputs": [],
      "source": [
        "class GlobalAveragePooling1DMasked(GlobalAveragePooling1D):\n",
        "    def call(self, x, mask=None):\n",
        "        if mask != None:\n",
        "            return K.sum(x, axis=1) / K.sum(mask, axis=1)\n",
        "        else:\n",
        "            return super().call(x)"
      ]
    },
    {
      "cell_type": "code",
      "execution_count": null,
      "metadata": {
        "id": "8fTwmYDvNEyT"
      },
      "outputs": [],
      "source": [
        "from transformers import TFDistilBertModel, DistilBertConfig\n",
        "\n",
        "def get_BERT_layer():\n",
        "  distil_bert = 'distilbert-base-uncased'\n",
        "  config = DistilBertConfig(dropout=0.2, attention_dropout=0.2)\n",
        "  config.output_hidden_states = False\n",
        "  return TFDistilBertModel.from_pretrained(distil_bert, config = config)\n"
      ]
    },
    {
      "cell_type": "code",
      "execution_count": null,
      "metadata": {
        "id": "VICS9rY8C7KH",
        "colab": {
          "base_uri": "https://localhost:8080/"
        },
        "outputId": "09538597-a6fa-49b6-d4a4-6870ec46bcaf"
      },
      "outputs": [
        {
          "output_type": "stream",
          "name": "stderr",
          "text": [
            "WARNING:tensorflow:TPU system grpc://10.2.54.66:8470 has already been initialized. Reinitializing the TPU can cause previously created variables on TPU to be lost.\n",
            "Some layers from the model checkpoint at distilbert-base-uncased were not used when initializing TFDistilBertModel: ['vocab_transform', 'vocab_projector', 'activation_13', 'vocab_layer_norm']\n",
            "- This IS expected if you are initializing TFDistilBertModel from the checkpoint of a model trained on another task or with another architecture (e.g. initializing a BertForSequenceClassification model from a BertForPreTraining model).\n",
            "- This IS NOT expected if you are initializing TFDistilBertModel from the checkpoint of a model that you expect to be exactly identical (initializing a BertForSequenceClassification model from a BertForSequenceClassification model).\n",
            "All the layers of TFDistilBertModel were initialized from the model checkpoint at distilbert-base-uncased.\n",
            "If your task is similar to the task the model of the checkpoint was trained on, you can already use TFDistilBertModel for predictions without further training.\n"
          ]
        }
      ],
      "source": [
        "import tensorflow as tf\n",
        "hdepth=16\n",
        "MAX_SEQUENCE_LENGTH = 128\n",
        "EMBED_SIZE=100\n",
        "\n",
        "\n",
        "def create_bag_of_words_BERT():\n",
        "  input_ids_in = tf.keras.layers.Input(shape=(128,), name='input_token', dtype='int32')\n",
        "  input_masks_in = tf.keras.layers.Input(shape=(128,), name='masked_token', dtype='int32')\n",
        "\n",
        "  bert_embeddings = get_BERT_layer()\n",
        "  embedded_sent = bert_embeddings(input_ids_in, attention_mask=input_masks_in)[0]\n",
        "\n",
        "  pooled_sent=GlobalAveragePooling1DMasked()(embedded_sent)\n",
        "  hidden_output=Dense(hdepth,input_shape=(MAX_SEQUENCE_LENGTH,EMBED_SIZE),activation='sigmoid',kernel_initializer='glorot_uniform')(pooled_sent) # Sigmoid\n",
        "  label=Dense(3,input_shape=(hdepth,),activation='softmax',kernel_initializer='glorot_uniform')(hidden_output)\n",
        "  return Model(inputs=[input_ids_in,input_masks_in], outputs=[label],name='Model2_BERT')\n",
        "\n",
        "\n",
        "use_tpu = True\n",
        "if use_tpu:\n",
        "  # Create distribution strategy\n",
        "  tpu = tf.distribute.cluster_resolver.TPUClusterResolver()\n",
        "  tf.config.experimental_connect_to_cluster(tpu)\n",
        "  tf.tpu.experimental.initialize_tpu_system(tpu)\n",
        "  strategy = tf.distribute.TPUStrategy(tpu)\n",
        "\n",
        "  # Create model\n",
        "  with strategy.scope():\n",
        "    model2 = create_bag_of_words_BERT()\n",
        "    optimizer2 = tf.keras.optimizers.Adam(learning_rate=5e-5)\n",
        "    model2.compile(optimizer=optimizer2, loss='binary_crossentropy', metrics=['accuracy'])\n",
        "else:\n",
        "  model2 = create_bag_of_words_BERT()\n",
        "  model2.compile(optimizer='adam',\n",
        "              loss='binary_crossentropy',\n",
        "              metrics=['accuracy'])"
      ]
    },
    {
      "cell_type": "code",
      "execution_count": null,
      "metadata": {
        "id": "GebkoriE5daJ",
        "colab": {
          "base_uri": "https://localhost:8080/"
        },
        "outputId": "4112f37c-b4a4-4666-f605-12bb8e916845"
      },
      "outputs": [
        {
          "output_type": "stream",
          "name": "stdout",
          "text": [
            "Model: \"Model2_BERT\"\n",
            "__________________________________________________________________________________________________\n",
            " Layer (type)                   Output Shape         Param #     Connected to                     \n",
            "==================================================================================================\n",
            " input_token (InputLayer)       [(None, 128)]        0           []                               \n",
            "                                                                                                  \n",
            " masked_token (InputLayer)      [(None, 128)]        0           []                               \n",
            "                                                                                                  \n",
            " tf_distil_bert_model_25 (TFDis  TFBaseModelOutput(l  66362880   ['input_token[0][0]',            \n",
            " tilBertModel)                  ast_hidden_state=(N               'masked_token[0][0]']           \n",
            "                                one, 128, 768),                                                   \n",
            "                                 hidden_states=None                                               \n",
            "                                , attentions=None)                                                \n",
            "                                                                                                  \n",
            " global_average_pooling1d_maske  (None, 768)         0           ['tf_distil_bert_model_25[0][0]']\n",
            " d_10 (GlobalAveragePooling1DMa                                                                   \n",
            " sked)                                                                                            \n",
            "                                                                                                  \n",
            " dense_45 (Dense)               (None, 16)           12304       ['global_average_pooling1d_masked\n",
            "                                                                 _10[0][0]']                      \n",
            "                                                                                                  \n",
            " dense_46 (Dense)               (None, 3)            51          ['dense_45[0][0]']               \n",
            "                                                                                                  \n",
            "==================================================================================================\n",
            "Total params: 66,375,235\n",
            "Trainable params: 66,375,235\n",
            "Non-trainable params: 0\n",
            "__________________________________________________________________________________________________\n"
          ]
        }
      ],
      "source": [
        "model2.summary()"
      ]
    },
    {
      "cell_type": "code",
      "execution_count": null,
      "metadata": {
        "id": "S0SbsCsxF1zi",
        "colab": {
          "base_uri": "https://localhost:8080/"
        },
        "outputId": "e6e036da-6f80-49e7-e386-34a1d026ca21"
      },
      "outputs": [
        {
          "output_type": "stream",
          "name": "stdout",
          "text": [
            "Epoch 1/30\n",
            "22/22 [==============================] - 112s 2s/step - loss: 0.6376 - accuracy: 0.3993 - val_loss: 0.6122 - val_accuracy: 0.4354\n",
            "Epoch 2/30\n",
            "22/22 [==============================] - 5s 237ms/step - loss: 0.6008 - accuracy: 0.5144 - val_loss: 0.5815 - val_accuracy: 0.5946\n",
            "Epoch 3/30\n",
            "22/22 [==============================] - 5s 226ms/step - loss: 0.5658 - accuracy: 0.6096 - val_loss: 0.5512 - val_accuracy: 0.6479\n",
            "Epoch 4/30\n",
            "22/22 [==============================] - 5s 225ms/step - loss: 0.5396 - accuracy: 0.6694 - val_loss: 0.5332 - val_accuracy: 0.6922\n",
            "Epoch 5/30\n",
            "22/22 [==============================] - 5s 237ms/step - loss: 0.5079 - accuracy: 0.7355 - val_loss: 0.5028 - val_accuracy: 0.7508\n",
            "Epoch 6/30\n",
            "22/22 [==============================] - 5s 224ms/step - loss: 0.4840 - accuracy: 0.7895 - val_loss: 0.4960 - val_accuracy: 0.7628\n",
            "Epoch 7/30\n",
            "22/22 [==============================] - 5s 226ms/step - loss: 0.4696 - accuracy: 0.8200 - val_loss: 0.4886 - val_accuracy: 0.7935\n",
            "Epoch 8/30\n",
            "22/22 [==============================] - 5s 234ms/step - loss: 0.4552 - accuracy: 0.8456 - val_loss: 0.4880 - val_accuracy: 0.7853\n",
            "Epoch 9/30\n",
            "22/22 [==============================] - 5s 224ms/step - loss: 0.4447 - accuracy: 0.8663 - val_loss: 0.4815 - val_accuracy: 0.8063\n",
            "Epoch 10/30\n",
            "22/22 [==============================] - 5s 227ms/step - loss: 0.4353 - accuracy: 0.8810 - val_loss: 0.4813 - val_accuracy: 0.8011\n",
            "Epoch 11/30\n",
            "22/22 [==============================] - 5s 229ms/step - loss: 0.4292 - accuracy: 0.8925 - val_loss: 0.4797 - val_accuracy: 0.8056\n",
            "Epoch 12/30\n",
            "22/22 [==============================] - 5s 229ms/step - loss: 0.4218 - accuracy: 0.9051 - val_loss: 0.4772 - val_accuracy: 0.8131\n",
            "Epoch 13/30\n",
            "22/22 [==============================] - 5s 232ms/step - loss: 0.4160 - accuracy: 0.9143 - val_loss: 0.4778 - val_accuracy: 0.8048\n",
            "Epoch 14/30\n",
            "22/22 [==============================] - 5s 228ms/step - loss: 0.4145 - accuracy: 0.9156 - val_loss: 0.4770 - val_accuracy: 0.8048\n",
            "Epoch 15/30\n",
            "22/22 [==============================] - 5s 230ms/step - loss: 0.4072 - accuracy: 0.9273 - val_loss: 0.4708 - val_accuracy: 0.8131\n",
            "Epoch 16/30\n",
            "22/22 [==============================] - 5s 235ms/step - loss: 0.4037 - accuracy: 0.9297 - val_loss: 0.4706 - val_accuracy: 0.8183\n",
            "Epoch 17/30\n",
            "22/22 [==============================] - 5s 228ms/step - loss: 0.4012 - accuracy: 0.9333 - val_loss: 0.4692 - val_accuracy: 0.8146\n",
            "Epoch 18/30\n",
            "22/22 [==============================] - 5s 226ms/step - loss: 0.3985 - accuracy: 0.9344 - val_loss: 0.4653 - val_accuracy: 0.8206\n",
            "Epoch 19/30\n",
            "22/22 [==============================] - 7s 337ms/step - loss: 0.3933 - accuracy: 0.9415 - val_loss: 0.4631 - val_accuracy: 0.8228\n",
            "Epoch 20/30\n",
            "22/22 [==============================] - 5s 228ms/step - loss: 0.3926 - accuracy: 0.9397 - val_loss: 0.4636 - val_accuracy: 0.8236\n",
            "Epoch 21/30\n",
            "22/22 [==============================] - 5s 236ms/step - loss: 0.3864 - accuracy: 0.9487 - val_loss: 0.4600 - val_accuracy: 0.8296\n",
            "Epoch 22/30\n",
            "22/22 [==============================] - 5s 229ms/step - loss: 0.3842 - accuracy: 0.9518 - val_loss: 0.4570 - val_accuracy: 0.8228\n",
            "Epoch 23/30\n",
            "22/22 [==============================] - 5s 228ms/step - loss: 0.3805 - accuracy: 0.9537 - val_loss: 0.4633 - val_accuracy: 0.8123\n",
            "Epoch 24/30\n",
            "22/22 [==============================] - 5s 236ms/step - loss: 0.3795 - accuracy: 0.9519 - val_loss: 0.4577 - val_accuracy: 0.8131\n",
            "Epoch 25/30\n",
            "22/22 [==============================] - 5s 227ms/step - loss: 0.3754 - accuracy: 0.9572 - val_loss: 0.4569 - val_accuracy: 0.8198\n",
            "Epoch 26/30\n",
            "22/22 [==============================] - 5s 227ms/step - loss: 0.3724 - accuracy: 0.9612 - val_loss: 0.4549 - val_accuracy: 0.8236\n",
            "Epoch 27/30\n",
            "22/22 [==============================] - 5s 233ms/step - loss: 0.3706 - accuracy: 0.9611 - val_loss: 0.4568 - val_accuracy: 0.8123\n",
            "Epoch 28/30\n",
            "22/22 [==============================] - 5s 228ms/step - loss: 0.3669 - accuracy: 0.9636 - val_loss: 0.4510 - val_accuracy: 0.8228\n",
            "Epoch 29/30\n",
            "22/22 [==============================] - 5s 227ms/step - loss: 0.3653 - accuracy: 0.9638 - val_loss: 0.4481 - val_accuracy: 0.8281\n",
            "Epoch 30/30\n",
            "22/22 [==============================] - 5s 227ms/step - loss: 0.3638 - accuracy: 0.9630 - val_loss: 0.4558 - val_accuracy: 0.8123\n"
          ]
        }
      ],
      "source": [
        "\n",
        "history = model2.fit([x_train_int_np,x_train_masks_np],\n",
        "                    y_train,\n",
        "                    epochs=30,\n",
        "                    batch_size=512,\n",
        "                    validation_data=([x_dev_int_np,x_dev_masks_np], y_dev),\n",
        "                    verbose=1)"
      ]
    },
    {
      "cell_type": "code",
      "execution_count": null,
      "metadata": {
        "id": "rs0_vvG6UQtv",
        "colab": {
          "base_uri": "https://localhost:8080/"
        },
        "outputId": "83100e5d-745b-466a-8d3c-719ae703b241"
      },
      "outputs": [
        {
          "output_type": "stream",
          "name": "stdout",
          "text": [
            "42/42 [==============================] - 2s 23ms/step - loss: 0.4474 - accuracy: 0.8241\n",
            "[0.44738686084747314, 0.8241018056869507]\n"
          ]
        }
      ],
      "source": [
        "results = model2.evaluate([x_test_int_np,x_test_masks_np], y_test)\n",
        "print(results)"
      ]
    },
    {
      "cell_type": "code",
      "source": [
        "print()\n",
        "print('Below are the evaluation Results')\n",
        "print(f\"Test Loss: {results[0]}, Test Accuracy: {results[1]}\")\n",
        "print()\n",
        "print('Below are the learning curves')\n",
        "plot_history(history.history, path=\"std.png\")\n",
        "plt.show()"
      ],
      "metadata": {
        "colab": {
          "base_uri": "https://localhost:8080/",
          "height": 615
        },
        "id": "t3vAtDmYLJh6",
        "outputId": "98b95f62-fd26-4cbd-dd6e-f05a9afa6c51"
      },
      "execution_count": null,
      "outputs": [
        {
          "output_type": "stream",
          "name": "stdout",
          "text": [
            "\n",
            "Below are the evaluation Results\n",
            "Test Loss: 0.44738686084747314, Test Accuracy: 0.8241018056869507\n",
            "\n",
            "Below are the learning curves\n"
          ]
        },
        {
          "output_type": "display_data",
          "data": {
            "text/plain": [
              "<Figure size 1000x500 with 2 Axes>"
            ],
            "image/png": "[encoded data removed]"
          },
          "metadata": {
            "needs_background": "light"
          }
        }
      ]
    },
    {
      "cell_type": "markdown",
      "metadata": {
        "id": "awOphcCnhEwv"
      },
      "source": [
        "## Model 3: CNN or LSTM with BERT"
      ]
    },
    {
      "cell_type": "markdown",
      "metadata": {
        "id": "E5codSzohQ_9"
      },
      "source": [
        "Please follow the architecture for model2 to construct a CNN or an LSTM model on the top of BERT."
      ]
    },
    {
      "cell_type": "code",
      "execution_count": null,
      "metadata": {
        "id": "JMiiWhW4hPRA"
      },
      "outputs": [],
      "source": [
        "# your code goes here\n",
        "class GlobalAveragePooling1DMasked(GlobalAveragePooling1D):\n",
        "    def call(self, x, mask=None):\n",
        "        if mask != None:\n",
        "            return K.sum(x, axis=1) / K.sum(mask, axis=1)\n",
        "        else:\n",
        "            return super().call(x)\n"
      ]
    },
    {
      "cell_type": "code",
      "source": [
        "from transformers import TFDistilBertModel, DistilBertConfig, TFBertModel\n",
        "\n",
        "from tensorflow.keras.layers import Input, Conv1D, GlobalMaxPooling1D, Dense\n",
        "from tensorflow.keras.models import Model\n",
        "\n",
        "def get_BERT_layer():\n",
        "    distil_bert = 'distilbert-base-uncased'\n",
        "    config = DistilBertConfig(dropout=0.2, attention_dropout=0.2)\n",
        "    config.output_hidden_states = False\n",
        "    return TFDistilBertModel.from_pretrained(distil_bert, config=config)\n",
        "\n",
        "def get_BERT_layer():\n",
        "  distil_bert = 'distilbert-base-uncased'\n",
        "  config = DistilBertConfig(dropout=0.2, attention_dropout=0.2)\n",
        "  config.output_hidden_states = False\n",
        "  return TFDistilBertModel.from_pretrained(distil_bert, config = config)"
      ],
      "metadata": {
        "id": "mb-fKm-O0CRD"
      },
      "execution_count": null,
      "outputs": []
    },
    {
      "cell_type": "code",
      "source": [
        "# your code goes here\n",
        "import tensorflow as tf\n",
        "from tensorflow.keras.layers import Conv1D, MaxPooling1D, Dropout, Flatten, GlobalMaxPooling1D\n",
        "\n",
        "hdepth=16\n",
        "MAX_SEQUENCE_LENGTH = 128\n",
        "EMBED_SIZE=100\n",
        "\n",
        "#ONLY TRIED - CNN ON BERT\n",
        "\n",
        "\n",
        "def create_CNN_BERT():\n",
        "\n",
        "    input_ids_in = Input(shape=(128,), name='input_token', dtype='int32')\n",
        "    input_masks_in = Input(shape=(128,), name='masked_token', dtype='int32')\n",
        "    bert_layer = TFBertModel.from_pretrained('bert-base-uncased')\n",
        "    bert_layer.trainable = False\n",
        "    bert_output = bert_layer(input_ids_in, attention_mask=input_masks_in)\n",
        "\n",
        "    cnn_layer = Conv1D(filters=32, kernel_size=3, padding='same', activation='relu')(bert_output[0])\n",
        "    cnn_layer = MaxPooling1D(pool_size=2)(cnn_layer)\n",
        "    cnn_layer = Conv1D(filters=64, kernel_size=3, padding='same', activation='relu')(cnn_layer)\n",
        "    cnn_layer = MaxPooling1D(pool_size=2)(cnn_layer)\n",
        "    cnn_layer = Conv1D(filters=128, kernel_size=3, padding='same', activation='relu')(cnn_layer)\n",
        "    cnn_layer = MaxPooling1D(pool_size=2)(cnn_layer)\n",
        "    cnn_layer = Flatten()(cnn_layer)\n",
        "    cnn_layer = Dense(units=64, activation='relu')(cnn_layer)\n",
        "    cnn_layer = Dropout(rate=0.2)(cnn_layer)\n",
        "    output_layer = Dense(units=3, activation='softmax')(cnn_layer)\n",
        "\n",
        "    model = Model(inputs=[input_ids_in, input_masks_in], outputs=output_layer, name='Model2_CNN_BERT')\n",
        "    return model\n",
        "\n",
        "def create_bag_of_words_CNN():\n",
        "    input_layer = tf.keras.layers.Input(shape=(MAX_SEQUENCE_LENGTH,), dtype='int32')\n",
        "    embedding_layer = tf.keras.layers.Embedding(vocab_size, EMBED_SIZE, input_length=MAX_SEQUENCE_LENGTH)(input_layer)\n",
        "\n",
        "    # Convolutional layers\n",
        "    conv1 = tf.keras.layers.Conv1D(filters=64, kernel_size=3, padding='same', activation='relu')(embedding_layer)\n",
        "    pool1 = tf.keras.layers.MaxPooling1D(pool_size=2)(conv1)\n",
        "    conv2 = tf.keras.layers.Conv1D(filters=128, kernel_size=3, padding='same', activation='relu')(pool1)\n",
        "    pool2 = tf.keras.layers.MaxPooling1D(pool_size=2)(conv2)\n",
        "    conv3 = tf.keras.layers.Conv1D(filters=256, kernel_size=3, padding='same', activation='relu')(pool2)\n",
        "    pool3 = tf.keras.layers.MaxPooling1D(pool_size=2)(conv3)\n",
        "\n",
        "    # Flatten and output layers\n",
        "    flatten = tf.keras.layers.Flatten()(pool3)\n",
        "    hidden_output = Dense(hdepth, activation='sigmoid', kernel_initializer='glorot_uniform')(flatten) # Sigmoid\n",
        "    label = Dense(3, activation='softmax', kernel_initializer='glorot_uniform')(hidden_output)\n",
        "\n",
        "    return tf.keras.models.Model(inputs=input_layer, outputs=label, name='Model2_CNN')\n",
        "\n",
        "\n",
        "\n",
        "use_tpu = True\n",
        "if use_tpu:\n",
        "    # Create distribution strategy\n",
        "    tpu = tf.distribute.cluster_resolver.TPUClusterResolver()\n",
        "    tf.config.experimental_connect_to_cluster(tpu)\n",
        "    tf.tpu.experimental.initialize_tpu_system(tpu)\n",
        "    strategy = tf.distribute.experimental.TPUStrategy(tpu)\n",
        "\n",
        "    # Create model\n",
        "    with strategy.scope():\n",
        "        model3 = create_bag_of_words_CNN()\n",
        "        optimizer3 = tf.keras.optimizers.Adam(lr=5e-5)\n",
        "        model3.compile(optimizer=optimizer3, loss='binary_crossentropy', metrics=['accuracy'])\n",
        "else:\n",
        "    model3 = create_bag_of_words_CNN()\n",
        "    model3.compile(optimizer='adam',\n",
        "                loss='binary_crossentropy',\n",
        "                metrics=['accuracy'])\n",
        "\n"
      ],
      "metadata": {
        "colab": {
          "base_uri": "https://localhost:8080/",
          "height": 240,
          "referenced_widgets": [
            "764c1c129d0d47f684aad81e646a45a0",
            "5515a6ee5b9b4d2ba1b247f3638893fe",
            "9e7d6089434f4a16b93d57f3c347a6fc",
            "700e87eb7c3948c08ab14359e9bc8f3d",
            "47fa266b5ed04ed995e409511f5f8441",
            "a50f0f488cc64cfe8fcfc0dd8124fc75",
            "c9140e38ae81462e91589bcda8281233",
            "54dcf1874bdb4f70a5bbe2bc99dd8065",
            "e3e45fced45a465b982d330785f6f977",
            "516e682ffcfe43029b837d9f16a7e430",
            "1da9c9f43d4648de9d11cb755982795d",
            "b0c99afc5c914d1591ffcbac909d29c7",
            "1fd0226746f142d3983b5477b63ad6f1",
            "3a6682b18de64c6a9ffbcb2d1666f955",
            "885335cbb5db42ddb39189abea82d37b",
            "0f670aa939ab465080fbd16a3965dcb1",
            "77d985297d7c4d6f95fbc7086a885bfe",
            "46c7d76fa44b4f28af30fd299cc77394",
            "283d04f221244ed98edb54511ac5a0d7",
            "bd6e2722b52c4422a64d8bf94d4ba40a",
            "508c04f2d3314da0b6a9f4b47a47ac5d",
            "d81ed0c26fea46ef9041db6ebfe941c7"
          ]
        },
        "id": "AzHQ6kzkRQQw",
        "outputId": "61194e9b-736a-4b68-c3ef-7d91dcb28f9c"
      },
      "execution_count": null,
      "outputs": [
        {
          "output_type": "stream",
          "name": "stderr",
          "text": [
            "WARNING:tensorflow:TPU system grpc://10.2.54.66:8470 has already been initialized. Reinitializing the TPU can cause previously created variables on TPU to be lost.\n",
            "WARNING:absl:`tf.distribute.experimental.TPUStrategy` is deprecated, please use  the non experimental symbol `tf.distribute.TPUStrategy` instead.\n"
          ]
        },
        {
          "output_type": "display_data",
          "data": {
            "text/plain": [
              "Downloading (…)lve/main/config.json:   0%|          | 0.00/570 [00:00<?, ?B/s]"
            ],
            "application/vnd.jupyter.widget-view+json": {
              "version_major": 2,
              "version_minor": 0,
              "model_id": "764c1c129d0d47f684aad81e646a45a0"
            }
          },
          "metadata": {}
        },
        {
          "output_type": "display_data",
          "data": {
            "text/plain": [
              "Downloading tf_model.h5:   0%|          | 0.00/536M [00:00<?, ?B/s]"
            ],
            "application/vnd.jupyter.widget-view+json": {
              "version_major": 2,
              "version_minor": 0,
              "model_id": "b0c99afc5c914d1591ffcbac909d29c7"
            }
          },
          "metadata": {}
        },
        {
          "output_type": "stream",
          "name": "stderr",
          "text": [
            "Some layers from the model checkpoint at bert-base-uncased were not used when initializing TFBertModel: ['mlm___cls', 'nsp___cls']\n",
            "- This IS expected if you are initializing TFBertModel from the checkpoint of a model trained on another task or with another architecture (e.g. initializing a BertForSequenceClassification model from a BertForPreTraining model).\n",
            "- This IS NOT expected if you are initializing TFBertModel from the checkpoint of a model that you expect to be exactly identical (initializing a BertForSequenceClassification model from a BertForSequenceClassification model).\n",
            "All the layers of TFBertModel were initialized from the model checkpoint at bert-base-uncased.\n",
            "If your task is similar to the task the model of the checkpoint was trained on, you can already use TFBertModel for predictions without further training.\n",
            "WARNING:absl:`lr` is deprecated, please use `learning_rate` instead, or use the legacy optimizer, e.g.,tf.keras.optimizers.legacy.Adam.\n"
          ]
        }
      ]
    },
    {
      "cell_type": "code",
      "execution_count": null,
      "metadata": {
        "id": "zcp7R1035ozX",
        "colab": {
          "base_uri": "https://localhost:8080/"
        },
        "outputId": "b8dd17d0-bec6-4d24-d60b-a1dc3e0bcc38"
      },
      "outputs": [
        {
          "output_type": "stream",
          "name": "stdout",
          "text": [
            "Model: \"Model2_CNN_BERT\"\n",
            "__________________________________________________________________________________________________\n",
            " Layer (type)                   Output Shape         Param #     Connected to                     \n",
            "==================================================================================================\n",
            " input_token (InputLayer)       [(None, 128)]        0           []                               \n",
            "                                                                                                  \n",
            " masked_token (InputLayer)      [(None, 128)]        0           []                               \n",
            "                                                                                                  \n",
            " tf_bert_model (TFBertModel)    TFBaseModelOutputWi  109482240   ['input_token[0][0]',            \n",
            "                                thPoolingAndCrossAt               'masked_token[0][0]']           \n",
            "                                tentions(last_hidde                                               \n",
            "                                n_state=(None, 128,                                               \n",
            "                                 768),                                                            \n",
            "                                 pooler_output=(Non                                               \n",
            "                                e, 768),                                                          \n",
            "                                 past_key_values=No                                               \n",
            "                                ne, hidden_states=N                                               \n",
            "                                one, attentions=Non                                               \n",
            "                                e, cross_attentions                                               \n",
            "                                =None)                                                            \n",
            "                                                                                                  \n",
            " conv1d_28 (Conv1D)             (None, 128, 32)      73760       ['tf_bert_model[0][0]']          \n",
            "                                                                                                  \n",
            " max_pooling1d_6 (MaxPooling1D)  (None, 64, 32)      0           ['conv1d_28[0][0]']              \n",
            "                                                                                                  \n",
            " conv1d_29 (Conv1D)             (None, 64, 64)       6208        ['max_pooling1d_6[0][0]']        \n",
            "                                                                                                  \n",
            " max_pooling1d_7 (MaxPooling1D)  (None, 32, 64)      0           ['conv1d_29[0][0]']              \n",
            "                                                                                                  \n",
            " conv1d_30 (Conv1D)             (None, 32, 128)      24704       ['max_pooling1d_7[0][0]']        \n",
            "                                                                                                  \n",
            " max_pooling1d_8 (MaxPooling1D)  (None, 16, 128)     0           ['conv1d_30[0][0]']              \n",
            "                                                                                                  \n",
            " flatten_4 (Flatten)            (None, 2048)         0           ['max_pooling1d_8[0][0]']        \n",
            "                                                                                                  \n",
            " dense_71 (Dense)               (None, 64)           131136      ['flatten_4[0][0]']              \n",
            "                                                                                                  \n",
            " dropout_933 (Dropout)          (None, 64)           0           ['dense_71[0][0]']               \n",
            "                                                                                                  \n",
            " dense_72 (Dense)               (None, 3)            195         ['dropout_933[0][0]']            \n",
            "                                                                                                  \n",
            "==================================================================================================\n",
            "Total params: 109,718,243\n",
            "Trainable params: 236,003\n",
            "Non-trainable params: 109,482,240\n",
            "__________________________________________________________________________________________________\n"
          ]
        }
      ],
      "source": [
        "model3.summary()"
      ]
    },
    {
      "cell_type": "code",
      "execution_count": null,
      "metadata": {
        "id": "c9HmJNzNpIEM",
        "colab": {
          "base_uri": "https://localhost:8080/"
        },
        "outputId": "90e70fbf-492d-4e40-be83-7b5113aafe75"
      },
      "outputs": [
        {
          "output_type": "stream",
          "name": "stdout",
          "text": [
            "Epoch 1/30\n",
            "22/22 [==============================] - 70s 2s/step - loss: 0.6025 - accuracy: 0.4521 - val_loss: 0.5606 - val_accuracy: 0.5045\n",
            "Epoch 2/30\n",
            "22/22 [==============================] - 4s 194ms/step - loss: 0.5562 - accuracy: 0.5235 - val_loss: 0.5251 - val_accuracy: 0.5661\n",
            "Epoch 3/30\n",
            "22/22 [==============================] - 4s 178ms/step - loss: 0.5211 - accuracy: 0.5776 - val_loss: 0.4981 - val_accuracy: 0.5983\n",
            "Epoch 4/30\n",
            "22/22 [==============================] - 4s 179ms/step - loss: 0.4949 - accuracy: 0.6092 - val_loss: 0.4844 - val_accuracy: 0.6194\n",
            "Epoch 5/30\n",
            "22/22 [==============================] - 4s 181ms/step - loss: 0.4800 - accuracy: 0.6271 - val_loss: 0.4785 - val_accuracy: 0.6329\n",
            "Epoch 6/30\n",
            "22/22 [==============================] - 4s 175ms/step - loss: 0.4790 - accuracy: 0.6312 - val_loss: 0.4671 - val_accuracy: 0.6374\n",
            "Epoch 7/30\n",
            "22/22 [==============================] - 4s 185ms/step - loss: 0.4628 - accuracy: 0.6447 - val_loss: 0.4614 - val_accuracy: 0.6434\n",
            "Epoch 8/30\n",
            "22/22 [==============================] - 4s 186ms/step - loss: 0.4539 - accuracy: 0.6542 - val_loss: 0.4611 - val_accuracy: 0.6517\n",
            "Epoch 9/30\n",
            "22/22 [==============================] - 4s 191ms/step - loss: 0.4514 - accuracy: 0.6543 - val_loss: 0.4825 - val_accuracy: 0.6336\n",
            "Epoch 10/30\n",
            "22/22 [==============================] - 4s 182ms/step - loss: 0.4510 - accuracy: 0.6576 - val_loss: 0.4631 - val_accuracy: 0.6569\n",
            "Epoch 11/30\n",
            "22/22 [==============================] - 4s 182ms/step - loss: 0.4348 - accuracy: 0.6728 - val_loss: 0.4670 - val_accuracy: 0.6509\n",
            "Epoch 12/30\n",
            "22/22 [==============================] - 4s 186ms/step - loss: 0.4311 - accuracy: 0.6785 - val_loss: 0.4573 - val_accuracy: 0.6614\n",
            "Epoch 13/30\n",
            "22/22 [==============================] - 4s 178ms/step - loss: 0.4234 - accuracy: 0.6842 - val_loss: 0.4512 - val_accuracy: 0.6644\n",
            "Epoch 14/30\n",
            "22/22 [==============================] - 4s 177ms/step - loss: 0.4164 - accuracy: 0.6910 - val_loss: 0.4566 - val_accuracy: 0.6689\n",
            "Epoch 15/30\n",
            "22/22 [==============================] - 4s 181ms/step - loss: 0.4107 - accuracy: 0.6983 - val_loss: 0.4467 - val_accuracy: 0.6779\n",
            "Epoch 16/30\n",
            "22/22 [==============================] - 4s 187ms/step - loss: 0.4041 - accuracy: 0.7116 - val_loss: 0.4439 - val_accuracy: 0.6899\n",
            "Epoch 17/30\n",
            "22/22 [==============================] - 4s 182ms/step - loss: 0.3968 - accuracy: 0.7114 - val_loss: 0.4430 - val_accuracy: 0.6764\n",
            "Epoch 18/30\n",
            "22/22 [==============================] - 4s 182ms/step - loss: 0.3929 - accuracy: 0.7163 - val_loss: 0.4430 - val_accuracy: 0.6727\n",
            "Epoch 19/30\n",
            "22/22 [==============================] - 4s 185ms/step - loss: 0.3876 - accuracy: 0.7237 - val_loss: 0.4477 - val_accuracy: 0.6727\n",
            "Epoch 20/30\n",
            "22/22 [==============================] - 4s 179ms/step - loss: 0.3821 - accuracy: 0.7297 - val_loss: 0.4743 - val_accuracy: 0.6712\n",
            "Epoch 21/30\n",
            "22/22 [==============================] - 4s 182ms/step - loss: 0.3771 - accuracy: 0.7289 - val_loss: 0.4473 - val_accuracy: 0.6757\n",
            "Epoch 22/30\n",
            "22/22 [==============================] - 4s 185ms/step - loss: 0.3729 - accuracy: 0.7352 - val_loss: 0.4564 - val_accuracy: 0.6749\n",
            "Epoch 23/30\n",
            "22/22 [==============================] - 4s 188ms/step - loss: 0.3741 - accuracy: 0.7358 - val_loss: 0.4674 - val_accuracy: 0.6682\n",
            "Epoch 24/30\n",
            "22/22 [==============================] - 4s 177ms/step - loss: 0.3608 - accuracy: 0.7426 - val_loss: 0.4608 - val_accuracy: 0.6652\n",
            "Epoch 25/30\n",
            "22/22 [==============================] - 4s 177ms/step - loss: 0.3536 - accuracy: 0.7523 - val_loss: 0.4590 - val_accuracy: 0.6809\n",
            "Epoch 26/30\n",
            "22/22 [==============================] - 4s 188ms/step - loss: 0.3528 - accuracy: 0.7538 - val_loss: 0.4837 - val_accuracy: 0.6577\n",
            "Epoch 27/30\n",
            "22/22 [==============================] - 4s 175ms/step - loss: 0.3581 - accuracy: 0.7475 - val_loss: 0.4798 - val_accuracy: 0.6802\n",
            "Epoch 28/30\n",
            "22/22 [==============================] - 4s 178ms/step - loss: 0.3429 - accuracy: 0.7604 - val_loss: 0.4876 - val_accuracy: 0.6539\n",
            "Epoch 29/30\n",
            "22/22 [==============================] - 4s 176ms/step - loss: 0.3339 - accuracy: 0.7703 - val_loss: 0.4631 - val_accuracy: 0.6584\n",
            "Epoch 30/30\n",
            "22/22 [==============================] - 4s 182ms/step - loss: 0.3266 - accuracy: 0.7755 - val_loss: 0.4818 - val_accuracy: 0.6704\n"
          ]
        }
      ],
      "source": [
        "history = model3.fit([x_train_int_np,x_train_masks_np],\n",
        "                    y_train,\n",
        "                    epochs=30,\n",
        "                    batch_size=512,\n",
        "                    validation_data=([x_dev_int_np,x_dev_masks_np], y_dev),\n",
        "                    verbose=1)\n"
      ]
    },
    {
      "cell_type": "code",
      "execution_count": null,
      "metadata": {
        "id": "W7TXLjQhpY--",
        "colab": {
          "base_uri": "https://localhost:8080/",
          "height": 632
        },
        "outputId": "6a8f7e25-94a8-46e2-984d-5153b9892c6a"
      },
      "outputs": [
        {
          "output_type": "stream",
          "name": "stdout",
          "text": [
            "42/42 [==============================] - 13s 157ms/step - loss: 0.4643 - accuracy: 0.6961\n",
            "\n",
            "Below are the evaluation Results\n",
            "Test Loss: 0.4642699062824249, Test Accuracy: 0.696107804775238\n",
            "\n",
            "Below are the learning curves\n"
          ]
        },
        {
          "output_type": "display_data",
          "data": {
            "text/plain": [
              "<Figure size 1000x500 with 2 Axes>"
            ],
            "image/png": "[encoded data removed]"
          },
          "metadata": {
            "needs_background": "light"
          }
        }
      ],
      "source": [
        "results = model3.evaluate([x_test_int_np,x_test_masks_np], y_test)\n",
        "print()\n",
        "print('Below are the evaluation Results')\n",
        "print(f\"Test Loss: {results[0]}, Test Accuracy: {results[1]}\")\n",
        "print()\n",
        "print('Below are the learning curves')\n",
        "plot_history(history.history, path=\"std.png\")\n",
        "plt.show()"
      ]
    },
    {
      "cell_type": "markdown",
      "source": [
        "To try LSTM architecture on the model, refer to https://aclanthology.org/W19-6120.pdf"
      ],
      "metadata": {
        "id": "T9WkO2SwPnh9"
      }
    },
    {
      "cell_type": "code",
      "source": [],
      "metadata": {
        "id": "TTEDaWnIShdo"
      },
      "execution_count": null,
      "outputs": []
    }
  ],
  "metadata": {
    "accelerator": "TPU",
    "colab": {
      "provenance": [],
      "gpuClass": "premium"
    },
    "gpuClass": "premium",
    "kernelspec": {
      "display_name": "Python 3 (ipykernel)",
      "language": "python",
      "name": "python3"
    },
    "language_info": {
      "codemirror_mode": {
        "name": "ipython",
        "version": 3
      },
      "file_extension": ".py",
      "mimetype": "text/x-python",
      "name": "python",
      "nbconvert_exporter": "python",
      "pygments_lexer": "ipython3",
      "version": "3.10.7"
    },
    "widgets": {
      "application/vnd.jupyter.widget-state+json": {
        "764c1c129d0d47f684aad81e646a45a0": {
          "model_module": "@jupyter-widgets/controls",
          "model_name": "HBoxModel",
          "model_module_version": "1.5.0",
          "state": {
            "_dom_classes": [],
            "_model_module": "@jupyter-widgets/controls",
            "_model_module_version": "1.5.0",
            "_model_name": "HBoxModel",
            "_view_count": null,
            "_view_module": "@jupyter-widgets/controls",
            "_view_module_version": "1.5.0",
            "_view_name": "HBoxView",
            "box_style": "",
            "children": [
              "IPY_MODEL_5515a6ee5b9b4d2ba1b247f3638893fe",
              "IPY_MODEL_9e7d6089434f4a16b93d57f3c347a6fc",
              "IPY_MODEL_700e87eb7c3948c08ab14359e9bc8f3d"
            ],
            "layout": "IPY_MODEL_47fa266b5ed04ed995e409511f5f8441"
          }
        },
        "5515a6ee5b9b4d2ba1b247f3638893fe": {
          "model_module": "@jupyter-widgets/controls",
          "model_name": "HTMLModel",
          "model_module_version": "1.5.0",
          "state": {
            "_dom_classes": [],
            "_model_module": "@jupyter-widgets/controls",
            "_model_module_version": "1.5.0",
            "_model_name": "HTMLModel",
            "_view_count": null,
            "_view_module": "@jupyter-widgets/controls",
            "_view_module_version": "1.5.0",
            "_view_name": "HTMLView",
            "description": "",
            "description_tooltip": null,
            "layout": "IPY_MODEL_a50f0f488cc64cfe8fcfc0dd8124fc75",
            "placeholder": "​",
            "style": "IPY_MODEL_c9140e38ae81462e91589bcda8281233",
            "value": "Downloading (…)lve/main/config.json: 100%"
          }
        },
        "9e7d6089434f4a16b93d57f3c347a6fc": {
          "model_module": "@jupyter-widgets/controls",
          "model_name": "FloatProgressModel",
          "model_module_version": "1.5.0",
          "state": {
            "_dom_classes": [],
            "_model_module": "@jupyter-widgets/controls",
            "_model_module_version": "1.5.0",
            "_model_name": "FloatProgressModel",
            "_view_count": null,
            "_view_module": "@jupyter-widgets/controls",
            "_view_module_version": "1.5.0",
            "_view_name": "ProgressView",
            "bar_style": "success",
            "description": "",
            "description_tooltip": null,
            "layout": "IPY_MODEL_54dcf1874bdb4f70a5bbe2bc99dd8065",
            "max": 570,
            "min": 0,
            "orientation": "horizontal",
            "style": "IPY_MODEL_e3e45fced45a465b982d330785f6f977",
            "value": 570
          }
        },
        "700e87eb7c3948c08ab14359e9bc8f3d": {
          "model_module": "@jupyter-widgets/controls",
          "model_name": "HTMLModel",
          "model_module_version": "1.5.0",
          "state": {
            "_dom_classes": [],
            "_model_module": "@jupyter-widgets/controls",
            "_model_module_version": "1.5.0",
            "_model_name": "HTMLModel",
            "_view_count": null,
            "_view_module": "@jupyter-widgets/controls",
            "_view_module_version": "1.5.0",
            "_view_name": "HTMLView",
            "description": "",
            "description_tooltip": null,
            "layout": "IPY_MODEL_516e682ffcfe43029b837d9f16a7e430",
            "placeholder": "​",
            "style": "IPY_MODEL_1da9c9f43d4648de9d11cb755982795d",
            "value": " 570/570 [00:00&lt;00:00, 12.9kB/s]"
          }
        },
        "47fa266b5ed04ed995e409511f5f8441": {
          "model_module": "@jupyter-widgets/base",
          "model_name": "LayoutModel",
          "model_module_version": "1.2.0",
          "state": {
            "_model_module": "@jupyter-widgets/base",
            "_model_module_version": "1.2.0",
            "_model_name": "LayoutModel",
            "_view_count": null,
            "_view_module": "@jupyter-widgets/base",
            "_view_module_version": "1.2.0",
            "_view_name": "LayoutView",
            "align_content": null,
            "align_items": null,
            "align_self": null,
            "border": null,
            "bottom": null,
            "display": null,
            "flex": null,
            "flex_flow": null,
            "grid_area": null,
            "grid_auto_columns": null,
            "grid_auto_flow": null,
            "grid_auto_rows": null,
            "grid_column": null,
            "grid_gap": null,
            "grid_row": null,
            "grid_template_areas": null,
            "grid_template_columns": null,
            "grid_template_rows": null,
            "height": null,
            "justify_content": null,
            "justify_items": null,
            "left": null,
            "margin": null,
            "max_height": null,
            "max_width": null,
            "min_height": null,
            "min_width": null,
            "object_fit": null,
            "object_position": null,
            "order": null,
            "overflow": null,
            "overflow_x": null,
            "overflow_y": null,
            "padding": null,
            "right": null,
            "top": null,
            "visibility": null,
            "width": null
          }
        },
        "a50f0f488cc64cfe8fcfc0dd8124fc75": {
          "model_module": "@jupyter-widgets/base",
          "model_name": "LayoutModel",
          "model_module_version": "1.2.0",
          "state": {
            "_model_module": "@jupyter-widgets/base",
            "_model_module_version": "1.2.0",
            "_model_name": "LayoutModel",
            "_view_count": null,
            "_view_module": "@jupyter-widgets/base",
            "_view_module_version": "1.2.0",
            "_view_name": "LayoutView",
            "align_content": null,
            "align_items": null,
            "align_self": null,
            "border": null,
            "bottom": null,
            "display": null,
            "flex": null,
            "flex_flow": null,
            "grid_area": null,
            "grid_auto_columns": null,
            "grid_auto_flow": null,
            "grid_auto_rows": null,
            "grid_column": null,
            "grid_gap": null,
            "grid_row": null,
            "grid_template_areas": null,
            "grid_template_columns": null,
            "grid_template_rows": null,
            "height": null,
            "justify_content": null,
            "justify_items": null,
            "left": null,
            "margin": null,
            "max_height": null,
            "max_width": null,
            "min_height": null,
            "min_width": null,
            "object_fit": null,
            "object_position": null,
            "order": null,
            "overflow": null,
            "overflow_x": null,
            "overflow_y": null,
            "padding": null,
            "right": null,
            "top": null,
            "visibility": null,
            "width": null
          }
        },
        "c9140e38ae81462e91589bcda8281233": {
          "model_module": "@jupyter-widgets/controls",
          "model_name": "DescriptionStyleModel",
          "model_module_version": "1.5.0",
          "state": {
            "_model_module": "@jupyter-widgets/controls",
            "_model_module_version": "1.5.0",
            "_model_name": "DescriptionStyleModel",
            "_view_count": null,
            "_view_module": "@jupyter-widgets/base",
            "_view_module_version": "1.2.0",
            "_view_name": "StyleView",
            "description_width": ""
          }
        },
        "54dcf1874bdb4f70a5bbe2bc99dd8065": {
          "model_module": "@jupyter-widgets/base",
          "model_name": "LayoutModel",
          "model_module_version": "1.2.0",
          "state": {
            "_model_module": "@jupyter-widgets/base",
            "_model_module_version": "1.2.0",
            "_model_name": "LayoutModel",
            "_view_count": null,
            "_view_module": "@jupyter-widgets/base",
            "_view_module_version": "1.2.0",
            "_view_name": "LayoutView",
            "align_content": null,
            "align_items": null,
            "align_self": null,
            "border": null,
            "bottom": null,
            "display": null,
            "flex": null,
            "flex_flow": null,
            "grid_area": null,
            "grid_auto_columns": null,
            "grid_auto_flow": null,
            "grid_auto_rows": null,
            "grid_column": null,
            "grid_gap": null,
            "grid_row": null,
            "grid_template_areas": null,
            "grid_template_columns": null,
            "grid_template_rows": null,
            "height": null,
            "justify_content": null,
            "justify_items": null,
            "left": null,
            "margin": null,
            "max_height": null,
            "max_width": null,
            "min_height": null,
            "min_width": null,
            "object_fit": null,
            "object_position": null,
            "order": null,
            "overflow": null,
            "overflow_x": null,
            "overflow_y": null,
            "padding": null,
            "right": null,
            "top": null,
            "visibility": null,
            "width": null
          }
        },
        "e3e45fced45a465b982d330785f6f977": {
          "model_module": "@jupyter-widgets/controls",
          "model_name": "ProgressStyleModel",
          "model_module_version": "1.5.0",
          "state": {
            "_model_module": "@jupyter-widgets/controls",
            "_model_module_version": "1.5.0",
            "_model_name": "ProgressStyleModel",
            "_view_count": null,
            "_view_module": "@jupyter-widgets/base",
            "_view_module_version": "1.2.0",
            "_view_name": "StyleView",
            "bar_color": null,
            "description_width": ""
          }
        },
        "516e682ffcfe43029b837d9f16a7e430": {
          "model_module": "@jupyter-widgets/base",
          "model_name": "LayoutModel",
          "model_module_version": "1.2.0",
          "state": {
            "_model_module": "@jupyter-widgets/base",
            "_model_module_version": "1.2.0",
            "_model_name": "LayoutModel",
            "_view_count": null,
            "_view_module": "@jupyter-widgets/base",
            "_view_module_version": "1.2.0",
            "_view_name": "LayoutView",
            "align_content": null,
            "align_items": null,
            "align_self": null,
            "border": null,
            "bottom": null,
            "display": null,
            "flex": null,
            "flex_flow": null,
            "grid_area": null,
            "grid_auto_columns": null,
            "grid_auto_flow": null,
            "grid_auto_rows": null,
            "grid_column": null,
            "grid_gap": null,
            "grid_row": null,
            "grid_template_areas": null,
            "grid_template_columns": null,
            "grid_template_rows": null,
            "height": null,
            "justify_content": null,
            "justify_items": null,
            "left": null,
            "margin": null,
            "max_height": null,
            "max_width": null,
            "min_height": null,
            "min_width": null,
            "object_fit": null,
            "object_position": null,
            "order": null,
            "overflow": null,
            "overflow_x": null,
            "overflow_y": null,
            "padding": null,
            "right": null,
            "top": null,
            "visibility": null,
            "width": null
          }
        },
        "1da9c9f43d4648de9d11cb755982795d": {
          "model_module": "@jupyter-widgets/controls",
          "model_name": "DescriptionStyleModel",
          "model_module_version": "1.5.0",
          "state": {
            "_model_module": "@jupyter-widgets/controls",
            "_model_module_version": "1.5.0",
            "_model_name": "DescriptionStyleModel",
            "_view_count": null,
            "_view_module": "@jupyter-widgets/base",
            "_view_module_version": "1.2.0",
            "_view_name": "StyleView",
            "description_width": ""
          }
        },
        "b0c99afc5c914d1591ffcbac909d29c7": {
          "model_module": "@jupyter-widgets/controls",
          "model_name": "HBoxModel",
          "model_module_version": "1.5.0",
          "state": {
            "_dom_classes": [],
            "_model_module": "@jupyter-widgets/controls",
            "_model_module_version": "1.5.0",
            "_model_name": "HBoxModel",
            "_view_count": null,
            "_view_module": "@jupyter-widgets/controls",
            "_view_module_version": "1.5.0",
            "_view_name": "HBoxView",
            "box_style": "",
            "children": [
              "IPY_MODEL_1fd0226746f142d3983b5477b63ad6f1",
              "IPY_MODEL_3a6682b18de64c6a9ffbcb2d1666f955",
              "IPY_MODEL_885335cbb5db42ddb39189abea82d37b"
            ],
            "layout": "IPY_MODEL_0f670aa939ab465080fbd16a3965dcb1"
          }
        },
        "1fd0226746f142d3983b5477b63ad6f1": {
          "model_module": "@jupyter-widgets/controls",
          "model_name": "HTMLModel",
          "model_module_version": "1.5.0",
          "state": {
            "_dom_classes": [],
            "_model_module": "@jupyter-widgets/controls",
            "_model_module_version": "1.5.0",
            "_model_name": "HTMLModel",
            "_view_count": null,
            "_view_module": "@jupyter-widgets/controls",
            "_view_module_version": "1.5.0",
            "_view_name": "HTMLView",
            "description": "",
            "description_tooltip": null,
            "layout": "IPY_MODEL_77d985297d7c4d6f95fbc7086a885bfe",
            "placeholder": "​",
            "style": "IPY_MODEL_46c7d76fa44b4f28af30fd299cc77394",
            "value": "Downloading tf_model.h5: 100%"
          }
        },
        "3a6682b18de64c6a9ffbcb2d1666f955": {
          "model_module": "@jupyter-widgets/controls",
          "model_name": "FloatProgressModel",
          "model_module_version": "1.5.0",
          "state": {
            "_dom_classes": [],
            "_model_module": "@jupyter-widgets/controls",
            "_model_module_version": "1.5.0",
            "_model_name": "FloatProgressModel",
            "_view_count": null,
            "_view_module": "@jupyter-widgets/controls",
            "_view_module_version": "1.5.0",
            "_view_name": "ProgressView",
            "bar_style": "success",
            "description": "",
            "description_tooltip": null,
            "layout": "IPY_MODEL_283d04f221244ed98edb54511ac5a0d7",
            "max": 536063208,
            "min": 0,
            "orientation": "horizontal",
            "style": "IPY_MODEL_bd6e2722b52c4422a64d8bf94d4ba40a",
            "value": 536063208
          }
        },
        "885335cbb5db42ddb39189abea82d37b": {
          "model_module": "@jupyter-widgets/controls",
          "model_name": "HTMLModel",
          "model_module_version": "1.5.0",
          "state": {
            "_dom_classes": [],
            "_model_module": "@jupyter-widgets/controls",
            "_model_module_version": "1.5.0",
            "_model_name": "HTMLModel",
            "_view_count": null,
            "_view_module": "@jupyter-widgets/controls",
            "_view_module_version": "1.5.0",
            "_view_name": "HTMLView",
            "description": "",
            "description_tooltip": null,
            "layout": "IPY_MODEL_508c04f2d3314da0b6a9f4b47a47ac5d",
            "placeholder": "​",
            "style": "IPY_MODEL_d81ed0c26fea46ef9041db6ebfe941c7",
            "value": " 536M/536M [00:09&lt;00:00, 55.3MB/s]"
          }
        },
        "0f670aa939ab465080fbd16a3965dcb1": {
          "model_module": "@jupyter-widgets/base",
          "model_name": "LayoutModel",
          "model_module_version": "1.2.0",
          "state": {
            "_model_module": "@jupyter-widgets/base",
            "_model_module_version": "1.2.0",
            "_model_name": "LayoutModel",
            "_view_count": null,
            "_view_module": "@jupyter-widgets/base",
            "_view_module_version": "1.2.0",
            "_view_name": "LayoutView",
            "align_content": null,
            "align_items": null,
            "align_self": null,
            "border": null,
            "bottom": null,
            "display": null,
            "flex": null,
            "flex_flow": null,
            "grid_area": null,
            "grid_auto_columns": null,
            "grid_auto_flow": null,
            "grid_auto_rows": null,
            "grid_column": null,
            "grid_gap": null,
            "grid_row": null,
            "grid_template_areas": null,
            "grid_template_columns": null,
            "grid_template_rows": null,
            "height": null,
            "justify_content": null,
            "justify_items": null,
            "left": null,
            "margin": null,
            "max_height": null,
            "max_width": null,
            "min_height": null,
            "min_width": null,
            "object_fit": null,
            "object_position": null,
            "order": null,
            "overflow": null,
            "overflow_x": null,
            "overflow_y": null,
            "padding": null,
            "right": null,
            "top": null,
            "visibility": null,
            "width": null
          }
        },
        "77d985297d7c4d6f95fbc7086a885bfe": {
          "model_module": "@jupyter-widgets/base",
          "model_name": "LayoutModel",
          "model_module_version": "1.2.0",
          "state": {
            "_model_module": "@jupyter-widgets/base",
            "_model_module_version": "1.2.0",
            "_model_name": "LayoutModel",
            "_view_count": null,
            "_view_module": "@jupyter-widgets/base",
            "_view_module_version": "1.2.0",
            "_view_name": "LayoutView",
            "align_content": null,
            "align_items": null,
            "align_self": null,
            "border": null,
            "bottom": null,
            "display": null,
            "flex": null,
            "flex_flow": null,
            "grid_area": null,
            "grid_auto_columns": null,
            "grid_auto_flow": null,
            "grid_auto_rows": null,
            "grid_column": null,
            "grid_gap": null,
            "grid_row": null,
            "grid_template_areas": null,
            "grid_template_columns": null,
            "grid_template_rows": null,
            "height": null,
            "justify_content": null,
            "justify_items": null,
            "left": null,
            "margin": null,
            "max_height": null,
            "max_width": null,
            "min_height": null,
            "min_width": null,
            "object_fit": null,
            "object_position": null,
            "order": null,
            "overflow": null,
            "overflow_x": null,
            "overflow_y": null,
            "padding": null,
            "right": null,
            "top": null,
            "visibility": null,
            "width": null
          }
        },
        "46c7d76fa44b4f28af30fd299cc77394": {
          "model_module": "@jupyter-widgets/controls",
          "model_name": "DescriptionStyleModel",
          "model_module_version": "1.5.0",
          "state": {
            "_model_module": "@jupyter-widgets/controls",
            "_model_module_version": "1.5.0",
            "_model_name": "DescriptionStyleModel",
            "_view_count": null,
            "_view_module": "@jupyter-widgets/base",
            "_view_module_version": "1.2.0",
            "_view_name": "StyleView",
            "description_width": ""
          }
        },
        "283d04f221244ed98edb54511ac5a0d7": {
          "model_module": "@jupyter-widgets/base",
          "model_name": "LayoutModel",
          "model_module_version": "1.2.0",
          "state": {
            "_model_module": "@jupyter-widgets/base",
            "_model_module_version": "1.2.0",
            "_model_name": "LayoutModel",
            "_view_count": null,
            "_view_module": "@jupyter-widgets/base",
            "_view_module_version": "1.2.0",
            "_view_name": "LayoutView",
            "align_content": null,
            "align_items": null,
            "align_self": null,
            "border": null,
            "bottom": null,
            "display": null,
            "flex": null,
            "flex_flow": null,
            "grid_area": null,
            "grid_auto_columns": null,
            "grid_auto_flow": null,
            "grid_auto_rows": null,
            "grid_column": null,
            "grid_gap": null,
            "grid_row": null,
            "grid_template_areas": null,
            "grid_template_columns": null,
            "grid_template_rows": null,
            "height": null,
            "justify_content": null,
            "justify_items": null,
            "left": null,
            "margin": null,
            "max_height": null,
            "max_width": null,
            "min_height": null,
            "min_width": null,
            "object_fit": null,
            "object_position": null,
            "order": null,
            "overflow": null,
            "overflow_x": null,
            "overflow_y": null,
            "padding": null,
            "right": null,
            "top": null,
            "visibility": null,
            "width": null
          }
        },
        "bd6e2722b52c4422a64d8bf94d4ba40a": {
          "model_module": "@jupyter-widgets/controls",
          "model_name": "ProgressStyleModel",
          "model_module_version": "1.5.0",
          "state": {
            "_model_module": "@jupyter-widgets/controls",
            "_model_module_version": "1.5.0",
            "_model_name": "ProgressStyleModel",
            "_view_count": null,
            "_view_module": "@jupyter-widgets/base",
            "_view_module_version": "1.2.0",
            "_view_name": "StyleView",
            "bar_color": null,
            "description_width": ""
          }
        },
        "508c04f2d3314da0b6a9f4b47a47ac5d": {
          "model_module": "@jupyter-widgets/base",
          "model_name": "LayoutModel",
          "model_module_version": "1.2.0",
          "state": {
            "_model_module": "@jupyter-widgets/base",
            "_model_module_version": "1.2.0",
            "_model_name": "LayoutModel",
            "_view_count": null,
            "_view_module": "@jupyter-widgets/base",
            "_view_module_version": "1.2.0",
            "_view_name": "LayoutView",
            "align_content": null,
            "align_items": null,
            "align_self": null,
            "border": null,
            "bottom": null,
            "display": null,
            "flex": null,
            "flex_flow": null,
            "grid_area": null,
            "grid_auto_columns": null,
            "grid_auto_flow": null,
            "grid_auto_rows": null,
            "grid_column": null,
            "grid_gap": null,
            "grid_row": null,
            "grid_template_areas": null,
            "grid_template_columns": null,
            "grid_template_rows": null,
            "height": null,
            "justify_content": null,
            "justify_items": null,
            "left": null,
            "margin": null,
            "max_height": null,
            "max_width": null,
            "min_height": null,
            "min_width": null,
            "object_fit": null,
            "object_position": null,
            "order": null,
            "overflow": null,
            "overflow_x": null,
            "overflow_y": null,
            "padding": null,
            "right": null,
            "top": null,
            "visibility": null,
            "width": null
          }
        },
        "d81ed0c26fea46ef9041db6ebfe941c7": {
          "model_module": "@jupyter-widgets/controls",
          "model_name": "DescriptionStyleModel",
          "model_module_version": "1.5.0",
          "state": {
            "_model_module": "@jupyter-widgets/controls",
            "_model_module_version": "1.5.0",
            "_model_name": "DescriptionStyleModel",
            "_view_count": null,
            "_view_module": "@jupyter-widgets/base",
            "_view_module_version": "1.2.0",
            "_view_name": "StyleView",
            "description_width": ""
          }
        }
      }
    }
  },
  "nbformat": 4,
  "nbformat_minor": 0
}